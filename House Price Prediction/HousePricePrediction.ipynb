{
 "cells": [
  {
   "cell_type": "markdown",
   "id": "33af4a0d",
   "metadata": {},
   "source": [
    "# House Price Prediction using Machine Learning Algorithm"
   ]
  },
  {
   "cell_type": "markdown",
   "id": "a38d12f5",
   "metadata": {},
   "source": [
    "Scrapped Data from zillow.com of Philadelphia,PA using Web Scrapper Tools and perform Machine Learning method."
   ]
  },
  {
   "cell_type": "code",
   "execution_count": 1,
   "id": "2e1efbe0",
   "metadata": {},
   "outputs": [],
   "source": [
    "#Importing Libraries\n",
    "\n",
    "import pandas as pd\n",
    "import numpy as np\n",
    "import re\n",
    "import seaborn as sns\n",
    "import matplotlib.pyplot as plt\n",
    "import warnings\n",
    "warnings.filterwarnings(\"ignore\")\n",
    "\n",
    "from sklearn.preprocessing import MinMaxScaler"
   ]
  },
  {
   "cell_type": "code",
   "execution_count": 2,
   "id": "e46e8787",
   "metadata": {},
   "outputs": [
    {
     "data": {
      "text/html": [
       "<div>\n",
       "<style scoped>\n",
       "    .dataframe tbody tr th:only-of-type {\n",
       "        vertical-align: middle;\n",
       "    }\n",
       "\n",
       "    .dataframe tbody tr th {\n",
       "        vertical-align: top;\n",
       "    }\n",
       "\n",
       "    .dataframe thead th {\n",
       "        text-align: right;\n",
       "    }\n",
       "</style>\n",
       "<table border=\"1\" class=\"dataframe\">\n",
       "  <thead>\n",
       "    <tr style=\"text-align: right;\">\n",
       "      <th></th>\n",
       "      <th>web-scraper-order</th>\n",
       "      <th>web-scraper-start-url</th>\n",
       "      <th>links</th>\n",
       "      <th>links-href</th>\n",
       "      <th>Price</th>\n",
       "      <th>Bed</th>\n",
       "      <th>Bath</th>\n",
       "      <th>sqft</th>\n",
       "      <th>Address</th>\n",
       "    </tr>\n",
       "  </thead>\n",
       "  <tbody>\n",
       "    <tr>\n",
       "      <th>0</th>\n",
       "      <td>1668608127-1</td>\n",
       "      <td>https://www.zillow.com/philadelphia-pa/?search...</td>\n",
       "      <td>7.0</td>\n",
       "      <td>https://www.zillow.com/philadelphia-pa/7_p/</td>\n",
       "      <td>$350,000</td>\n",
       "      <td>2</td>\n",
       "      <td>2</td>\n",
       "      <td>1,772</td>\n",
       "      <td>1926 South St #A, Philadelphia, PA 19146</td>\n",
       "    </tr>\n",
       "    <tr>\n",
       "      <th>1</th>\n",
       "      <td>1668608127-2</td>\n",
       "      <td>https://www.zillow.com/philadelphia-pa/?search...</td>\n",
       "      <td>7.0</td>\n",
       "      <td>https://www.zillow.com/philadelphia-pa/7_p/</td>\n",
       "      <td>$220,000</td>\n",
       "      <td>3</td>\n",
       "      <td>2</td>\n",
       "      <td>1,230</td>\n",
       "      <td>5139 Walton Ave, Philadelphia, PA 19143</td>\n",
       "    </tr>\n",
       "    <tr>\n",
       "      <th>2</th>\n",
       "      <td>1668608127-3</td>\n",
       "      <td>https://www.zillow.com/philadelphia-pa/?search...</td>\n",
       "      <td>7.0</td>\n",
       "      <td>https://www.zillow.com/philadelphia-pa/7_p/</td>\n",
       "      <td>$200,000</td>\n",
       "      <td>2</td>\n",
       "      <td>2</td>\n",
       "      <td>1,200</td>\n",
       "      <td>4011 Arendell Ave, Philadelphia, PA 19114</td>\n",
       "    </tr>\n",
       "    <tr>\n",
       "      <th>3</th>\n",
       "      <td>1668608127-4</td>\n",
       "      <td>https://www.zillow.com/philadelphia-pa/?search...</td>\n",
       "      <td>7.0</td>\n",
       "      <td>https://www.zillow.com/philadelphia-pa/7_p/</td>\n",
       "      <td>$314,500</td>\n",
       "      <td>2</td>\n",
       "      <td>1</td>\n",
       "      <td>1,643</td>\n",
       "      <td>1010 Arch St UNIT 202, Philadelphia, PA 19107</td>\n",
       "    </tr>\n",
       "    <tr>\n",
       "      <th>4</th>\n",
       "      <td>1668608127-5</td>\n",
       "      <td>https://www.zillow.com/philadelphia-pa/?search...</td>\n",
       "      <td>7.0</td>\n",
       "      <td>https://www.zillow.com/philadelphia-pa/7_p/</td>\n",
       "      <td>$355,000</td>\n",
       "      <td>4</td>\n",
       "      <td>2</td>\n",
       "      <td>1,785</td>\n",
       "      <td>1422 N 4th St, Philadelphia, PA 19122</td>\n",
       "    </tr>\n",
       "    <tr>\n",
       "      <th>...</th>\n",
       "      <td>...</td>\n",
       "      <td>...</td>\n",
       "      <td>...</td>\n",
       "      <td>...</td>\n",
       "      <td>...</td>\n",
       "      <td>...</td>\n",
       "      <td>...</td>\n",
       "      <td>...</td>\n",
       "      <td>...</td>\n",
       "    </tr>\n",
       "    <tr>\n",
       "      <th>1066</th>\n",
       "      <td>1669992948-636</td>\n",
       "      <td>https://www.zillow.com/philadelphia-pa/2_p/?se...</td>\n",
       "      <td>6.0</td>\n",
       "      <td>https://www.zillow.com/philadelphia-pa/6_p/</td>\n",
       "      <td>$120,000</td>\n",
       "      <td>3</td>\n",
       "      <td>1</td>\n",
       "      <td>1,120</td>\n",
       "      <td>6538 Reedland St, Philadelphia, PA 19142</td>\n",
       "    </tr>\n",
       "    <tr>\n",
       "      <th>1067</th>\n",
       "      <td>1669992948-637</td>\n",
       "      <td>https://www.zillow.com/philadelphia-pa/2_p/?se...</td>\n",
       "      <td>6.0</td>\n",
       "      <td>https://www.zillow.com/philadelphia-pa/6_p/</td>\n",
       "      <td>$270,000</td>\n",
       "      <td>4</td>\n",
       "      <td>2</td>\n",
       "      <td>1,170</td>\n",
       "      <td>7207 Hegerman St, Philadelphia, PA 19135</td>\n",
       "    </tr>\n",
       "    <tr>\n",
       "      <th>1068</th>\n",
       "      <td>1669992948-641</td>\n",
       "      <td>https://www.zillow.com/philadelphia-pa/2_p/?se...</td>\n",
       "      <td>6.0</td>\n",
       "      <td>https://www.zillow.com/philadelphia-pa/6_p/</td>\n",
       "      <td>$179,999</td>\n",
       "      <td>4</td>\n",
       "      <td>3</td>\n",
       "      <td>1,664</td>\n",
       "      <td>6316 N 21st St, Philadelphia, PA 19138</td>\n",
       "    </tr>\n",
       "    <tr>\n",
       "      <th>1069</th>\n",
       "      <td>1669992948-642</td>\n",
       "      <td>https://www.zillow.com/philadelphia-pa/2_p/?se...</td>\n",
       "      <td>6.0</td>\n",
       "      <td>https://www.zillow.com/philadelphia-pa/6_p/</td>\n",
       "      <td>$205,000</td>\n",
       "      <td>4</td>\n",
       "      <td>3</td>\n",
       "      <td>1,426</td>\n",
       "      <td>1500 N 61st St, Philadelphia, PA 19151</td>\n",
       "    </tr>\n",
       "    <tr>\n",
       "      <th>1070</th>\n",
       "      <td>1669992948-646</td>\n",
       "      <td>https://www.zillow.com/philadelphia-pa/2_p/?se...</td>\n",
       "      <td>6.0</td>\n",
       "      <td>https://www.zillow.com/philadelphia-pa/6_p/</td>\n",
       "      <td>$275,000</td>\n",
       "      <td>1</td>\n",
       "      <td>1</td>\n",
       "      <td>845</td>\n",
       "      <td>1500 Chestnut St APT 8D, Philadelphia, PA 19102</td>\n",
       "    </tr>\n",
       "  </tbody>\n",
       "</table>\n",
       "<p>1071 rows × 9 columns</p>\n",
       "</div>"
      ],
      "text/plain": [
       "     web-scraper-order                              web-scraper-start-url  \\\n",
       "0         1668608127-1  https://www.zillow.com/philadelphia-pa/?search...   \n",
       "1         1668608127-2  https://www.zillow.com/philadelphia-pa/?search...   \n",
       "2         1668608127-3  https://www.zillow.com/philadelphia-pa/?search...   \n",
       "3         1668608127-4  https://www.zillow.com/philadelphia-pa/?search...   \n",
       "4         1668608127-5  https://www.zillow.com/philadelphia-pa/?search...   \n",
       "...                ...                                                ...   \n",
       "1066    1669992948-636  https://www.zillow.com/philadelphia-pa/2_p/?se...   \n",
       "1067    1669992948-637  https://www.zillow.com/philadelphia-pa/2_p/?se...   \n",
       "1068    1669992948-641  https://www.zillow.com/philadelphia-pa/2_p/?se...   \n",
       "1069    1669992948-642  https://www.zillow.com/philadelphia-pa/2_p/?se...   \n",
       "1070    1669992948-646  https://www.zillow.com/philadelphia-pa/2_p/?se...   \n",
       "\n",
       "      links                                   links-href      Price Bed Bath  \\\n",
       "0       7.0  https://www.zillow.com/philadelphia-pa/7_p/  $350,000    2    2   \n",
       "1       7.0  https://www.zillow.com/philadelphia-pa/7_p/  $220,000    3    2   \n",
       "2       7.0  https://www.zillow.com/philadelphia-pa/7_p/  $200,000    2    2   \n",
       "3       7.0  https://www.zillow.com/philadelphia-pa/7_p/  $314,500    2    1   \n",
       "4       7.0  https://www.zillow.com/philadelphia-pa/7_p/  $355,000    4    2   \n",
       "...     ...                                          ...        ...  ..  ...   \n",
       "1066    6.0  https://www.zillow.com/philadelphia-pa/6_p/  $120,000    3    1   \n",
       "1067    6.0  https://www.zillow.com/philadelphia-pa/6_p/  $270,000    4    2   \n",
       "1068    6.0  https://www.zillow.com/philadelphia-pa/6_p/  $179,999    4    3   \n",
       "1069    6.0  https://www.zillow.com/philadelphia-pa/6_p/  $205,000    4    3   \n",
       "1070    6.0  https://www.zillow.com/philadelphia-pa/6_p/  $275,000    1    1   \n",
       "\n",
       "       sqft                                          Address  \n",
       "0     1,772         1926 South St #A, Philadelphia, PA 19146  \n",
       "1     1,230          5139 Walton Ave, Philadelphia, PA 19143  \n",
       "2     1,200        4011 Arendell Ave, Philadelphia, PA 19114  \n",
       "3     1,643    1010 Arch St UNIT 202, Philadelphia, PA 19107  \n",
       "4     1,785            1422 N 4th St, Philadelphia, PA 19122  \n",
       "...     ...                                              ...  \n",
       "1066  1,120         6538 Reedland St, Philadelphia, PA 19142  \n",
       "1067  1,170         7207 Hegerman St, Philadelphia, PA 19135  \n",
       "1068  1,664           6316 N 21st St, Philadelphia, PA 19138  \n",
       "1069  1,426           1500 N 61st St, Philadelphia, PA 19151  \n",
       "1070    845  1500 Chestnut St APT 8D, Philadelphia, PA 19102  \n",
       "\n",
       "[1071 rows x 9 columns]"
      ]
     },
     "execution_count": 2,
     "metadata": {},
     "output_type": "execute_result"
    }
   ],
   "source": [
    "df=pd.read_csv('Philadelphia.csv',sep=',') #Reading files from CSV file which is separated by comma\n",
    "df"
   ]
  },
  {
   "cell_type": "markdown",
   "id": "cf84ee7f",
   "metadata": {},
   "source": [
    "### Data Cleaning"
   ]
  },
  {
   "cell_type": "code",
   "execution_count": 3,
   "id": "d7c38da9",
   "metadata": {},
   "outputs": [
    {
     "data": {
      "text/html": [
       "<div>\n",
       "<style scoped>\n",
       "    .dataframe tbody tr th:only-of-type {\n",
       "        vertical-align: middle;\n",
       "    }\n",
       "\n",
       "    .dataframe tbody tr th {\n",
       "        vertical-align: top;\n",
       "    }\n",
       "\n",
       "    .dataframe thead th {\n",
       "        text-align: right;\n",
       "    }\n",
       "</style>\n",
       "<table border=\"1\" class=\"dataframe\">\n",
       "  <thead>\n",
       "    <tr style=\"text-align: right;\">\n",
       "      <th></th>\n",
       "      <th>Price</th>\n",
       "      <th>Bed</th>\n",
       "      <th>Bath</th>\n",
       "      <th>sqft</th>\n",
       "      <th>Address</th>\n",
       "    </tr>\n",
       "  </thead>\n",
       "  <tbody>\n",
       "    <tr>\n",
       "      <th>0</th>\n",
       "      <td>$350,000</td>\n",
       "      <td>2</td>\n",
       "      <td>2</td>\n",
       "      <td>1,772</td>\n",
       "      <td>1926 South St #A, Philadelphia, PA 19146</td>\n",
       "    </tr>\n",
       "    <tr>\n",
       "      <th>1</th>\n",
       "      <td>$220,000</td>\n",
       "      <td>3</td>\n",
       "      <td>2</td>\n",
       "      <td>1,230</td>\n",
       "      <td>5139 Walton Ave, Philadelphia, PA 19143</td>\n",
       "    </tr>\n",
       "    <tr>\n",
       "      <th>2</th>\n",
       "      <td>$200,000</td>\n",
       "      <td>2</td>\n",
       "      <td>2</td>\n",
       "      <td>1,200</td>\n",
       "      <td>4011 Arendell Ave, Philadelphia, PA 19114</td>\n",
       "    </tr>\n",
       "    <tr>\n",
       "      <th>3</th>\n",
       "      <td>$314,500</td>\n",
       "      <td>2</td>\n",
       "      <td>1</td>\n",
       "      <td>1,643</td>\n",
       "      <td>1010 Arch St UNIT 202, Philadelphia, PA 19107</td>\n",
       "    </tr>\n",
       "    <tr>\n",
       "      <th>4</th>\n",
       "      <td>$355,000</td>\n",
       "      <td>4</td>\n",
       "      <td>2</td>\n",
       "      <td>1,785</td>\n",
       "      <td>1422 N 4th St, Philadelphia, PA 19122</td>\n",
       "    </tr>\n",
       "    <tr>\n",
       "      <th>...</th>\n",
       "      <td>...</td>\n",
       "      <td>...</td>\n",
       "      <td>...</td>\n",
       "      <td>...</td>\n",
       "      <td>...</td>\n",
       "    </tr>\n",
       "    <tr>\n",
       "      <th>1066</th>\n",
       "      <td>$120,000</td>\n",
       "      <td>3</td>\n",
       "      <td>1</td>\n",
       "      <td>1,120</td>\n",
       "      <td>6538 Reedland St, Philadelphia, PA 19142</td>\n",
       "    </tr>\n",
       "    <tr>\n",
       "      <th>1067</th>\n",
       "      <td>$270,000</td>\n",
       "      <td>4</td>\n",
       "      <td>2</td>\n",
       "      <td>1,170</td>\n",
       "      <td>7207 Hegerman St, Philadelphia, PA 19135</td>\n",
       "    </tr>\n",
       "    <tr>\n",
       "      <th>1068</th>\n",
       "      <td>$179,999</td>\n",
       "      <td>4</td>\n",
       "      <td>3</td>\n",
       "      <td>1,664</td>\n",
       "      <td>6316 N 21st St, Philadelphia, PA 19138</td>\n",
       "    </tr>\n",
       "    <tr>\n",
       "      <th>1069</th>\n",
       "      <td>$205,000</td>\n",
       "      <td>4</td>\n",
       "      <td>3</td>\n",
       "      <td>1,426</td>\n",
       "      <td>1500 N 61st St, Philadelphia, PA 19151</td>\n",
       "    </tr>\n",
       "    <tr>\n",
       "      <th>1070</th>\n",
       "      <td>$275,000</td>\n",
       "      <td>1</td>\n",
       "      <td>1</td>\n",
       "      <td>845</td>\n",
       "      <td>1500 Chestnut St APT 8D, Philadelphia, PA 19102</td>\n",
       "    </tr>\n",
       "  </tbody>\n",
       "</table>\n",
       "<p>1071 rows × 5 columns</p>\n",
       "</div>"
      ],
      "text/plain": [
       "          Price Bed Bath   sqft  \\\n",
       "0     $350,000    2    2  1,772   \n",
       "1     $220,000    3    2  1,230   \n",
       "2     $200,000    2    2  1,200   \n",
       "3     $314,500    2    1  1,643   \n",
       "4     $355,000    4    2  1,785   \n",
       "...         ...  ..  ...    ...   \n",
       "1066  $120,000    3    1  1,120   \n",
       "1067  $270,000    4    2  1,170   \n",
       "1068  $179,999    4    3  1,664   \n",
       "1069  $205,000    4    3  1,426   \n",
       "1070  $275,000    1    1    845   \n",
       "\n",
       "                                              Address  \n",
       "0            1926 South St #A, Philadelphia, PA 19146  \n",
       "1             5139 Walton Ave, Philadelphia, PA 19143  \n",
       "2           4011 Arendell Ave, Philadelphia, PA 19114  \n",
       "3       1010 Arch St UNIT 202, Philadelphia, PA 19107  \n",
       "4               1422 N 4th St, Philadelphia, PA 19122  \n",
       "...                                               ...  \n",
       "1066         6538 Reedland St, Philadelphia, PA 19142  \n",
       "1067         7207 Hegerman St, Philadelphia, PA 19135  \n",
       "1068           6316 N 21st St, Philadelphia, PA 19138  \n",
       "1069           1500 N 61st St, Philadelphia, PA 19151  \n",
       "1070  1500 Chestnut St APT 8D, Philadelphia, PA 19102  \n",
       "\n",
       "[1071 rows x 5 columns]"
      ]
     },
     "execution_count": 3,
     "metadata": {},
     "output_type": "execute_result"
    }
   ],
   "source": [
    "#Dropping 4 columns which came during web scrapping\n",
    "df.drop(['web-scraper-order','web-scraper-start-url','links','links-href'],axis=1,inplace=True) \n",
    "df"
   ]
  },
  {
   "cell_type": "code",
   "execution_count": 4,
   "id": "42b503f4",
   "metadata": {},
   "outputs": [
    {
     "name": "stdout",
     "output_type": "stream",
     "text": [
      "<class 'pandas.core.frame.DataFrame'>\n",
      "RangeIndex: 1071 entries, 0 to 1070\n",
      "Data columns (total 5 columns):\n",
      " #   Column   Non-Null Count  Dtype \n",
      "---  ------   --------------  ----- \n",
      " 0   Price    1071 non-null   object\n",
      " 1   Bed      1071 non-null   object\n",
      " 2   Bath     1070 non-null   object\n",
      " 3   sqft     1070 non-null   object\n",
      " 4   Address  1071 non-null   object\n",
      "dtypes: object(5)\n",
      "memory usage: 42.0+ KB\n"
     ]
    }
   ],
   "source": [
    "df.info() #Checking null values"
   ]
  },
  {
   "cell_type": "code",
   "execution_count": 5,
   "id": "37a8eafe",
   "metadata": {},
   "outputs": [
    {
     "data": {
      "text/html": [
       "<div>\n",
       "<style scoped>\n",
       "    .dataframe tbody tr th:only-of-type {\n",
       "        vertical-align: middle;\n",
       "    }\n",
       "\n",
       "    .dataframe tbody tr th {\n",
       "        vertical-align: top;\n",
       "    }\n",
       "\n",
       "    .dataframe thead th {\n",
       "        text-align: right;\n",
       "    }\n",
       "</style>\n",
       "<table border=\"1\" class=\"dataframe\">\n",
       "  <thead>\n",
       "    <tr style=\"text-align: right;\">\n",
       "      <th></th>\n",
       "      <th>Price</th>\n",
       "      <th>Bed</th>\n",
       "      <th>Bath</th>\n",
       "      <th>sqft</th>\n",
       "      <th>Address</th>\n",
       "    </tr>\n",
       "  </thead>\n",
       "  <tbody>\n",
       "    <tr>\n",
       "      <th>0</th>\n",
       "      <td>$350,000</td>\n",
       "      <td>2</td>\n",
       "      <td>2</td>\n",
       "      <td>1,772</td>\n",
       "      <td>1926 South St #A, Philadelphia, PA 19146</td>\n",
       "    </tr>\n",
       "    <tr>\n",
       "      <th>1</th>\n",
       "      <td>$220,000</td>\n",
       "      <td>3</td>\n",
       "      <td>2</td>\n",
       "      <td>1,230</td>\n",
       "      <td>5139 Walton Ave, Philadelphia, PA 19143</td>\n",
       "    </tr>\n",
       "    <tr>\n",
       "      <th>2</th>\n",
       "      <td>$200,000</td>\n",
       "      <td>2</td>\n",
       "      <td>2</td>\n",
       "      <td>1,200</td>\n",
       "      <td>4011 Arendell Ave, Philadelphia, PA 19114</td>\n",
       "    </tr>\n",
       "    <tr>\n",
       "      <th>3</th>\n",
       "      <td>$314,500</td>\n",
       "      <td>2</td>\n",
       "      <td>1</td>\n",
       "      <td>1,643</td>\n",
       "      <td>1010 Arch St UNIT 202, Philadelphia, PA 19107</td>\n",
       "    </tr>\n",
       "    <tr>\n",
       "      <th>4</th>\n",
       "      <td>$355,000</td>\n",
       "      <td>4</td>\n",
       "      <td>2</td>\n",
       "      <td>1,785</td>\n",
       "      <td>1422 N 4th St, Philadelphia, PA 19122</td>\n",
       "    </tr>\n",
       "    <tr>\n",
       "      <th>...</th>\n",
       "      <td>...</td>\n",
       "      <td>...</td>\n",
       "      <td>...</td>\n",
       "      <td>...</td>\n",
       "      <td>...</td>\n",
       "    </tr>\n",
       "    <tr>\n",
       "      <th>1066</th>\n",
       "      <td>$120,000</td>\n",
       "      <td>3</td>\n",
       "      <td>1</td>\n",
       "      <td>1,120</td>\n",
       "      <td>6538 Reedland St, Philadelphia, PA 19142</td>\n",
       "    </tr>\n",
       "    <tr>\n",
       "      <th>1067</th>\n",
       "      <td>$270,000</td>\n",
       "      <td>4</td>\n",
       "      <td>2</td>\n",
       "      <td>1,170</td>\n",
       "      <td>7207 Hegerman St, Philadelphia, PA 19135</td>\n",
       "    </tr>\n",
       "    <tr>\n",
       "      <th>1068</th>\n",
       "      <td>$179,999</td>\n",
       "      <td>4</td>\n",
       "      <td>3</td>\n",
       "      <td>1,664</td>\n",
       "      <td>6316 N 21st St, Philadelphia, PA 19138</td>\n",
       "    </tr>\n",
       "    <tr>\n",
       "      <th>1069</th>\n",
       "      <td>$205,000</td>\n",
       "      <td>4</td>\n",
       "      <td>3</td>\n",
       "      <td>1,426</td>\n",
       "      <td>1500 N 61st St, Philadelphia, PA 19151</td>\n",
       "    </tr>\n",
       "    <tr>\n",
       "      <th>1070</th>\n",
       "      <td>$275,000</td>\n",
       "      <td>1</td>\n",
       "      <td>1</td>\n",
       "      <td>845</td>\n",
       "      <td>1500 Chestnut St APT 8D, Philadelphia, PA 19102</td>\n",
       "    </tr>\n",
       "  </tbody>\n",
       "</table>\n",
       "<p>1070 rows × 5 columns</p>\n",
       "</div>"
      ],
      "text/plain": [
       "          Price Bed Bath   sqft  \\\n",
       "0     $350,000    2    2  1,772   \n",
       "1     $220,000    3    2  1,230   \n",
       "2     $200,000    2    2  1,200   \n",
       "3     $314,500    2    1  1,643   \n",
       "4     $355,000    4    2  1,785   \n",
       "...         ...  ..  ...    ...   \n",
       "1066  $120,000    3    1  1,120   \n",
       "1067  $270,000    4    2  1,170   \n",
       "1068  $179,999    4    3  1,664   \n",
       "1069  $205,000    4    3  1,426   \n",
       "1070  $275,000    1    1    845   \n",
       "\n",
       "                                              Address  \n",
       "0            1926 South St #A, Philadelphia, PA 19146  \n",
       "1             5139 Walton Ave, Philadelphia, PA 19143  \n",
       "2           4011 Arendell Ave, Philadelphia, PA 19114  \n",
       "3       1010 Arch St UNIT 202, Philadelphia, PA 19107  \n",
       "4               1422 N 4th St, Philadelphia, PA 19122  \n",
       "...                                               ...  \n",
       "1066         6538 Reedland St, Philadelphia, PA 19142  \n",
       "1067         7207 Hegerman St, Philadelphia, PA 19135  \n",
       "1068           6316 N 21st St, Philadelphia, PA 19138  \n",
       "1069           1500 N 61st St, Philadelphia, PA 19151  \n",
       "1070  1500 Chestnut St APT 8D, Philadelphia, PA 19102  \n",
       "\n",
       "[1070 rows x 5 columns]"
      ]
     },
     "execution_count": 5,
     "metadata": {},
     "output_type": "execute_result"
    }
   ],
   "source": [
    "df=df.dropna() #Removing null values\n",
    "df"
   ]
  },
  {
   "cell_type": "code",
   "execution_count": 6,
   "id": "7782813f",
   "metadata": {},
   "outputs": [],
   "source": [
    "# Checking Unique values to see what kind of data is there."
   ]
  },
  {
   "cell_type": "code",
   "execution_count": 7,
   "id": "f12e4af6",
   "metadata": {},
   "outputs": [
    {
     "data": {
      "text/plain": [
       "array(['2', '1', '3', '4', '6', '5', '--', '1 ba', '2 ba'], dtype=object)"
      ]
     },
     "execution_count": 7,
     "metadata": {},
     "output_type": "execute_result"
    }
   ],
   "source": [
    "df.Bath.unique()"
   ]
  },
  {
   "cell_type": "code",
   "execution_count": 8,
   "id": "79a8e78b",
   "metadata": {},
   "outputs": [
    {
     "data": {
      "text/plain": [
       "array(['2', '3', '4', '6', '1', 'Studio', '5', '2 bds', '3 bds', '4 bds',\n",
       "       '6 bds', '5 bds', '1 bd', '1,875 sqft lot', '10', '14', '7', '--'],\n",
       "      dtype=object)"
      ]
     },
     "execution_count": 8,
     "metadata": {},
     "output_type": "execute_result"
    }
   ],
   "source": [
    "df.Bed.unique()"
   ]
  },
  {
   "cell_type": "code",
   "execution_count": 9,
   "id": "126a7c75",
   "metadata": {},
   "outputs": [],
   "source": [
    "# Converting \"--\" to Null values so it will be easy to remove them."
   ]
  },
  {
   "cell_type": "code",
   "execution_count": 10,
   "id": "f2df9095",
   "metadata": {},
   "outputs": [],
   "source": [
    "df['ZIPCode']=df[\"Address\"].str.split(\" \").apply(lambda x: x[-1])"
   ]
  },
  {
   "cell_type": "code",
   "execution_count": 11,
   "id": "5c676667",
   "metadata": {},
   "outputs": [],
   "source": [
    "df['Bath']=df['Bath'].replace('--',np.NaN)\n",
    "df['Bed']=df['Bed'].replace('1,875 sqft lot',np.NaN)\n",
    "df['sqft']=df['sqft'].replace('--',np.NaN)\n",
    "df['ZIPCode']=df['ZIPCode'].replace('Street',np.NaN)"
   ]
  },
  {
   "cell_type": "code",
   "execution_count": 12,
   "id": "c1708d98",
   "metadata": {},
   "outputs": [
    {
     "data": {
      "text/html": [
       "<div>\n",
       "<style scoped>\n",
       "    .dataframe tbody tr th:only-of-type {\n",
       "        vertical-align: middle;\n",
       "    }\n",
       "\n",
       "    .dataframe tbody tr th {\n",
       "        vertical-align: top;\n",
       "    }\n",
       "\n",
       "    .dataframe thead th {\n",
       "        text-align: right;\n",
       "    }\n",
       "</style>\n",
       "<table border=\"1\" class=\"dataframe\">\n",
       "  <thead>\n",
       "    <tr style=\"text-align: right;\">\n",
       "      <th></th>\n",
       "      <th>Price</th>\n",
       "      <th>Bed</th>\n",
       "      <th>Bath</th>\n",
       "      <th>sqft</th>\n",
       "      <th>Address</th>\n",
       "      <th>ZIPCode</th>\n",
       "    </tr>\n",
       "  </thead>\n",
       "  <tbody>\n",
       "    <tr>\n",
       "      <th>0</th>\n",
       "      <td>$350,000</td>\n",
       "      <td>2</td>\n",
       "      <td>2</td>\n",
       "      <td>1,772</td>\n",
       "      <td>1926 South St #A, Philadelphia, PA 19146</td>\n",
       "      <td>19146</td>\n",
       "    </tr>\n",
       "    <tr>\n",
       "      <th>1</th>\n",
       "      <td>$220,000</td>\n",
       "      <td>3</td>\n",
       "      <td>2</td>\n",
       "      <td>1,230</td>\n",
       "      <td>5139 Walton Ave, Philadelphia, PA 19143</td>\n",
       "      <td>19143</td>\n",
       "    </tr>\n",
       "    <tr>\n",
       "      <th>2</th>\n",
       "      <td>$200,000</td>\n",
       "      <td>2</td>\n",
       "      <td>2</td>\n",
       "      <td>1,200</td>\n",
       "      <td>4011 Arendell Ave, Philadelphia, PA 19114</td>\n",
       "      <td>19114</td>\n",
       "    </tr>\n",
       "    <tr>\n",
       "      <th>3</th>\n",
       "      <td>$314,500</td>\n",
       "      <td>2</td>\n",
       "      <td>1</td>\n",
       "      <td>1,643</td>\n",
       "      <td>1010 Arch St UNIT 202, Philadelphia, PA 19107</td>\n",
       "      <td>19107</td>\n",
       "    </tr>\n",
       "    <tr>\n",
       "      <th>4</th>\n",
       "      <td>$355,000</td>\n",
       "      <td>4</td>\n",
       "      <td>2</td>\n",
       "      <td>1,785</td>\n",
       "      <td>1422 N 4th St, Philadelphia, PA 19122</td>\n",
       "      <td>19122</td>\n",
       "    </tr>\n",
       "    <tr>\n",
       "      <th>...</th>\n",
       "      <td>...</td>\n",
       "      <td>...</td>\n",
       "      <td>...</td>\n",
       "      <td>...</td>\n",
       "      <td>...</td>\n",
       "      <td>...</td>\n",
       "    </tr>\n",
       "    <tr>\n",
       "      <th>1066</th>\n",
       "      <td>$120,000</td>\n",
       "      <td>3</td>\n",
       "      <td>1</td>\n",
       "      <td>1,120</td>\n",
       "      <td>6538 Reedland St, Philadelphia, PA 19142</td>\n",
       "      <td>19142</td>\n",
       "    </tr>\n",
       "    <tr>\n",
       "      <th>1067</th>\n",
       "      <td>$270,000</td>\n",
       "      <td>4</td>\n",
       "      <td>2</td>\n",
       "      <td>1,170</td>\n",
       "      <td>7207 Hegerman St, Philadelphia, PA 19135</td>\n",
       "      <td>19135</td>\n",
       "    </tr>\n",
       "    <tr>\n",
       "      <th>1068</th>\n",
       "      <td>$179,999</td>\n",
       "      <td>4</td>\n",
       "      <td>3</td>\n",
       "      <td>1,664</td>\n",
       "      <td>6316 N 21st St, Philadelphia, PA 19138</td>\n",
       "      <td>19138</td>\n",
       "    </tr>\n",
       "    <tr>\n",
       "      <th>1069</th>\n",
       "      <td>$205,000</td>\n",
       "      <td>4</td>\n",
       "      <td>3</td>\n",
       "      <td>1,426</td>\n",
       "      <td>1500 N 61st St, Philadelphia, PA 19151</td>\n",
       "      <td>19151</td>\n",
       "    </tr>\n",
       "    <tr>\n",
       "      <th>1070</th>\n",
       "      <td>$275,000</td>\n",
       "      <td>1</td>\n",
       "      <td>1</td>\n",
       "      <td>845</td>\n",
       "      <td>1500 Chestnut St APT 8D, Philadelphia, PA 19102</td>\n",
       "      <td>19102</td>\n",
       "    </tr>\n",
       "  </tbody>\n",
       "</table>\n",
       "<p>1015 rows × 6 columns</p>\n",
       "</div>"
      ],
      "text/plain": [
       "          Price Bed Bath   sqft  \\\n",
       "0     $350,000    2    2  1,772   \n",
       "1     $220,000    3    2  1,230   \n",
       "2     $200,000    2    2  1,200   \n",
       "3     $314,500    2    1  1,643   \n",
       "4     $355,000    4    2  1,785   \n",
       "...         ...  ..  ...    ...   \n",
       "1066  $120,000    3    1  1,120   \n",
       "1067  $270,000    4    2  1,170   \n",
       "1068  $179,999    4    3  1,664   \n",
       "1069  $205,000    4    3  1,426   \n",
       "1070  $275,000    1    1    845   \n",
       "\n",
       "                                              Address ZIPCode  \n",
       "0            1926 South St #A, Philadelphia, PA 19146   19146  \n",
       "1             5139 Walton Ave, Philadelphia, PA 19143   19143  \n",
       "2           4011 Arendell Ave, Philadelphia, PA 19114   19114  \n",
       "3       1010 Arch St UNIT 202, Philadelphia, PA 19107   19107  \n",
       "4               1422 N 4th St, Philadelphia, PA 19122   19122  \n",
       "...                                               ...     ...  \n",
       "1066         6538 Reedland St, Philadelphia, PA 19142   19142  \n",
       "1067         7207 Hegerman St, Philadelphia, PA 19135   19135  \n",
       "1068           6316 N 21st St, Philadelphia, PA 19138   19138  \n",
       "1069           1500 N 61st St, Philadelphia, PA 19151   19151  \n",
       "1070  1500 Chestnut St APT 8D, Philadelphia, PA 19102   19102  \n",
       "\n",
       "[1015 rows x 6 columns]"
      ]
     },
     "execution_count": 12,
     "metadata": {},
     "output_type": "execute_result"
    }
   ],
   "source": [
    "df=df.dropna()\n",
    "df"
   ]
  },
  {
   "cell_type": "code",
   "execution_count": 13,
   "id": "f18ad1f6",
   "metadata": {},
   "outputs": [],
   "source": [
    "#Replacing values\n",
    "\n",
    "df=df.replace(['Studio'],['1'])\n",
    "df[\"Bed\"] = df[\"Bed\"].str.replace(\" bds\", \"\")\n",
    "df[\"Bed\"] = df[\"Bed\"].str.replace(\" bd\", \"\")\n",
    "df[\"Bath\"] = df[\"Bath\"].str.replace(\" ba\", \"\")\n",
    "df[\"Price\"] = df[\"Price\"].str.replace(\"$\", \"\")\n",
    "df[\"Price\"] = df[\"Price\"].str.replace(\"K\", \"000\")\n",
    "df[\"Price\"] = df[\"Price\"].str.replace(\",\", \"\")\n",
    "df[\"sqft\"] = df[\"sqft\"].str.replace(\",\", \"\")\n",
    "\n",
    "#Converting object to integer, as integer will be used in Machine Learning model.\n",
    "df['Bed']=df['Bed'].astype(int)\n",
    "df['Bath']=df['Bath'].astype(int)\n",
    "df['Price']=df['Price'].astype(int)\n",
    "df['sqft']=df['sqft'].astype(int)\n",
    "df['ZIPCode']=df['ZIPCode'].astype(int)"
   ]
  },
  {
   "cell_type": "code",
   "execution_count": 14,
   "id": "47f5c030",
   "metadata": {},
   "outputs": [
    {
     "data": {
      "text/html": [
       "<div>\n",
       "<style scoped>\n",
       "    .dataframe tbody tr th:only-of-type {\n",
       "        vertical-align: middle;\n",
       "    }\n",
       "\n",
       "    .dataframe tbody tr th {\n",
       "        vertical-align: top;\n",
       "    }\n",
       "\n",
       "    .dataframe thead th {\n",
       "        text-align: right;\n",
       "    }\n",
       "</style>\n",
       "<table border=\"1\" class=\"dataframe\">\n",
       "  <thead>\n",
       "    <tr style=\"text-align: right;\">\n",
       "      <th></th>\n",
       "      <th>Price</th>\n",
       "      <th>Bed</th>\n",
       "      <th>Bath</th>\n",
       "      <th>sqft</th>\n",
       "      <th>ZIPCode</th>\n",
       "    </tr>\n",
       "  </thead>\n",
       "  <tbody>\n",
       "    <tr>\n",
       "      <th>count</th>\n",
       "      <td>1.015000e+03</td>\n",
       "      <td>1015.000000</td>\n",
       "      <td>1015.000000</td>\n",
       "      <td>1015.000000</td>\n",
       "      <td>1015.000000</td>\n",
       "    </tr>\n",
       "    <tr>\n",
       "      <th>mean</th>\n",
       "      <td>3.497642e+05</td>\n",
       "      <td>3.083744</td>\n",
       "      <td>2.154680</td>\n",
       "      <td>1556.935961</td>\n",
       "      <td>19130.708374</td>\n",
       "    </tr>\n",
       "    <tr>\n",
       "      <th>std</th>\n",
       "      <td>2.167996e+05</td>\n",
       "      <td>0.993014</td>\n",
       "      <td>0.964209</td>\n",
       "      <td>678.602578</td>\n",
       "      <td>14.782235</td>\n",
       "    </tr>\n",
       "    <tr>\n",
       "      <th>min</th>\n",
       "      <td>3.500000e+04</td>\n",
       "      <td>1.000000</td>\n",
       "      <td>1.000000</td>\n",
       "      <td>319.000000</td>\n",
       "      <td>19102.000000</td>\n",
       "    </tr>\n",
       "    <tr>\n",
       "      <th>25%</th>\n",
       "      <td>2.150000e+05</td>\n",
       "      <td>3.000000</td>\n",
       "      <td>1.000000</td>\n",
       "      <td>1120.000000</td>\n",
       "      <td>19120.000000</td>\n",
       "    </tr>\n",
       "    <tr>\n",
       "      <th>50%</th>\n",
       "      <td>2.999000e+05</td>\n",
       "      <td>3.000000</td>\n",
       "      <td>2.000000</td>\n",
       "      <td>1376.000000</td>\n",
       "      <td>19130.000000</td>\n",
       "    </tr>\n",
       "    <tr>\n",
       "      <th>75%</th>\n",
       "      <td>4.177000e+05</td>\n",
       "      <td>4.000000</td>\n",
       "      <td>3.000000</td>\n",
       "      <td>1800.000000</td>\n",
       "      <td>19144.000000</td>\n",
       "    </tr>\n",
       "    <tr>\n",
       "      <th>max</th>\n",
       "      <td>1.595000e+06</td>\n",
       "      <td>6.000000</td>\n",
       "      <td>6.000000</td>\n",
       "      <td>5195.000000</td>\n",
       "      <td>19154.000000</td>\n",
       "    </tr>\n",
       "  </tbody>\n",
       "</table>\n",
       "</div>"
      ],
      "text/plain": [
       "              Price          Bed         Bath         sqft       ZIPCode\n",
       "count  1.015000e+03  1015.000000  1015.000000  1015.000000   1015.000000\n",
       "mean   3.497642e+05     3.083744     2.154680  1556.935961  19130.708374\n",
       "std    2.167996e+05     0.993014     0.964209   678.602578     14.782235\n",
       "min    3.500000e+04     1.000000     1.000000   319.000000  19102.000000\n",
       "25%    2.150000e+05     3.000000     1.000000  1120.000000  19120.000000\n",
       "50%    2.999000e+05     3.000000     2.000000  1376.000000  19130.000000\n",
       "75%    4.177000e+05     4.000000     3.000000  1800.000000  19144.000000\n",
       "max    1.595000e+06     6.000000     6.000000  5195.000000  19154.000000"
      ]
     },
     "execution_count": 14,
     "metadata": {},
     "output_type": "execute_result"
    }
   ],
   "source": [
    "df.describe()"
   ]
  },
  {
   "cell_type": "markdown",
   "id": "d1beedcc",
   "metadata": {},
   "source": [
    "**Exploratory Data Analysis**"
   ]
  },
  {
   "cell_type": "code",
   "execution_count": 15,
   "id": "23be712c",
   "metadata": {},
   "outputs": [
    {
     "data": {
      "image/png": "[encoded data removed]",
      "text/plain": [
       "<Figure size 864x576 with 1 Axes>"
      ]
     },
     "metadata": {
      "needs_background": "light"
     },
     "output_type": "display_data"
    }
   ],
   "source": [
    "plt.figure(figsize=(12,8))\n",
    "sns.countplot(x=df['Bath'])\n",
    "plt.title(\"Number of Bathroom\", size=15)\n",
    "plt.xticks(size=12)\n",
    "plt.show()"
   ]
  },
  {
   "cell_type": "code",
   "execution_count": 16,
   "id": "feaea49a",
   "metadata": {},
   "outputs": [
    {
     "data": {
      "image/png": "[encoded data removed]",
      "text/plain": [
       "<Figure size 864x576 with 1 Axes>"
      ]
     },
     "metadata": {
      "needs_background": "light"
     },
     "output_type": "display_data"
    }
   ],
   "source": [
    "plt.figure(figsize=(12,8))\n",
    "sns.countplot(x=df['Bed'])\n",
    "plt.title(\"Number of Bedroom\", size=15)\n",
    "plt.xticks(size=12)\n",
    "plt.show()"
   ]
  },
  {
   "cell_type": "code",
   "execution_count": 17,
   "id": "2455189d",
   "metadata": {},
   "outputs": [
    {
     "data": {
      "image/png": "[encoded data removed]",
      "text/plain": [
       "<Figure size 720x576 with 1 Axes>"
      ]
     },
     "metadata": {
      "needs_background": "light"
     },
     "output_type": "display_data"
    }
   ],
   "source": [
    "fig = plt.figure(figsize=(10,8))\n",
    "plt.hist(df['Price'], bins=9,edgecolor=\"black\")\n",
    "plt.title(\"Price\", size=15)\n",
    "plt.xticks(size=12)\n",
    "plt.show()"
   ]
  },
  {
   "cell_type": "code",
   "execution_count": 18,
   "id": "b12c69a9",
   "metadata": {},
   "outputs": [
    {
     "name": "stdout",
     "output_type": "stream",
     "text": [
      "Bed    1   2    3   4   5   6\n",
      "Bath                         \n",
      "1     47  52  151  20   2   0\n",
      "2     10  86  243  59  10   7\n",
      "3      0  15  134  78  16  10\n",
      "4      0   3   16  19   9   8\n",
      "5      1   0    0   8   2   3\n",
      "6      0   0    1   1   2   2\n"
     ]
    }
   ],
   "source": [
    "x = pd.crosstab(df.Bath, df.Bed) #Relationship between Bed and Bath\n",
    "print(x)"
   ]
  },
  {
   "cell_type": "code",
   "execution_count": 19,
   "id": "8ccc08e6",
   "metadata": {},
   "outputs": [
    {
     "data": {
      "text/plain": [
       "<AxesSubplot:xlabel='Bed', ylabel='Price'>"
      ]
     },
     "execution_count": 19,
     "metadata": {},
     "output_type": "execute_result"
    },
    {
     "data": {
      "image/png": "[encoded data removed]",
      "text/plain": [
       "<Figure size 1080x720 with 1 Axes>"
      ]
     },
     "metadata": {
      "needs_background": "light"
     },
     "output_type": "display_data"
    }
   ],
   "source": [
    "plt.figure(figsize=(15,10)) #Relationship between Bed, Bath and Price\n",
    "sns.boxplot(x='Bed', y='Price',hue='Bath',data=df,palette='rainbow')"
   ]
  },
  {
   "cell_type": "code",
   "execution_count": 20,
   "id": "4376a9c1",
   "metadata": {},
   "outputs": [
    {
     "data": {
      "text/plain": [
       "<AxesSubplot:xlabel='ZIPCode', ylabel='Price'>"
      ]
     },
     "execution_count": 20,
     "metadata": {},
     "output_type": "execute_result"
    },
    {
     "data": {
      "image/png": "[encoded data removed]",
      "text/plain": [
       "<Figure size 2160x1440 with 1 Axes>"
      ]
     },
     "metadata": {
      "needs_background": "light"
     },
     "output_type": "display_data"
    }
   ],
   "source": [
    "plt.figure(figsize=(30,20)) #Relationship between ZipCode and Price\n",
    "sns.boxplot(x='ZIPCode', y='Price',data=df,palette='rainbow')"
   ]
  },
  {
   "cell_type": "code",
   "execution_count": 21,
   "id": "6455e0b4",
   "metadata": {},
   "outputs": [
    {
     "data": {
      "text/plain": [
       "<AxesSubplot:xlabel='Bed', ylabel='sqft'>"
      ]
     },
     "execution_count": 21,
     "metadata": {},
     "output_type": "execute_result"
    },
    {
     "data": {
      "image/png": "[encoded data removed]",
      "text/plain": [
       "<Figure size 1080x720 with 1 Axes>"
      ]
     },
     "metadata": {
      "needs_background": "light"
     },
     "output_type": "display_data"
    }
   ],
   "source": [
    "plt.figure(figsize=(15,10)) #Relationship between Bed, Bath and sqft\n",
    "sns.boxplot(x='Bed', y='sqft',hue='Bath',data=df,palette='rainbow')"
   ]
  },
  {
   "cell_type": "code",
   "execution_count": 22,
   "id": "9a794104",
   "metadata": {},
   "outputs": [
    {
     "data": {
      "image/png": "[encoded data removed]",
      "text/plain": [
       "<Figure size 432x288 with 2 Axes>"
      ]
     },
     "metadata": {
      "needs_background": "light"
     },
     "output_type": "display_data"
    }
   ],
   "source": [
    "#Correlation between features\n",
    "\n",
    "plt.figure(figsize=(6,4))\n",
    "corr = df.corr()\n",
    "mask = np.triu(corr)\n",
    "sns.heatmap(corr, annot= True, mask= mask, fmt = '.2f')\n",
    "plt.title(\"Correlation between attributes\")\n",
    "plt.show()"
   ]
  },
  {
   "cell_type": "markdown",
   "id": "5ef48c9e",
   "metadata": {},
   "source": [
    "# Feature Engineering"
   ]
  },
  {
   "cell_type": "code",
   "execution_count": 23,
   "id": "ca09723c",
   "metadata": {},
   "outputs": [
    {
     "data": {
      "text/html": [
       "<div>\n",
       "<style scoped>\n",
       "    .dataframe tbody tr th:only-of-type {\n",
       "        vertical-align: middle;\n",
       "    }\n",
       "\n",
       "    .dataframe tbody tr th {\n",
       "        vertical-align: top;\n",
       "    }\n",
       "\n",
       "    .dataframe thead th {\n",
       "        text-align: right;\n",
       "    }\n",
       "</style>\n",
       "<table border=\"1\" class=\"dataframe\">\n",
       "  <thead>\n",
       "    <tr style=\"text-align: right;\">\n",
       "      <th></th>\n",
       "      <th>Price</th>\n",
       "      <th>Bed</th>\n",
       "      <th>Bath</th>\n",
       "      <th>sqft</th>\n",
       "      <th>Address</th>\n",
       "      <th>ZIPCode</th>\n",
       "    </tr>\n",
       "  </thead>\n",
       "  <tbody>\n",
       "    <tr>\n",
       "      <th>0</th>\n",
       "      <td>350000</td>\n",
       "      <td>2</td>\n",
       "      <td>2</td>\n",
       "      <td>1772</td>\n",
       "      <td>1926 South St #A, Philadelphia, PA 19146</td>\n",
       "      <td>19146</td>\n",
       "    </tr>\n",
       "    <tr>\n",
       "      <th>1</th>\n",
       "      <td>220000</td>\n",
       "      <td>3</td>\n",
       "      <td>2</td>\n",
       "      <td>1230</td>\n",
       "      <td>5139 Walton Ave, Philadelphia, PA 19143</td>\n",
       "      <td>19143</td>\n",
       "    </tr>\n",
       "    <tr>\n",
       "      <th>2</th>\n",
       "      <td>200000</td>\n",
       "      <td>2</td>\n",
       "      <td>2</td>\n",
       "      <td>1200</td>\n",
       "      <td>4011 Arendell Ave, Philadelphia, PA 19114</td>\n",
       "      <td>19114</td>\n",
       "    </tr>\n",
       "    <tr>\n",
       "      <th>3</th>\n",
       "      <td>314500</td>\n",
       "      <td>2</td>\n",
       "      <td>1</td>\n",
       "      <td>1643</td>\n",
       "      <td>1010 Arch St UNIT 202, Philadelphia, PA 19107</td>\n",
       "      <td>19107</td>\n",
       "    </tr>\n",
       "    <tr>\n",
       "      <th>4</th>\n",
       "      <td>355000</td>\n",
       "      <td>4</td>\n",
       "      <td>2</td>\n",
       "      <td>1785</td>\n",
       "      <td>1422 N 4th St, Philadelphia, PA 19122</td>\n",
       "      <td>19122</td>\n",
       "    </tr>\n",
       "    <tr>\n",
       "      <th>...</th>\n",
       "      <td>...</td>\n",
       "      <td>...</td>\n",
       "      <td>...</td>\n",
       "      <td>...</td>\n",
       "      <td>...</td>\n",
       "      <td>...</td>\n",
       "    </tr>\n",
       "    <tr>\n",
       "      <th>1066</th>\n",
       "      <td>120000</td>\n",
       "      <td>3</td>\n",
       "      <td>1</td>\n",
       "      <td>1120</td>\n",
       "      <td>6538 Reedland St, Philadelphia, PA 19142</td>\n",
       "      <td>19142</td>\n",
       "    </tr>\n",
       "    <tr>\n",
       "      <th>1067</th>\n",
       "      <td>270000</td>\n",
       "      <td>4</td>\n",
       "      <td>2</td>\n",
       "      <td>1170</td>\n",
       "      <td>7207 Hegerman St, Philadelphia, PA 19135</td>\n",
       "      <td>19135</td>\n",
       "    </tr>\n",
       "    <tr>\n",
       "      <th>1068</th>\n",
       "      <td>179999</td>\n",
       "      <td>4</td>\n",
       "      <td>3</td>\n",
       "      <td>1664</td>\n",
       "      <td>6316 N 21st St, Philadelphia, PA 19138</td>\n",
       "      <td>19138</td>\n",
       "    </tr>\n",
       "    <tr>\n",
       "      <th>1069</th>\n",
       "      <td>205000</td>\n",
       "      <td>4</td>\n",
       "      <td>3</td>\n",
       "      <td>1426</td>\n",
       "      <td>1500 N 61st St, Philadelphia, PA 19151</td>\n",
       "      <td>19151</td>\n",
       "    </tr>\n",
       "    <tr>\n",
       "      <th>1070</th>\n",
       "      <td>275000</td>\n",
       "      <td>1</td>\n",
       "      <td>1</td>\n",
       "      <td>845</td>\n",
       "      <td>1500 Chestnut St APT 8D, Philadelphia, PA 19102</td>\n",
       "      <td>19102</td>\n",
       "    </tr>\n",
       "  </tbody>\n",
       "</table>\n",
       "<p>1015 rows × 6 columns</p>\n",
       "</div>"
      ],
      "text/plain": [
       "       Price  Bed  Bath  sqft  \\\n",
       "0     350000    2     2  1772   \n",
       "1     220000    3     2  1230   \n",
       "2     200000    2     2  1200   \n",
       "3     314500    2     1  1643   \n",
       "4     355000    4     2  1785   \n",
       "...      ...  ...   ...   ...   \n",
       "1066  120000    3     1  1120   \n",
       "1067  270000    4     2  1170   \n",
       "1068  179999    4     3  1664   \n",
       "1069  205000    4     3  1426   \n",
       "1070  275000    1     1   845   \n",
       "\n",
       "                                              Address  ZIPCode  \n",
       "0            1926 South St #A, Philadelphia, PA 19146    19146  \n",
       "1             5139 Walton Ave, Philadelphia, PA 19143    19143  \n",
       "2           4011 Arendell Ave, Philadelphia, PA 19114    19114  \n",
       "3       1010 Arch St UNIT 202, Philadelphia, PA 19107    19107  \n",
       "4               1422 N 4th St, Philadelphia, PA 19122    19122  \n",
       "...                                               ...      ...  \n",
       "1066         6538 Reedland St, Philadelphia, PA 19142    19142  \n",
       "1067         7207 Hegerman St, Philadelphia, PA 19135    19135  \n",
       "1068           6316 N 21st St, Philadelphia, PA 19138    19138  \n",
       "1069           1500 N 61st St, Philadelphia, PA 19151    19151  \n",
       "1070  1500 Chestnut St APT 8D, Philadelphia, PA 19102    19102  \n",
       "\n",
       "[1015 rows x 6 columns]"
      ]
     },
     "execution_count": 23,
     "metadata": {},
     "output_type": "execute_result"
    }
   ],
   "source": [
    "#Creating new dataframe so real dataframe is not affected.\n",
    "\n",
    "df2=df.copy()\n",
    "df2"
   ]
  },
  {
   "cell_type": "code",
   "execution_count": 24,
   "id": "3f84fbcf",
   "metadata": {},
   "outputs": [],
   "source": [
    "#Normalization on Price and sqft features.\n",
    "#Values will be between 0 and 1.\n",
    "price=np.array(df2['Price'])\n",
    "price=price.reshape(-1,1)\n",
    "\n",
    "scaler = MinMaxScaler()\n",
    "df2['Price'] = scaler.fit_transform(price)\n",
    "\n",
    "sqft=np.array(df2['sqft'])\n",
    "sqft=sqft.reshape(-1,1)\n",
    "\n",
    "#scaler = MinMaxScaler()\n",
    "df2['sqft'] = scaler.fit_transform(sqft)\n"
   ]
  },
  {
   "cell_type": "code",
   "execution_count": 25,
   "id": "5cc12aac",
   "metadata": {},
   "outputs": [],
   "source": [
    "#Converting into categorical\n",
    "df2['ZIPCode']=pd.factorize(df2['ZIPCode'])[0]"
   ]
  },
  {
   "cell_type": "code",
   "execution_count": 26,
   "id": "53860373",
   "metadata": {},
   "outputs": [
    {
     "data": {
      "text/html": [
       "<div>\n",
       "<style scoped>\n",
       "    .dataframe tbody tr th:only-of-type {\n",
       "        vertical-align: middle;\n",
       "    }\n",
       "\n",
       "    .dataframe tbody tr th {\n",
       "        vertical-align: top;\n",
       "    }\n",
       "\n",
       "    .dataframe thead th {\n",
       "        text-align: right;\n",
       "    }\n",
       "</style>\n",
       "<table border=\"1\" class=\"dataframe\">\n",
       "  <thead>\n",
       "    <tr style=\"text-align: right;\">\n",
       "      <th></th>\n",
       "      <th>Price</th>\n",
       "      <th>Bed</th>\n",
       "      <th>Bath</th>\n",
       "      <th>sqft</th>\n",
       "      <th>ZIPCode</th>\n",
       "    </tr>\n",
       "  </thead>\n",
       "  <tbody>\n",
       "    <tr>\n",
       "      <th>0</th>\n",
       "      <td>0.201923</td>\n",
       "      <td>2</td>\n",
       "      <td>2</td>\n",
       "      <td>0.297990</td>\n",
       "      <td>0</td>\n",
       "    </tr>\n",
       "    <tr>\n",
       "      <th>1</th>\n",
       "      <td>0.118590</td>\n",
       "      <td>3</td>\n",
       "      <td>2</td>\n",
       "      <td>0.186833</td>\n",
       "      <td>1</td>\n",
       "    </tr>\n",
       "    <tr>\n",
       "      <th>2</th>\n",
       "      <td>0.105769</td>\n",
       "      <td>2</td>\n",
       "      <td>2</td>\n",
       "      <td>0.180681</td>\n",
       "      <td>2</td>\n",
       "    </tr>\n",
       "    <tr>\n",
       "      <th>3</th>\n",
       "      <td>0.179167</td>\n",
       "      <td>2</td>\n",
       "      <td>1</td>\n",
       "      <td>0.271534</td>\n",
       "      <td>3</td>\n",
       "    </tr>\n",
       "    <tr>\n",
       "      <th>4</th>\n",
       "      <td>0.205128</td>\n",
       "      <td>4</td>\n",
       "      <td>2</td>\n",
       "      <td>0.300656</td>\n",
       "      <td>4</td>\n",
       "    </tr>\n",
       "    <tr>\n",
       "      <th>...</th>\n",
       "      <td>...</td>\n",
       "      <td>...</td>\n",
       "      <td>...</td>\n",
       "      <td>...</td>\n",
       "      <td>...</td>\n",
       "    </tr>\n",
       "    <tr>\n",
       "      <th>1066</th>\n",
       "      <td>0.054487</td>\n",
       "      <td>3</td>\n",
       "      <td>1</td>\n",
       "      <td>0.164274</td>\n",
       "      <td>35</td>\n",
       "    </tr>\n",
       "    <tr>\n",
       "      <th>1067</th>\n",
       "      <td>0.150641</td>\n",
       "      <td>4</td>\n",
       "      <td>2</td>\n",
       "      <td>0.174528</td>\n",
       "      <td>27</td>\n",
       "    </tr>\n",
       "    <tr>\n",
       "      <th>1068</th>\n",
       "      <td>0.092948</td>\n",
       "      <td>4</td>\n",
       "      <td>3</td>\n",
       "      <td>0.275841</td>\n",
       "      <td>18</td>\n",
       "    </tr>\n",
       "    <tr>\n",
       "      <th>1069</th>\n",
       "      <td>0.108974</td>\n",
       "      <td>4</td>\n",
       "      <td>3</td>\n",
       "      <td>0.227030</td>\n",
       "      <td>17</td>\n",
       "    </tr>\n",
       "    <tr>\n",
       "      <th>1070</th>\n",
       "      <td>0.153846</td>\n",
       "      <td>1</td>\n",
       "      <td>1</td>\n",
       "      <td>0.107875</td>\n",
       "      <td>44</td>\n",
       "    </tr>\n",
       "  </tbody>\n",
       "</table>\n",
       "<p>1015 rows × 5 columns</p>\n",
       "</div>"
      ],
      "text/plain": [
       "         Price  Bed  Bath      sqft  ZIPCode\n",
       "0     0.201923    2     2  0.297990        0\n",
       "1     0.118590    3     2  0.186833        1\n",
       "2     0.105769    2     2  0.180681        2\n",
       "3     0.179167    2     1  0.271534        3\n",
       "4     0.205128    4     2  0.300656        4\n",
       "...        ...  ...   ...       ...      ...\n",
       "1066  0.054487    3     1  0.164274       35\n",
       "1067  0.150641    4     2  0.174528       27\n",
       "1068  0.092948    4     3  0.275841       18\n",
       "1069  0.108974    4     3  0.227030       17\n",
       "1070  0.153846    1     1  0.107875       44\n",
       "\n",
       "[1015 rows x 5 columns]"
      ]
     },
     "execution_count": 26,
     "metadata": {},
     "output_type": "execute_result"
    }
   ],
   "source": [
    "df2=df2.drop('Address',axis=1) #Dropping Address as it is not needed in Machine Learning model\n",
    "df2"
   ]
  },
  {
   "cell_type": "markdown",
   "id": "235e06de",
   "metadata": {},
   "source": [
    "# Machine Learning Model"
   ]
  },
  {
   "cell_type": "code",
   "execution_count": 27,
   "id": "bf7fad7b",
   "metadata": {},
   "outputs": [],
   "source": [
    "from sklearn.model_selection import train_test_split\n",
    "from sklearn.metrics import mean_squared_error, r2_score\n",
    "from sklearn.ensemble import GradientBoostingRegressor\n",
    "X = df2.drop('Price',axis=1) # Independet variable\n",
    "y = df2['Price'] # dependent variable\n",
    "\n",
    "X_train, X_test, y_train, y_test = train_test_split(X,y,test_size=0.25,random_state=10) \n",
    "#Train size 75% and Test size 25%"
   ]
  },
  {
   "cell_type": "code",
   "execution_count": 28,
   "id": "d0a9fcb2",
   "metadata": {},
   "outputs": [
    {
     "data": {
      "text/plain": [
       "((761, 4), (761,))"
      ]
     },
     "execution_count": 28,
     "metadata": {},
     "output_type": "execute_result"
    }
   ],
   "source": [
    "X_train.shape,y_train.shape"
   ]
  },
  {
   "cell_type": "code",
   "execution_count": 29,
   "id": "68e8c76c",
   "metadata": {},
   "outputs": [
    {
     "data": {
      "text/plain": [
       "((254, 4), (254,))"
      ]
     },
     "execution_count": 29,
     "metadata": {},
     "output_type": "execute_result"
    }
   ],
   "source": [
    "X_test.shape,y_test.shape"
   ]
  },
  {
   "cell_type": "markdown",
   "id": "df3ee134",
   "metadata": {},
   "source": [
    "# Gradient Boosting Algorithm"
   ]
  },
  {
   "cell_type": "code",
   "execution_count": 30,
   "id": "465c1e47",
   "metadata": {},
   "outputs": [
    {
     "name": "stdout",
     "output_type": "stream",
     "text": [
      "0.8697454418860517\n"
     ]
    }
   ],
   "source": [
    "GBR = GradientBoostingRegressor(n_estimators=100, max_depth=4)\n",
    "\n",
    "GBR.fit(X_train, y_train)\n",
    "y_pred=GBR.predict(X_test)\n",
    "print(GBR.score(X_train,y_train)) # Score"
   ]
  },
  {
   "cell_type": "code",
   "execution_count": 31,
   "id": "c27e8205",
   "metadata": {},
   "outputs": [
    {
     "data": {
      "text/plain": [
       "0.6355193952457867"
      ]
     },
     "execution_count": 31,
     "metadata": {},
     "output_type": "execute_result"
    }
   ],
   "source": [
    "r2_score(y_test,y_pred) #R squared value"
   ]
  },
  {
   "cell_type": "code",
   "execution_count": 32,
   "id": "d80cdda2",
   "metadata": {},
   "outputs": [
    {
     "data": {
      "text/plain": [
       "0.008227038903493774"
      ]
     },
     "execution_count": 32,
     "metadata": {},
     "output_type": "execute_result"
    }
   ],
   "source": [
    "mean_squared_error(y_test, y_pred) #Mean Squared Error"
   ]
  }
 ],
 "metadata": {
  "kernelspec": {
   "display_name": "Python 3 (ipykernel)",
   "language": "python",
   "name": "python3"
  },
  "language_info": {
   "codemirror_mode": {
    "name": "ipython",
    "version": 3
   },
   "file_extension": ".py",
   "mimetype": "text/x-python",
   "name": "python",
   "nbconvert_exporter": "python",
   "pygments_lexer": "ipython3",
   "version": "3.9.7"
  }
 },
 "nbformat": 4,
 "nbformat_minor": 5
}
