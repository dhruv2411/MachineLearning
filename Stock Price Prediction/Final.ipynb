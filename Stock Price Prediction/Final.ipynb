{
 "cells": [
  {
   "cell_type": "markdown",
   "metadata": {},
   "source": [
    "### Stock Market Prediction And Forecasting Using Stacked LSTM"
   ]
  },
  {
   "cell_type": "code",
   "execution_count": 1,
   "metadata": {},
   "outputs": [],
   "source": [
    "import pandas as pd"
   ]
  },
  {
   "cell_type": "code",
   "execution_count": 37,
   "metadata": {},
   "outputs": [],
   "source": [
    "df=pd.read_csv('AAPL19_22.csv')"
   ]
  },
  {
   "cell_type": "code",
   "execution_count": 38,
   "metadata": {},
   "outputs": [
    {
     "data": {
      "text/html": [
       "<div>\n",
       "<style scoped>\n",
       "    .dataframe tbody tr th:only-of-type {\n",
       "        vertical-align: middle;\n",
       "    }\n",
       "\n",
       "    .dataframe tbody tr th {\n",
       "        vertical-align: top;\n",
       "    }\n",
       "\n",
       "    .dataframe thead th {\n",
       "        text-align: right;\n",
       "    }\n",
       "</style>\n",
       "<table border=\"1\" class=\"dataframe\">\n",
       "  <thead>\n",
       "    <tr style=\"text-align: right;\">\n",
       "      <th></th>\n",
       "      <th>Date</th>\n",
       "      <th>Open</th>\n",
       "      <th>High</th>\n",
       "      <th>Low</th>\n",
       "      <th>Close</th>\n",
       "      <th>Adj Close</th>\n",
       "      <th>Volume</th>\n",
       "    </tr>\n",
       "  </thead>\n",
       "  <tbody>\n",
       "    <tr>\n",
       "      <th>0</th>\n",
       "      <td>2019-01-02</td>\n",
       "      <td>38.722500</td>\n",
       "      <td>39.712502</td>\n",
       "      <td>38.557499</td>\n",
       "      <td>39.480000</td>\n",
       "      <td>38.277523</td>\n",
       "      <td>148158800</td>\n",
       "    </tr>\n",
       "    <tr>\n",
       "      <th>1</th>\n",
       "      <td>2019-01-03</td>\n",
       "      <td>35.994999</td>\n",
       "      <td>36.430000</td>\n",
       "      <td>35.500000</td>\n",
       "      <td>35.547501</td>\n",
       "      <td>34.464806</td>\n",
       "      <td>365248800</td>\n",
       "    </tr>\n",
       "    <tr>\n",
       "      <th>2</th>\n",
       "      <td>2019-01-04</td>\n",
       "      <td>36.132500</td>\n",
       "      <td>37.137501</td>\n",
       "      <td>35.950001</td>\n",
       "      <td>37.064999</td>\n",
       "      <td>35.936081</td>\n",
       "      <td>234428400</td>\n",
       "    </tr>\n",
       "    <tr>\n",
       "      <th>3</th>\n",
       "      <td>2019-01-07</td>\n",
       "      <td>37.174999</td>\n",
       "      <td>37.207500</td>\n",
       "      <td>36.474998</td>\n",
       "      <td>36.982498</td>\n",
       "      <td>35.856091</td>\n",
       "      <td>219111200</td>\n",
       "    </tr>\n",
       "    <tr>\n",
       "      <th>4</th>\n",
       "      <td>2019-01-08</td>\n",
       "      <td>37.389999</td>\n",
       "      <td>37.955002</td>\n",
       "      <td>37.130001</td>\n",
       "      <td>37.687500</td>\n",
       "      <td>36.539619</td>\n",
       "      <td>164101200</td>\n",
       "    </tr>\n",
       "  </tbody>\n",
       "</table>\n",
       "</div>"
      ],
      "text/plain": [
       "         Date       Open       High        Low      Close  Adj Close  \\\n",
       "0  2019-01-02  38.722500  39.712502  38.557499  39.480000  38.277523   \n",
       "1  2019-01-03  35.994999  36.430000  35.500000  35.547501  34.464806   \n",
       "2  2019-01-04  36.132500  37.137501  35.950001  37.064999  35.936081   \n",
       "3  2019-01-07  37.174999  37.207500  36.474998  36.982498  35.856091   \n",
       "4  2019-01-08  37.389999  37.955002  37.130001  37.687500  36.539619   \n",
       "\n",
       "      Volume  \n",
       "0  148158800  \n",
       "1  365248800  \n",
       "2  234428400  \n",
       "3  219111200  \n",
       "4  164101200  "
      ]
     },
     "execution_count": 38,
     "metadata": {},
     "output_type": "execute_result"
    }
   ],
   "source": [
    "df.head()"
   ]
  },
  {
   "cell_type": "code",
   "execution_count": 39,
   "metadata": {},
   "outputs": [
    {
     "data": {
      "text/html": [
       "<div>\n",
       "<style scoped>\n",
       "    .dataframe tbody tr th:only-of-type {\n",
       "        vertical-align: middle;\n",
       "    }\n",
       "\n",
       "    .dataframe tbody tr th {\n",
       "        vertical-align: top;\n",
       "    }\n",
       "\n",
       "    .dataframe thead th {\n",
       "        text-align: right;\n",
       "    }\n",
       "</style>\n",
       "<table border=\"1\" class=\"dataframe\">\n",
       "  <thead>\n",
       "    <tr style=\"text-align: right;\">\n",
       "      <th></th>\n",
       "      <th>Date</th>\n",
       "      <th>Open</th>\n",
       "      <th>High</th>\n",
       "      <th>Low</th>\n",
       "      <th>Close</th>\n",
       "      <th>Adj Close</th>\n",
       "      <th>Volume</th>\n",
       "    </tr>\n",
       "  </thead>\n",
       "  <tbody>\n",
       "    <tr>\n",
       "      <th>801</th>\n",
       "      <td>2022-03-08</td>\n",
       "      <td>158.820007</td>\n",
       "      <td>162.880005</td>\n",
       "      <td>155.800003</td>\n",
       "      <td>157.440002</td>\n",
       "      <td>157.440002</td>\n",
       "      <td>131148300</td>\n",
       "    </tr>\n",
       "    <tr>\n",
       "      <th>802</th>\n",
       "      <td>2022-03-09</td>\n",
       "      <td>161.479996</td>\n",
       "      <td>163.410004</td>\n",
       "      <td>159.410004</td>\n",
       "      <td>162.949997</td>\n",
       "      <td>162.949997</td>\n",
       "      <td>91454900</td>\n",
       "    </tr>\n",
       "    <tr>\n",
       "      <th>803</th>\n",
       "      <td>2022-03-10</td>\n",
       "      <td>160.199997</td>\n",
       "      <td>160.389999</td>\n",
       "      <td>155.979996</td>\n",
       "      <td>158.520004</td>\n",
       "      <td>158.520004</td>\n",
       "      <td>105342000</td>\n",
       "    </tr>\n",
       "    <tr>\n",
       "      <th>804</th>\n",
       "      <td>2022-03-11</td>\n",
       "      <td>158.929993</td>\n",
       "      <td>159.279999</td>\n",
       "      <td>154.500000</td>\n",
       "      <td>154.729996</td>\n",
       "      <td>154.729996</td>\n",
       "      <td>96836300</td>\n",
       "    </tr>\n",
       "    <tr>\n",
       "      <th>805</th>\n",
       "      <td>2022-03-11</td>\n",
       "      <td>158.929993</td>\n",
       "      <td>159.279907</td>\n",
       "      <td>154.500000</td>\n",
       "      <td>154.729996</td>\n",
       "      <td>154.729996</td>\n",
       "      <td>96970102</td>\n",
       "    </tr>\n",
       "  </tbody>\n",
       "</table>\n",
       "</div>"
      ],
      "text/plain": [
       "           Date        Open        High         Low       Close   Adj Close  \\\n",
       "801  2022-03-08  158.820007  162.880005  155.800003  157.440002  157.440002   \n",
       "802  2022-03-09  161.479996  163.410004  159.410004  162.949997  162.949997   \n",
       "803  2022-03-10  160.199997  160.389999  155.979996  158.520004  158.520004   \n",
       "804  2022-03-11  158.929993  159.279999  154.500000  154.729996  154.729996   \n",
       "805  2022-03-11  158.929993  159.279907  154.500000  154.729996  154.729996   \n",
       "\n",
       "        Volume  \n",
       "801  131148300  \n",
       "802   91454900  \n",
       "803  105342000  \n",
       "804   96836300  \n",
       "805   96970102  "
      ]
     },
     "execution_count": 39,
     "metadata": {},
     "output_type": "execute_result"
    }
   ],
   "source": [
    "df.tail()"
   ]
  },
  {
   "cell_type": "code",
   "execution_count": 40,
   "metadata": {},
   "outputs": [],
   "source": [
    "df1=df.reset_index()['Close']"
   ]
  },
  {
   "cell_type": "code",
   "execution_count": 41,
   "metadata": {},
   "outputs": [
    {
     "data": {
      "text/plain": [
       "0       39.480000\n",
       "1       35.547501\n",
       "2       37.064999\n",
       "3       36.982498\n",
       "4       37.687500\n",
       "          ...    \n",
       "801    157.440002\n",
       "802    162.949997\n",
       "803    158.520004\n",
       "804    154.729996\n",
       "805    154.729996\n",
       "Name: Close, Length: 806, dtype: float64"
      ]
     },
     "execution_count": 41,
     "metadata": {},
     "output_type": "execute_result"
    }
   ],
   "source": [
    "df1"
   ]
  },
  {
   "cell_type": "code",
   "execution_count": 82,
   "metadata": {},
   "outputs": [],
   "source": [
    "df2=df\n",
    "df2=df2.drop([\"Open\",\"High\",\"Low\",\"Adj Close\",\"Volume\"],axis=1)\n"
   ]
  },
  {
   "cell_type": "code",
   "execution_count": 87,
   "metadata": {},
   "outputs": [
    {
     "data": {
      "text/html": [
       "<div>\n",
       "<style scoped>\n",
       "    .dataframe tbody tr th:only-of-type {\n",
       "        vertical-align: middle;\n",
       "    }\n",
       "\n",
       "    .dataframe tbody tr th {\n",
       "        vertical-align: top;\n",
       "    }\n",
       "\n",
       "    .dataframe thead th {\n",
       "        text-align: right;\n",
       "    }\n",
       "</style>\n",
       "<table border=\"1\" class=\"dataframe\">\n",
       "  <thead>\n",
       "    <tr style=\"text-align: right;\">\n",
       "      <th></th>\n",
       "      <th>Date</th>\n",
       "      <th>Close</th>\n",
       "    </tr>\n",
       "  </thead>\n",
       "  <tbody>\n",
       "    <tr>\n",
       "      <th>0</th>\n",
       "      <td>2019-01-02</td>\n",
       "      <td>39.480000</td>\n",
       "    </tr>\n",
       "    <tr>\n",
       "      <th>1</th>\n",
       "      <td>2019-01-03</td>\n",
       "      <td>35.547501</td>\n",
       "    </tr>\n",
       "    <tr>\n",
       "      <th>2</th>\n",
       "      <td>2019-01-04</td>\n",
       "      <td>37.064999</td>\n",
       "    </tr>\n",
       "    <tr>\n",
       "      <th>3</th>\n",
       "      <td>2019-01-07</td>\n",
       "      <td>36.982498</td>\n",
       "    </tr>\n",
       "    <tr>\n",
       "      <th>4</th>\n",
       "      <td>2019-01-08</td>\n",
       "      <td>37.687500</td>\n",
       "    </tr>\n",
       "    <tr>\n",
       "      <th>...</th>\n",
       "      <td>...</td>\n",
       "      <td>...</td>\n",
       "    </tr>\n",
       "    <tr>\n",
       "      <th>801</th>\n",
       "      <td>2022-03-08</td>\n",
       "      <td>157.440002</td>\n",
       "    </tr>\n",
       "    <tr>\n",
       "      <th>802</th>\n",
       "      <td>2022-03-09</td>\n",
       "      <td>162.949997</td>\n",
       "    </tr>\n",
       "    <tr>\n",
       "      <th>803</th>\n",
       "      <td>2022-03-10</td>\n",
       "      <td>158.520004</td>\n",
       "    </tr>\n",
       "    <tr>\n",
       "      <th>804</th>\n",
       "      <td>2022-03-11</td>\n",
       "      <td>154.729996</td>\n",
       "    </tr>\n",
       "    <tr>\n",
       "      <th>805</th>\n",
       "      <td>2022-03-11</td>\n",
       "      <td>154.729996</td>\n",
       "    </tr>\n",
       "  </tbody>\n",
       "</table>\n",
       "<p>806 rows × 2 columns</p>\n",
       "</div>"
      ],
      "text/plain": [
       "           Date       Close\n",
       "0    2019-01-02   39.480000\n",
       "1    2019-01-03   35.547501\n",
       "2    2019-01-04   37.064999\n",
       "3    2019-01-07   36.982498\n",
       "4    2019-01-08   37.687500\n",
       "..          ...         ...\n",
       "801  2022-03-08  157.440002\n",
       "802  2022-03-09  162.949997\n",
       "803  2022-03-10  158.520004\n",
       "804  2022-03-11  154.729996\n",
       "805  2022-03-11  154.729996\n",
       "\n",
       "[806 rows x 2 columns]"
      ]
     },
     "execution_count": 87,
     "metadata": {},
     "output_type": "execute_result"
    }
   ],
   "source": [
    "df2['Date']=pd.to_datetime(df2['Date'],format='%Y%m%d',errors='ignore')\n",
    "df2"
   ]
  },
  {
   "cell_type": "code",
   "execution_count": 88,
   "metadata": {},
   "outputs": [],
   "source": [
    "df2.set_index('Date',inplace=True)"
   ]
  },
  {
   "cell_type": "code",
   "execution_count": 95,
   "metadata": {},
   "outputs": [
    {
     "data": {
      "text/plain": [
       "<AxesSubplot:xlabel='Date'>"
      ]
     },
     "execution_count": 95,
     "metadata": {},
     "output_type": "execute_result"
    },
    {
     "data": {
      "image/png": "[encoded data removed]",
      "text/plain": [
       "<Figure size 720x576 with 1 Axes>"
      ]
     },
     "metadata": {
      "needs_background": "light"
     },
     "output_type": "display_data"
    }
   ],
   "source": [
    "df2.plot(figsize=(10,8))"
   ]
  },
  {
   "cell_type": "code",
   "execution_count": 42,
   "metadata": {},
   "outputs": [
    {
     "data": {
      "text/plain": [
       "[<matplotlib.lines.Line2D at 0x297faed4490>]"
      ]
     },
     "execution_count": 42,
     "metadata": {},
     "output_type": "execute_result"
    },
    {
     "data": {
      "image/png": "[encoded data removed]",
      "text/plain": [
       "<Figure size 432x288 with 1 Axes>"
      ]
     },
     "metadata": {
      "needs_background": "light"
     },
     "output_type": "display_data"
    }
   ],
   "source": [
    "import matplotlib.pyplot as plt\n",
    "plt.plot(df1)"
   ]
  },
  {
   "cell_type": "code",
   "execution_count": 44,
   "metadata": {},
   "outputs": [],
   "source": [
    "import numpy as np"
   ]
  },
  {
   "cell_type": "code",
   "execution_count": 46,
   "metadata": {},
   "outputs": [],
   "source": [
    "from sklearn.preprocessing import MinMaxScaler\n",
    "scaler=MinMaxScaler(feature_range=(0,1))\n",
    "df1=scaler.fit_transform(np.array(df1).reshape(-1,1))\n",
    "df1"
   ]
  },
  {
   "cell_type": "code",
   "execution_count": 48,
   "metadata": {},
   "outputs": [],
   "source": [
    "##splitting dataset into train and test split\n",
    "training_size=int(len(df1)*0.70)\n",
    "test_size=len(df1)-training_size\n",
    "train_data,test_data=df1[0:training_size,:],df1[training_size:len(df1),:1]"
   ]
  },
  {
   "cell_type": "code",
   "execution_count": 49,
   "metadata": {},
   "outputs": [
    {
     "data": {
      "text/plain": [
       "(564, 242)"
      ]
     },
     "execution_count": 49,
     "metadata": {},
     "output_type": "execute_result"
    }
   ],
   "source": [
    "training_size,test_size"
   ]
  },
  {
   "cell_type": "code",
   "execution_count": 51,
   "metadata": {},
   "outputs": [],
   "source": [
    "import numpy\n",
    "# convert an array of values into a dataset matrix\n",
    "def create_dataset(dataset, time_step=1):\n",
    "\tdataX, dataY = [], []\n",
    "\tfor i in range(len(dataset)-time_step-1):\n",
    "\t\ta = dataset[i:(i+time_step), 0]   ###i=0, 0,1,2,3-----99   100 \n",
    "\t\tdataX.append(a)\n",
    "\t\tdataY.append(dataset[i + time_step, 0])\n",
    "\treturn numpy.array(dataX), numpy.array(dataY)"
   ]
  },
  {
   "cell_type": "code",
   "execution_count": 52,
   "metadata": {},
   "outputs": [],
   "source": [
    "# reshape into X=t,t+1,t+2,t+3 and Y=t+4\n",
    "time_step = 100\n",
    "X_train, y_train = create_dataset(train_data, time_step)\n",
    "X_test, ytest = create_dataset(test_data, time_step)"
   ]
  },
  {
   "cell_type": "code",
   "execution_count": 53,
   "metadata": {},
   "outputs": [
    {
     "name": "stdout",
     "output_type": "stream",
     "text": [
      "(463, 100)\n",
      "(463,)\n"
     ]
    },
    {
     "data": {
      "text/plain": [
       "(None, None)"
      ]
     },
     "execution_count": 53,
     "metadata": {},
     "output_type": "execute_result"
    }
   ],
   "source": [
    "print(X_train.shape), print(y_train.shape)"
   ]
  },
  {
   "cell_type": "code",
   "execution_count": 54,
   "metadata": {},
   "outputs": [
    {
     "name": "stdout",
     "output_type": "stream",
     "text": [
      "(141, 100)\n",
      "(141,)\n"
     ]
    },
    {
     "data": {
      "text/plain": [
       "(None, None)"
      ]
     },
     "execution_count": 54,
     "metadata": {},
     "output_type": "execute_result"
    }
   ],
   "source": [
    "print(X_test.shape), print(ytest.shape)"
   ]
  },
  {
   "cell_type": "code",
   "execution_count": 55,
   "metadata": {},
   "outputs": [],
   "source": [
    "# reshape input to be [samples, time steps, features] which is required for LSTM\n",
    "X_train =X_train.reshape(X_train.shape[0],X_train.shape[1] , 1)\n",
    "X_test = X_test.reshape(X_test.shape[0],X_test.shape[1] , 1)"
   ]
  },
  {
   "cell_type": "code",
   "execution_count": 56,
   "metadata": {},
   "outputs": [],
   "source": [
    "### Create the Stacked LSTM model\n",
    "from tensorflow.keras.models import Sequential\n",
    "from tensorflow.keras.layers import Dense\n",
    "from tensorflow.keras.layers import LSTM"
   ]
  },
  {
   "cell_type": "code",
   "execution_count": 57,
   "metadata": {},
   "outputs": [],
   "source": [
    "model=Sequential()\n",
    "model.add(LSTM(50,return_sequences=True,input_shape=(100,1)))\n",
    "model.add(LSTM(50,return_sequences=True))\n",
    "model.add(LSTM(50))\n",
    "model.add(Dense(1))\n",
    "model.compile(loss='mean_squared_error',optimizer='adam')\n"
   ]
  },
  {
   "cell_type": "code",
   "execution_count": 58,
   "metadata": {},
   "outputs": [
    {
     "name": "stdout",
     "output_type": "stream",
     "text": [
      "Model: \"sequential\"\n",
      "_________________________________________________________________\n",
      " Layer (type)                Output Shape              Param #   \n",
      "=================================================================\n",
      " lstm (LSTM)                 (None, 100, 50)           10400     \n",
      "                                                                 \n",
      " lstm_1 (LSTM)               (None, 100, 50)           20200     \n",
      "                                                                 \n",
      " lstm_2 (LSTM)               (None, 50)                20200     \n",
      "                                                                 \n",
      " dense (Dense)               (None, 1)                 51        \n",
      "                                                                 \n",
      "=================================================================\n",
      "Total params: 50,851\n",
      "Trainable params: 50,851\n",
      "Non-trainable params: 0\n",
      "_________________________________________________________________\n"
     ]
    }
   ],
   "source": [
    "model.summary()"
   ]
  },
  {
   "cell_type": "code",
   "execution_count": 60,
   "metadata": {},
   "outputs": [
    {
     "name": "stdout",
     "output_type": "stream",
     "text": [
      "Epoch 1/100\n",
      "8/8 [==============================] - 5s 259ms/step - loss: 0.0676 - val_loss: 0.0173\n",
      "Epoch 2/100\n",
      "8/8 [==============================] - 1s 137ms/step - loss: 0.0116 - val_loss: 0.0873\n",
      "Epoch 3/100\n",
      "8/8 [==============================] - 1s 130ms/step - loss: 0.0068 - val_loss: 0.0023\n",
      "Epoch 4/100\n",
      "8/8 [==============================] - 1s 148ms/step - loss: 0.0039 - val_loss: 0.0243\n",
      "Epoch 5/100\n",
      "8/8 [==============================] - 1s 131ms/step - loss: 0.0029 - val_loss: 0.0022\n",
      "Epoch 6/100\n",
      "8/8 [==============================] - 1s 126ms/step - loss: 0.0019 - val_loss: 0.0049\n",
      "Epoch 7/100\n",
      "8/8 [==============================] - 1s 125ms/step - loss: 0.0015 - val_loss: 0.0021\n",
      "Epoch 8/100\n",
      "8/8 [==============================] - 1s 138ms/step - loss: 0.0014 - val_loss: 0.0033\n",
      "Epoch 9/100\n",
      "8/8 [==============================] - 1s 134ms/step - loss: 0.0014 - val_loss: 0.0030\n",
      "Epoch 10/100\n",
      "8/8 [==============================] - 1s 122ms/step - loss: 0.0013 - val_loss: 0.0027\n",
      "Epoch 11/100\n",
      "8/8 [==============================] - 1s 134ms/step - loss: 0.0014 - val_loss: 0.0042\n",
      "Epoch 12/100\n",
      "8/8 [==============================] - 1s 125ms/step - loss: 0.0013 - val_loss: 0.0026\n",
      "Epoch 13/100\n",
      "8/8 [==============================] - 1s 126ms/step - loss: 0.0013 - val_loss: 0.0039\n",
      "Epoch 14/100\n",
      "8/8 [==============================] - 1s 128ms/step - loss: 0.0013 - val_loss: 0.0028\n",
      "Epoch 15/100\n",
      "8/8 [==============================] - 1s 131ms/step - loss: 0.0012 - val_loss: 0.0043\n",
      "Epoch 16/100\n",
      "8/8 [==============================] - 1s 135ms/step - loss: 0.0012 - val_loss: 0.0025\n",
      "Epoch 17/100\n",
      "8/8 [==============================] - 1s 121ms/step - loss: 0.0012 - val_loss: 0.0043\n",
      "Epoch 18/100\n",
      "8/8 [==============================] - 1s 125ms/step - loss: 0.0012 - val_loss: 0.0038\n",
      "Epoch 19/100\n",
      "8/8 [==============================] - 1s 128ms/step - loss: 0.0012 - val_loss: 0.0024\n",
      "Epoch 20/100\n",
      "8/8 [==============================] - 1s 127ms/step - loss: 0.0012 - val_loss: 0.0045\n",
      "Epoch 21/100\n",
      "8/8 [==============================] - 1s 124ms/step - loss: 0.0012 - val_loss: 0.0030\n",
      "Epoch 22/100\n",
      "8/8 [==============================] - 1s 125ms/step - loss: 0.0011 - val_loss: 0.0052\n",
      "Epoch 23/100\n",
      "8/8 [==============================] - 1s 123ms/step - loss: 0.0013 - val_loss: 0.0024\n",
      "Epoch 24/100\n",
      "8/8 [==============================] - 1s 130ms/step - loss: 0.0012 - val_loss: 0.0031\n",
      "Epoch 25/100\n",
      "8/8 [==============================] - 1s 123ms/step - loss: 0.0011 - val_loss: 0.0052\n",
      "Epoch 26/100\n",
      "8/8 [==============================] - 1s 123ms/step - loss: 0.0011 - val_loss: 0.0033\n",
      "Epoch 27/100\n",
      "8/8 [==============================] - 1s 125ms/step - loss: 0.0011 - val_loss: 0.0032\n",
      "Epoch 28/100\n",
      "8/8 [==============================] - 1s 120ms/step - loss: 0.0010 - val_loss: 0.0040\n",
      "Epoch 29/100\n",
      "8/8 [==============================] - 1s 147ms/step - loss: 0.0011 - val_loss: 0.0019\n",
      "Epoch 30/100\n",
      "8/8 [==============================] - 1s 133ms/step - loss: 0.0011 - val_loss: 0.0045\n",
      "Epoch 31/100\n",
      "8/8 [==============================] - 1s 142ms/step - loss: 9.8316e-04 - val_loss: 0.0032\n",
      "Epoch 32/100\n",
      "8/8 [==============================] - 1s 136ms/step - loss: 9.8719e-04 - val_loss: 0.0029\n",
      "Epoch 33/100\n",
      "8/8 [==============================] - 1s 120ms/step - loss: 9.4384e-04 - val_loss: 0.0035\n",
      "Epoch 34/100\n",
      "8/8 [==============================] - 1s 122ms/step - loss: 9.3023e-04 - val_loss: 0.0028\n",
      "Epoch 35/100\n",
      "8/8 [==============================] - 1s 137ms/step - loss: 9.5892e-04 - val_loss: 0.0063\n",
      "Epoch 36/100\n",
      "8/8 [==============================] - 1s 127ms/step - loss: 9.2988e-04 - val_loss: 0.0068\n",
      "Epoch 37/100\n",
      "8/8 [==============================] - 1s 136ms/step - loss: 9.3143e-04 - val_loss: 0.0018\n",
      "Epoch 38/100\n",
      "8/8 [==============================] - 1s 140ms/step - loss: 9.6509e-04 - val_loss: 0.0021\n",
      "Epoch 39/100\n",
      "8/8 [==============================] - 1s 123ms/step - loss: 8.7863e-04 - val_loss: 0.0038\n",
      "Epoch 40/100\n",
      "8/8 [==============================] - 1s 124ms/step - loss: 8.6797e-04 - val_loss: 0.0022\n",
      "Epoch 41/100\n",
      "8/8 [==============================] - 1s 122ms/step - loss: 8.6097e-04 - val_loss: 0.0045\n",
      "Epoch 42/100\n",
      "8/8 [==============================] - 1s 134ms/step - loss: 8.4781e-04 - val_loss: 0.0045\n",
      "Epoch 43/100\n",
      "8/8 [==============================] - 1s 123ms/step - loss: 8.4634e-04 - val_loss: 0.0037\n",
      "Epoch 44/100\n",
      "8/8 [==============================] - 1s 127ms/step - loss: 8.2630e-04 - val_loss: 0.0014\n",
      "Epoch 45/100\n",
      "8/8 [==============================] - 1s 127ms/step - loss: 0.0011 - val_loss: 0.0020\n",
      "Epoch 46/100\n",
      "8/8 [==============================] - 1s 129ms/step - loss: 9.1957e-04 - val_loss: 0.0024\n",
      "Epoch 47/100\n",
      "8/8 [==============================] - 1s 120ms/step - loss: 8.4687e-04 - val_loss: 0.0034\n",
      "Epoch 48/100\n",
      "8/8 [==============================] - 1s 142ms/step - loss: 8.2047e-04 - val_loss: 0.0018\n",
      "Epoch 49/100\n",
      "8/8 [==============================] - 1s 133ms/step - loss: 9.7384e-04 - val_loss: 0.0026\n",
      "Epoch 50/100\n",
      "8/8 [==============================] - 1s 132ms/step - loss: 8.3383e-04 - val_loss: 0.0030\n",
      "Epoch 51/100\n",
      "8/8 [==============================] - 1s 130ms/step - loss: 8.4353e-04 - val_loss: 0.0044\n",
      "Epoch 52/100\n",
      "8/8 [==============================] - 1s 133ms/step - loss: 8.1474e-04 - val_loss: 0.0026\n",
      "Epoch 53/100\n",
      "8/8 [==============================] - 1s 136ms/step - loss: 8.1491e-04 - val_loss: 0.0020\n",
      "Epoch 54/100\n",
      "8/8 [==============================] - 1s 133ms/step - loss: 8.2825e-04 - val_loss: 0.0033\n",
      "Epoch 55/100\n",
      "8/8 [==============================] - 1s 137ms/step - loss: 7.6209e-04 - val_loss: 0.0032\n",
      "Epoch 56/100\n",
      "8/8 [==============================] - 1s 129ms/step - loss: 7.3286e-04 - val_loss: 0.0055\n",
      "Epoch 57/100\n",
      "8/8 [==============================] - 1s 128ms/step - loss: 7.8928e-04 - val_loss: 0.0042\n",
      "Epoch 58/100\n",
      "8/8 [==============================] - 1s 147ms/step - loss: 7.1018e-04 - val_loss: 0.0042\n",
      "Epoch 59/100\n",
      "8/8 [==============================] - 1s 141ms/step - loss: 7.2039e-04 - val_loss: 0.0039\n",
      "Epoch 60/100\n",
      "8/8 [==============================] - 1s 139ms/step - loss: 7.4425e-04 - val_loss: 0.0052\n",
      "Epoch 61/100\n",
      "8/8 [==============================] - 1s 146ms/step - loss: 7.4534e-04 - val_loss: 0.0055\n",
      "Epoch 62/100\n",
      "8/8 [==============================] - 1s 126ms/step - loss: 7.5935e-04 - val_loss: 0.0056\n",
      "Epoch 63/100\n",
      "8/8 [==============================] - 1s 123ms/step - loss: 6.9910e-04 - val_loss: 0.0034\n",
      "Epoch 64/100\n",
      "8/8 [==============================] - 1s 126ms/step - loss: 6.9812e-04 - val_loss: 0.0034\n",
      "Epoch 65/100\n",
      "8/8 [==============================] - 1s 129ms/step - loss: 7.6626e-04 - val_loss: 0.0041\n",
      "Epoch 66/100\n",
      "8/8 [==============================] - 1s 133ms/step - loss: 7.9271e-04 - val_loss: 0.0023\n",
      "Epoch 67/100\n",
      "8/8 [==============================] - 1s 134ms/step - loss: 6.7361e-04 - val_loss: 0.0016\n",
      "Epoch 68/100\n",
      "8/8 [==============================] - 1s 126ms/step - loss: 7.0592e-04 - val_loss: 0.0015\n",
      "Epoch 69/100\n",
      "8/8 [==============================] - 1s 142ms/step - loss: 6.7798e-04 - val_loss: 0.0015\n",
      "Epoch 70/100\n",
      "8/8 [==============================] - 1s 123ms/step - loss: 6.4377e-04 - val_loss: 0.0024\n",
      "Epoch 71/100\n",
      "8/8 [==============================] - 1s 122ms/step - loss: 6.8221e-04 - val_loss: 0.0035\n",
      "Epoch 72/100\n",
      "8/8 [==============================] - 1s 134ms/step - loss: 6.3364e-04 - val_loss: 0.0060\n",
      "Epoch 73/100\n",
      "8/8 [==============================] - 1s 155ms/step - loss: 6.8773e-04 - val_loss: 0.0065\n",
      "Epoch 74/100\n",
      "8/8 [==============================] - 1s 130ms/step - loss: 7.3802e-04 - val_loss: 0.0041\n",
      "Epoch 75/100\n",
      "8/8 [==============================] - 1s 125ms/step - loss: 6.3851e-04 - val_loss: 0.0021\n",
      "Epoch 76/100\n",
      "8/8 [==============================] - 1s 130ms/step - loss: 7.1426e-04 - val_loss: 0.0029\n",
      "Epoch 77/100\n",
      "8/8 [==============================] - 1s 163ms/step - loss: 7.0097e-04 - val_loss: 0.0028\n",
      "Epoch 78/100\n",
      "8/8 [==============================] - 1s 132ms/step - loss: 6.8271e-04 - val_loss: 0.0022\n",
      "Epoch 79/100\n",
      "8/8 [==============================] - 1s 166ms/step - loss: 5.9496e-04 - val_loss: 0.0017\n",
      "Epoch 80/100\n",
      "8/8 [==============================] - 1s 144ms/step - loss: 6.1745e-04 - val_loss: 0.0024\n",
      "Epoch 81/100\n",
      "8/8 [==============================] - 1s 141ms/step - loss: 6.6438e-04 - val_loss: 0.0025\n",
      "Epoch 82/100\n",
      "8/8 [==============================] - 1s 145ms/step - loss: 5.8439e-04 - val_loss: 0.0020\n",
      "Epoch 83/100\n",
      "8/8 [==============================] - 1s 153ms/step - loss: 5.8947e-04 - val_loss: 0.0020\n",
      "Epoch 84/100\n",
      "8/8 [==============================] - 1s 141ms/step - loss: 5.8255e-04 - val_loss: 0.0014\n",
      "Epoch 85/100\n",
      "8/8 [==============================] - 1s 161ms/step - loss: 5.9541e-04 - val_loss: 0.0018\n",
      "Epoch 86/100\n",
      "8/8 [==============================] - 1s 149ms/step - loss: 5.7603e-04 - val_loss: 0.0030\n",
      "Epoch 87/100\n",
      "8/8 [==============================] - 1s 156ms/step - loss: 5.8095e-04 - val_loss: 0.0019\n",
      "Epoch 88/100\n",
      "8/8 [==============================] - 1s 169ms/step - loss: 5.9105e-04 - val_loss: 0.0030\n",
      "Epoch 89/100\n",
      "8/8 [==============================] - 1s 173ms/step - loss: 5.9455e-04 - val_loss: 0.0033\n",
      "Epoch 90/100\n",
      "8/8 [==============================] - 1s 168ms/step - loss: 5.9229e-04 - val_loss: 0.0032\n",
      "Epoch 91/100\n",
      "8/8 [==============================] - 1s 162ms/step - loss: 5.5243e-04 - val_loss: 0.0022\n",
      "Epoch 92/100\n",
      "8/8 [==============================] - 1s 153ms/step - loss: 5.4097e-04 - val_loss: 0.0025\n",
      "Epoch 93/100\n",
      "8/8 [==============================] - 1s 141ms/step - loss: 5.3210e-04 - val_loss: 0.0020\n",
      "Epoch 94/100\n",
      "8/8 [==============================] - 1s 158ms/step - loss: 5.4910e-04 - val_loss: 0.0031\n",
      "Epoch 95/100\n",
      "8/8 [==============================] - 1s 142ms/step - loss: 6.2970e-04 - val_loss: 0.0037\n",
      "Epoch 96/100\n",
      "8/8 [==============================] - 1s 144ms/step - loss: 5.3600e-04 - val_loss: 0.0029\n",
      "Epoch 97/100\n",
      "8/8 [==============================] - 1s 146ms/step - loss: 5.2679e-04 - val_loss: 0.0020\n",
      "Epoch 98/100\n",
      "8/8 [==============================] - 1s 140ms/step - loss: 5.6392e-04 - val_loss: 0.0014\n",
      "Epoch 99/100\n",
      "8/8 [==============================] - 1s 143ms/step - loss: 6.4890e-04 - val_loss: 0.0015\n",
      "Epoch 100/100\n",
      "8/8 [==============================] - 1s 136ms/step - loss: 5.3602e-04 - val_loss: 0.0014\n"
     ]
    },
    {
     "data": {
      "text/plain": [
       "<keras.callbacks.History at 0x29783295ca0>"
      ]
     },
     "execution_count": 60,
     "metadata": {},
     "output_type": "execute_result"
    }
   ],
   "source": [
    "model.fit(X_train,y_train,validation_data=(X_test,ytest),epochs=100,batch_size=64,verbose=1)"
   ]
  },
  {
   "cell_type": "code",
   "execution_count": 61,
   "metadata": {},
   "outputs": [],
   "source": [
    "import tensorflow as tf"
   ]
  },
  {
   "cell_type": "code",
   "execution_count": 62,
   "metadata": {},
   "outputs": [
    {
     "data": {
      "text/plain": [
       "'2.8.0'"
      ]
     },
     "execution_count": 62,
     "metadata": {},
     "output_type": "execute_result"
    }
   ],
   "source": [
    "tf.__version__"
   ]
  },
  {
   "cell_type": "code",
   "execution_count": 63,
   "metadata": {},
   "outputs": [],
   "source": [
    "### Lets Do the prediction and check performance metrics\n",
    "train_predict=model.predict(X_train)\n",
    "test_predict=model.predict(X_test)"
   ]
  },
  {
   "cell_type": "code",
   "execution_count": 64,
   "metadata": {},
   "outputs": [
    {
     "data": {
      "image/png": "[encoded data removed]",
      "text/plain": [
       "<Figure size 432x288 with 1 Axes>"
      ]
     },
     "metadata": {
      "needs_background": "light"
     },
     "output_type": "display_data"
    }
   ],
   "source": [
    "#Predicted vs True Adj Close Value – LSTM\n",
    "plt.plot(ytest, label='True Value')\n",
    "plt.plot(test_predict, label='LSTM Value')\n",
    "plt.title(\"Prediction by LSTM\")\n",
    "plt.xlabel('Time Scale')\n",
    "plt.ylabel('Scaled USD')\n",
    "plt.legend()\n",
    "plt.show()"
   ]
  },
  {
   "cell_type": "code",
   "execution_count": 145,
   "metadata": {},
   "outputs": [
    {
     "data": {
      "text/plain": [
       "(182, 1)"
      ]
     },
     "execution_count": 145,
     "metadata": {},
     "output_type": "execute_result"
    }
   ],
   "source": [
    "test_predict.shape"
   ]
  },
  {
   "cell_type": "code",
   "execution_count": 65,
   "metadata": {},
   "outputs": [],
   "source": [
    "##Transformback to original form\n",
    "train_predict=scaler.inverse_transform(train_predict)\n",
    "test_predict=scaler.inverse_transform(test_predict)"
   ]
  },
  {
   "cell_type": "code",
   "execution_count": 66,
   "metadata": {},
   "outputs": [
    {
     "data": {
      "text/plain": [
       "92.00502714649225"
      ]
     },
     "execution_count": 66,
     "metadata": {},
     "output_type": "execute_result"
    }
   ],
   "source": [
    "### Calculate RMSE performance metrics\n",
    "import math\n",
    "from sklearn.metrics import mean_squared_error\n",
    "math.sqrt(mean_squared_error(y_train,train_predict))"
   ]
  },
  {
   "cell_type": "code",
   "execution_count": 67,
   "metadata": {},
   "outputs": [
    {
     "data": {
      "text/plain": [
       "155.80092890018057"
      ]
     },
     "execution_count": 67,
     "metadata": {},
     "output_type": "execute_result"
    }
   ],
   "source": [
    "### Test Data RMSE\n",
    "math.sqrt(mean_squared_error(ytest,test_predict))"
   ]
  },
  {
   "cell_type": "code",
   "execution_count": 68,
   "metadata": {},
   "outputs": [
    {
     "data": {
      "image/png": "[encoded data removed]",
      "text/plain": [
       "<Figure size 432x288 with 1 Axes>"
      ]
     },
     "metadata": {
      "needs_background": "light"
     },
     "output_type": "display_data"
    }
   ],
   "source": [
    "### Plotting \n",
    "# shift train predictions for plotting\n",
    "look_back=100\n",
    "trainPredictPlot = numpy.empty_like(df1)\n",
    "trainPredictPlot[:, :] = np.nan\n",
    "trainPredictPlot[look_back:len(train_predict)+look_back, :] = train_predict\n",
    "# shift test predictions for plotting\n",
    "testPredictPlot = numpy.empty_like(df1)\n",
    "testPredictPlot[:, :] = numpy.nan\n",
    "testPredictPlot[len(train_predict)+(look_back*2)+1:len(df1)-1, :] = test_predict\n",
    "# plot baseline and predictions\n",
    "plt.plot(scaler.inverse_transform(df1))\n",
    "plt.plot(trainPredictPlot)\n",
    "plt.plot(testPredictPlot)\n",
    "plt.show()"
   ]
  },
  {
   "cell_type": "code",
   "execution_count": 69,
   "metadata": {},
   "outputs": [
    {
     "data": {
      "text/plain": [
       "242"
      ]
     },
     "execution_count": 69,
     "metadata": {},
     "output_type": "execute_result"
    }
   ],
   "source": [
    "len(test_data)"
   ]
  },
  {
   "cell_type": "code",
   "execution_count": 70,
   "metadata": {},
   "outputs": [
    {
     "data": {
      "text/plain": [
       "(1, 100)"
      ]
     },
     "execution_count": 70,
     "metadata": {},
     "output_type": "execute_result"
    }
   ],
   "source": [
    "#100 less than test_data\n",
    "x_input=test_data[142:].reshape(1,-1)\n",
    "x_input.shape\n"
   ]
  },
  {
   "cell_type": "code",
   "execution_count": 71,
   "metadata": {},
   "outputs": [],
   "source": [
    "temp_input=list(x_input)\n",
    "temp_input=temp_input[0].tolist()"
   ]
  },
  {
   "cell_type": "code",
   "execution_count": 72,
   "metadata": {},
   "outputs": [
    {
     "data": {
      "text/plain": [
       "[0.7763932655687265,\n",
       " 0.7778953634368675,\n",
       " 0.772501532030446,\n",
       " 0.7721601272200103,\n",
       " 0.7768030086938162,\n",
       " 0.7735939891887955,\n",
       " 0.7989929899732557,\n",
       " 0.7800802709258796,\n",
       " 0.774345041536709,\n",
       " 0.7815823687940204,\n",
       " 0.7916190748465612,\n",
       " 0.7880004146317487,\n",
       " 0.7901852197054628,\n",
       " 0.7844499834886056,\n",
       " 0.7869762002004419,\n",
       " 0.7672441860781096,\n",
       " 0.7669027812676739,\n",
       " 0.7813775450252813,\n",
       " 0.781445787752324,\n",
       " 0.7882734742998436,\n",
       " 0.8052744479416007,\n",
       " 0.835179646742872,\n",
       " 0.8534779013117175,\n",
       " 0.8566869208167383,\n",
       " 0.859349718570271,\n",
       " 0.8629683787850835,\n",
       " 0.8279423194855609,\n",
       " 0.8513613321373594,\n",
       " 0.8859094124124367,\n",
       " 0.8822907453699376,\n",
       " 0.8753947205077637,\n",
       " 0.8622855691642124,\n",
       " 0.8860459934541332,\n",
       " 0.9260561410349875,\n",
       " 0.9526841800194938,\n",
       " 0.9491337557040374,\n",
       " 0.9825211360937225,\n",
       " 0.9571904736239163,\n",
       " 0.9475634151088539,\n",
       " 0.9814970240777139,\n",
       " 0.933430056161682,\n",
       " 0.9257830745392059,\n",
       " 0.91629259706584,\n",
       " 0.9384143356182368,\n",
       " 0.956507664003045,\n",
       " 0.9608773833934579,\n",
       " 0.9885295343939728,\n",
       " 0.9814286789353732,\n",
       " 0.9820432526568885,\n",
       " 0.9739865279093227,\n",
       " 0.9696851536612507,\n",
       " 1.0000000000000002,\n",
       " 0.9842280577306024,\n",
       " 0.9515917228611444,\n",
       " 0.9316548917977596,\n",
       " 0.9328155848554649,\n",
       " 0.9329521658971613,\n",
       " 0.9526841800194938,\n",
       " 0.9557566184828179,\n",
       " 0.9329521658971613,\n",
       " 0.9389605641974117,\n",
       " 0.9166340018762758,\n",
       " 0.8922591131078241,\n",
       " 0.8805154854184036,\n",
       " 0.8661774051177908,\n",
       " 0.8607834712960711,\n",
       " 0.8482205553593811,\n",
       " 0.8476060840531638,\n",
       " 0.8443970645481431,\n",
       " 0.9202526689187747,\n",
       " 0.9506358535721782,\n",
       " 0.9494751605144729,\n",
       " 0.9578731808294896,\n",
       " 0.9377997687244082,\n",
       " 0.9343176827236057,\n",
       " 0.9293335056823491,\n",
       " 0.9509772583826137,\n",
       " 0.9608773833934579,\n",
       " 0.9324741800450291,\n",
       " 0.9087138581704064,\n",
       " 0.9103525439079307,\n",
       " 0.9370487163764945,\n",
       " 0.9354101398819552,\n",
       " 0.9103525439079307,\n",
       " 0.8995647855074762,\n",
       " 0.8792183069066133,\n",
       " 0.8502006390796542,\n",
       " 0.868430548506159,\n",
       " 0.8828369739491124,\n",
       " 0.8846803742123905,\n",
       " 0.8715712296965257,\n",
       " 0.8945122633238789,\n",
       " 0.8922591131078241,\n",
       " 0.8713664059277866,\n",
       " 0.8449432931273178,\n",
       " 0.8322437893212442,\n",
       " 0.8698643080596458,\n",
       " 0.8396177044479389,\n",
       " 0.8137407178113465,\n",
       " 0.8137407178113465]"
      ]
     },
     "execution_count": 72,
     "metadata": {},
     "output_type": "execute_result"
    }
   ],
   "source": [
    "temp_input.head()"
   ]
  },
  {
   "cell_type": "code",
   "execution_count": 73,
   "metadata": {},
   "outputs": [
    {
     "name": "stdout",
     "output_type": "stream",
     "text": [
      "[0.81905115]\n",
      "101\n",
      "1 day input [0.77789536 0.77250153 0.77216013 0.77680301 0.77359399 0.79899299\n",
      " 0.78008027 0.77434504 0.78158237 0.79161907 0.78800041 0.79018522\n",
      " 0.78444998 0.7869762  0.76724419 0.76690278 0.78137755 0.78144579\n",
      " 0.78827347 0.80527445 0.83517965 0.8534779  0.85668692 0.85934972\n",
      " 0.86296838 0.82794232 0.85136133 0.88590941 0.88229075 0.87539472\n",
      " 0.86228557 0.88604599 0.92605614 0.95268418 0.94913376 0.98252114\n",
      " 0.95719047 0.94756342 0.98149702 0.93343006 0.92578307 0.9162926\n",
      " 0.93841434 0.95650766 0.96087738 0.98852953 0.98142868 0.98204325\n",
      " 0.97398653 0.96968515 1.         0.98422806 0.95159172 0.93165489\n",
      " 0.93281558 0.93295217 0.95268418 0.95575662 0.93295217 0.93896056\n",
      " 0.916634   0.89225911 0.88051549 0.86617741 0.86078347 0.84822056\n",
      " 0.84760608 0.84439706 0.92025267 0.95063585 0.94947516 0.95787318\n",
      " 0.93779977 0.93431768 0.92933351 0.95097726 0.96087738 0.93247418\n",
      " 0.90871386 0.91035254 0.93704872 0.93541014 0.91035254 0.89956479\n",
      " 0.87921831 0.85020064 0.86843055 0.88283697 0.88468037 0.87157123\n",
      " 0.89451226 0.89225911 0.87136641 0.84494329 0.83224379 0.86986431\n",
      " 0.8396177  0.81374072 0.81374072 0.81905115]\n",
      "1 day output [[0.8110489]]\n",
      "2 day input [0.77250153 0.77216013 0.77680301 0.77359399 0.79899299 0.78008027\n",
      " 0.77434504 0.78158237 0.79161907 0.78800041 0.79018522 0.78444998\n",
      " 0.7869762  0.76724419 0.76690278 0.78137755 0.78144579 0.78827347\n",
      " 0.80527445 0.83517965 0.8534779  0.85668692 0.85934972 0.86296838\n",
      " 0.82794232 0.85136133 0.88590941 0.88229075 0.87539472 0.86228557\n",
      " 0.88604599 0.92605614 0.95268418 0.94913376 0.98252114 0.95719047\n",
      " 0.94756342 0.98149702 0.93343006 0.92578307 0.9162926  0.93841434\n",
      " 0.95650766 0.96087738 0.98852953 0.98142868 0.98204325 0.97398653\n",
      " 0.96968515 1.         0.98422806 0.95159172 0.93165489 0.93281558\n",
      " 0.93295217 0.95268418 0.95575662 0.93295217 0.93896056 0.916634\n",
      " 0.89225911 0.88051549 0.86617741 0.86078347 0.84822056 0.84760608\n",
      " 0.84439706 0.92025267 0.95063585 0.94947516 0.95787318 0.93779977\n",
      " 0.93431768 0.92933351 0.95097726 0.96087738 0.93247418 0.90871386\n",
      " 0.91035254 0.93704872 0.93541014 0.91035254 0.89956479 0.87921831\n",
      " 0.85020064 0.86843055 0.88283697 0.88468037 0.87157123 0.89451226\n",
      " 0.89225911 0.87136641 0.84494329 0.83224379 0.86986431 0.8396177\n",
      " 0.81374072 0.81374072 0.81905115 0.81104892]\n",
      "2 day output [[0.8044806]]\n",
      "3 day input [0.77216013 0.77680301 0.77359399 0.79899299 0.78008027 0.77434504\n",
      " 0.78158237 0.79161907 0.78800041 0.79018522 0.78444998 0.7869762\n",
      " 0.76724419 0.76690278 0.78137755 0.78144579 0.78827347 0.80527445\n",
      " 0.83517965 0.8534779  0.85668692 0.85934972 0.86296838 0.82794232\n",
      " 0.85136133 0.88590941 0.88229075 0.87539472 0.86228557 0.88604599\n",
      " 0.92605614 0.95268418 0.94913376 0.98252114 0.95719047 0.94756342\n",
      " 0.98149702 0.93343006 0.92578307 0.9162926  0.93841434 0.95650766\n",
      " 0.96087738 0.98852953 0.98142868 0.98204325 0.97398653 0.96968515\n",
      " 1.         0.98422806 0.95159172 0.93165489 0.93281558 0.93295217\n",
      " 0.95268418 0.95575662 0.93295217 0.93896056 0.916634   0.89225911\n",
      " 0.88051549 0.86617741 0.86078347 0.84822056 0.84760608 0.84439706\n",
      " 0.92025267 0.95063585 0.94947516 0.95787318 0.93779977 0.93431768\n",
      " 0.92933351 0.95097726 0.96087738 0.93247418 0.90871386 0.91035254\n",
      " 0.93704872 0.93541014 0.91035254 0.89956479 0.87921831 0.85020064\n",
      " 0.86843055 0.88283697 0.88468037 0.87157123 0.89451226 0.89225911\n",
      " 0.87136641 0.84494329 0.83224379 0.86986431 0.8396177  0.81374072\n",
      " 0.81374072 0.81905115 0.81104892 0.80448061]\n",
      "3 day output [[0.7990313]]\n",
      "4 day input [0.77680301 0.77359399 0.79899299 0.78008027 0.77434504 0.78158237\n",
      " 0.79161907 0.78800041 0.79018522 0.78444998 0.7869762  0.76724419\n",
      " 0.76690278 0.78137755 0.78144579 0.78827347 0.80527445 0.83517965\n",
      " 0.8534779  0.85668692 0.85934972 0.86296838 0.82794232 0.85136133\n",
      " 0.88590941 0.88229075 0.87539472 0.86228557 0.88604599 0.92605614\n",
      " 0.95268418 0.94913376 0.98252114 0.95719047 0.94756342 0.98149702\n",
      " 0.93343006 0.92578307 0.9162926  0.93841434 0.95650766 0.96087738\n",
      " 0.98852953 0.98142868 0.98204325 0.97398653 0.96968515 1.\n",
      " 0.98422806 0.95159172 0.93165489 0.93281558 0.93295217 0.95268418\n",
      " 0.95575662 0.93295217 0.93896056 0.916634   0.89225911 0.88051549\n",
      " 0.86617741 0.86078347 0.84822056 0.84760608 0.84439706 0.92025267\n",
      " 0.95063585 0.94947516 0.95787318 0.93779977 0.93431768 0.92933351\n",
      " 0.95097726 0.96087738 0.93247418 0.90871386 0.91035254 0.93704872\n",
      " 0.93541014 0.91035254 0.89956479 0.87921831 0.85020064 0.86843055\n",
      " 0.88283697 0.88468037 0.87157123 0.89451226 0.89225911 0.87136641\n",
      " 0.84494329 0.83224379 0.86986431 0.8396177  0.81374072 0.81374072\n",
      " 0.81905115 0.81104892 0.80448061 0.79903132]\n",
      "4 day output [[0.79440874]]\n",
      "5 day input [0.77359399 0.79899299 0.78008027 0.77434504 0.78158237 0.79161907\n",
      " 0.78800041 0.79018522 0.78444998 0.7869762  0.76724419 0.76690278\n",
      " 0.78137755 0.78144579 0.78827347 0.80527445 0.83517965 0.8534779\n",
      " 0.85668692 0.85934972 0.86296838 0.82794232 0.85136133 0.88590941\n",
      " 0.88229075 0.87539472 0.86228557 0.88604599 0.92605614 0.95268418\n",
      " 0.94913376 0.98252114 0.95719047 0.94756342 0.98149702 0.93343006\n",
      " 0.92578307 0.9162926  0.93841434 0.95650766 0.96087738 0.98852953\n",
      " 0.98142868 0.98204325 0.97398653 0.96968515 1.         0.98422806\n",
      " 0.95159172 0.93165489 0.93281558 0.93295217 0.95268418 0.95575662\n",
      " 0.93295217 0.93896056 0.916634   0.89225911 0.88051549 0.86617741\n",
      " 0.86078347 0.84822056 0.84760608 0.84439706 0.92025267 0.95063585\n",
      " 0.94947516 0.95787318 0.93779977 0.93431768 0.92933351 0.95097726\n",
      " 0.96087738 0.93247418 0.90871386 0.91035254 0.93704872 0.93541014\n",
      " 0.91035254 0.89956479 0.87921831 0.85020064 0.86843055 0.88283697\n",
      " 0.88468037 0.87157123 0.89451226 0.89225911 0.87136641 0.84494329\n",
      " 0.83224379 0.86986431 0.8396177  0.81374072 0.81374072 0.81905115\n",
      " 0.81104892 0.80448061 0.79903132 0.79440874]\n",
      "5 day output [[0.7904057]]\n",
      "6 day input [0.79899299 0.78008027 0.77434504 0.78158237 0.79161907 0.78800041\n",
      " 0.79018522 0.78444998 0.7869762  0.76724419 0.76690278 0.78137755\n",
      " 0.78144579 0.78827347 0.80527445 0.83517965 0.8534779  0.85668692\n",
      " 0.85934972 0.86296838 0.82794232 0.85136133 0.88590941 0.88229075\n",
      " 0.87539472 0.86228557 0.88604599 0.92605614 0.95268418 0.94913376\n",
      " 0.98252114 0.95719047 0.94756342 0.98149702 0.93343006 0.92578307\n",
      " 0.9162926  0.93841434 0.95650766 0.96087738 0.98852953 0.98142868\n",
      " 0.98204325 0.97398653 0.96968515 1.         0.98422806 0.95159172\n",
      " 0.93165489 0.93281558 0.93295217 0.95268418 0.95575662 0.93295217\n",
      " 0.93896056 0.916634   0.89225911 0.88051549 0.86617741 0.86078347\n",
      " 0.84822056 0.84760608 0.84439706 0.92025267 0.95063585 0.94947516\n",
      " 0.95787318 0.93779977 0.93431768 0.92933351 0.95097726 0.96087738\n",
      " 0.93247418 0.90871386 0.91035254 0.93704872 0.93541014 0.91035254\n",
      " 0.89956479 0.87921831 0.85020064 0.86843055 0.88283697 0.88468037\n",
      " 0.87157123 0.89451226 0.89225911 0.87136641 0.84494329 0.83224379\n",
      " 0.86986431 0.8396177  0.81374072 0.81374072 0.81905115 0.81104892\n",
      " 0.80448061 0.79903132 0.79440874 0.79040569]\n",
      "6 day output [[0.78688884]]\n",
      "7 day input [0.78008027 0.77434504 0.78158237 0.79161907 0.78800041 0.79018522\n",
      " 0.78444998 0.7869762  0.76724419 0.76690278 0.78137755 0.78144579\n",
      " 0.78827347 0.80527445 0.83517965 0.8534779  0.85668692 0.85934972\n",
      " 0.86296838 0.82794232 0.85136133 0.88590941 0.88229075 0.87539472\n",
      " 0.86228557 0.88604599 0.92605614 0.95268418 0.94913376 0.98252114\n",
      " 0.95719047 0.94756342 0.98149702 0.93343006 0.92578307 0.9162926\n",
      " 0.93841434 0.95650766 0.96087738 0.98852953 0.98142868 0.98204325\n",
      " 0.97398653 0.96968515 1.         0.98422806 0.95159172 0.93165489\n",
      " 0.93281558 0.93295217 0.95268418 0.95575662 0.93295217 0.93896056\n",
      " 0.916634   0.89225911 0.88051549 0.86617741 0.86078347 0.84822056\n",
      " 0.84760608 0.84439706 0.92025267 0.95063585 0.94947516 0.95787318\n",
      " 0.93779977 0.93431768 0.92933351 0.95097726 0.96087738 0.93247418\n",
      " 0.90871386 0.91035254 0.93704872 0.93541014 0.91035254 0.89956479\n",
      " 0.87921831 0.85020064 0.86843055 0.88283697 0.88468037 0.87157123\n",
      " 0.89451226 0.89225911 0.87136641 0.84494329 0.83224379 0.86986431\n",
      " 0.8396177  0.81374072 0.81374072 0.81905115 0.81104892 0.80448061\n",
      " 0.79903132 0.79440874 0.79040569 0.78688884]\n",
      "7 day output [[0.78377247]]\n",
      "8 day input [0.77434504 0.78158237 0.79161907 0.78800041 0.79018522 0.78444998\n",
      " 0.7869762  0.76724419 0.76690278 0.78137755 0.78144579 0.78827347\n",
      " 0.80527445 0.83517965 0.8534779  0.85668692 0.85934972 0.86296838\n",
      " 0.82794232 0.85136133 0.88590941 0.88229075 0.87539472 0.86228557\n",
      " 0.88604599 0.92605614 0.95268418 0.94913376 0.98252114 0.95719047\n",
      " 0.94756342 0.98149702 0.93343006 0.92578307 0.9162926  0.93841434\n",
      " 0.95650766 0.96087738 0.98852953 0.98142868 0.98204325 0.97398653\n",
      " 0.96968515 1.         0.98422806 0.95159172 0.93165489 0.93281558\n",
      " 0.93295217 0.95268418 0.95575662 0.93295217 0.93896056 0.916634\n",
      " 0.89225911 0.88051549 0.86617741 0.86078347 0.84822056 0.84760608\n",
      " 0.84439706 0.92025267 0.95063585 0.94947516 0.95787318 0.93779977\n",
      " 0.93431768 0.92933351 0.95097726 0.96087738 0.93247418 0.90871386\n",
      " 0.91035254 0.93704872 0.93541014 0.91035254 0.89956479 0.87921831\n",
      " 0.85020064 0.86843055 0.88283697 0.88468037 0.87157123 0.89451226\n",
      " 0.89225911 0.87136641 0.84494329 0.83224379 0.86986431 0.8396177\n",
      " 0.81374072 0.81374072 0.81905115 0.81104892 0.80448061 0.79903132\n",
      " 0.79440874 0.79040569 0.78688884 0.78377247]\n",
      "8 day output [[0.7809945]]\n",
      "9 day input [0.78158237 0.79161907 0.78800041 0.79018522 0.78444998 0.7869762\n",
      " 0.76724419 0.76690278 0.78137755 0.78144579 0.78827347 0.80527445\n",
      " 0.83517965 0.8534779  0.85668692 0.85934972 0.86296838 0.82794232\n",
      " 0.85136133 0.88590941 0.88229075 0.87539472 0.86228557 0.88604599\n",
      " 0.92605614 0.95268418 0.94913376 0.98252114 0.95719047 0.94756342\n",
      " 0.98149702 0.93343006 0.92578307 0.9162926  0.93841434 0.95650766\n",
      " 0.96087738 0.98852953 0.98142868 0.98204325 0.97398653 0.96968515\n",
      " 1.         0.98422806 0.95159172 0.93165489 0.93281558 0.93295217\n",
      " 0.95268418 0.95575662 0.93295217 0.93896056 0.916634   0.89225911\n",
      " 0.88051549 0.86617741 0.86078347 0.84822056 0.84760608 0.84439706\n",
      " 0.92025267 0.95063585 0.94947516 0.95787318 0.93779977 0.93431768\n",
      " 0.92933351 0.95097726 0.96087738 0.93247418 0.90871386 0.91035254\n",
      " 0.93704872 0.93541014 0.91035254 0.89956479 0.87921831 0.85020064\n",
      " 0.86843055 0.88283697 0.88468037 0.87157123 0.89451226 0.89225911\n",
      " 0.87136641 0.84494329 0.83224379 0.86986431 0.8396177  0.81374072\n",
      " 0.81374072 0.81905115 0.81104892 0.80448061 0.79903132 0.79440874\n",
      " 0.79040569 0.78688884 0.78377247 0.78099447]\n",
      "9 day output [[0.77850544]]\n",
      "10 day input [0.79161907 0.78800041 0.79018522 0.78444998 0.7869762  0.76724419\n",
      " 0.76690278 0.78137755 0.78144579 0.78827347 0.80527445 0.83517965\n",
      " 0.8534779  0.85668692 0.85934972 0.86296838 0.82794232 0.85136133\n",
      " 0.88590941 0.88229075 0.87539472 0.86228557 0.88604599 0.92605614\n",
      " 0.95268418 0.94913376 0.98252114 0.95719047 0.94756342 0.98149702\n",
      " 0.93343006 0.92578307 0.9162926  0.93841434 0.95650766 0.96087738\n",
      " 0.98852953 0.98142868 0.98204325 0.97398653 0.96968515 1.\n",
      " 0.98422806 0.95159172 0.93165489 0.93281558 0.93295217 0.95268418\n",
      " 0.95575662 0.93295217 0.93896056 0.916634   0.89225911 0.88051549\n",
      " 0.86617741 0.86078347 0.84822056 0.84760608 0.84439706 0.92025267\n",
      " 0.95063585 0.94947516 0.95787318 0.93779977 0.93431768 0.92933351\n",
      " 0.95097726 0.96087738 0.93247418 0.90871386 0.91035254 0.93704872\n",
      " 0.93541014 0.91035254 0.89956479 0.87921831 0.85020064 0.86843055\n",
      " 0.88283697 0.88468037 0.87157123 0.89451226 0.89225911 0.87136641\n",
      " 0.84494329 0.83224379 0.86986431 0.8396177  0.81374072 0.81374072\n",
      " 0.81905115 0.81104892 0.80448061 0.79903132 0.79440874 0.79040569\n",
      " 0.78688884 0.78377247 0.78099447 0.77850544]\n",
      "10 day output [[0.7762589]]\n",
      "11 day input [0.78800041 0.79018522 0.78444998 0.7869762  0.76724419 0.76690278\n",
      " 0.78137755 0.78144579 0.78827347 0.80527445 0.83517965 0.8534779\n",
      " 0.85668692 0.85934972 0.86296838 0.82794232 0.85136133 0.88590941\n",
      " 0.88229075 0.87539472 0.86228557 0.88604599 0.92605614 0.95268418\n",
      " 0.94913376 0.98252114 0.95719047 0.94756342 0.98149702 0.93343006\n",
      " 0.92578307 0.9162926  0.93841434 0.95650766 0.96087738 0.98852953\n",
      " 0.98142868 0.98204325 0.97398653 0.96968515 1.         0.98422806\n",
      " 0.95159172 0.93165489 0.93281558 0.93295217 0.95268418 0.95575662\n",
      " 0.93295217 0.93896056 0.916634   0.89225911 0.88051549 0.86617741\n",
      " 0.86078347 0.84822056 0.84760608 0.84439706 0.92025267 0.95063585\n",
      " 0.94947516 0.95787318 0.93779977 0.93431768 0.92933351 0.95097726\n",
      " 0.96087738 0.93247418 0.90871386 0.91035254 0.93704872 0.93541014\n",
      " 0.91035254 0.89956479 0.87921831 0.85020064 0.86843055 0.88283697\n",
      " 0.88468037 0.87157123 0.89451226 0.89225911 0.87136641 0.84494329\n",
      " 0.83224379 0.86986431 0.8396177  0.81374072 0.81374072 0.81905115\n",
      " 0.81104892 0.80448061 0.79903132 0.79440874 0.79040569 0.78688884\n",
      " 0.78377247 0.78099447 0.77850544 0.77625889]\n",
      "11 day output [[0.7742115]]\n",
      "12 day input [0.79018522 0.78444998 0.7869762  0.76724419 0.76690278 0.78137755\n",
      " 0.78144579 0.78827347 0.80527445 0.83517965 0.8534779  0.85668692\n",
      " 0.85934972 0.86296838 0.82794232 0.85136133 0.88590941 0.88229075\n",
      " 0.87539472 0.86228557 0.88604599 0.92605614 0.95268418 0.94913376\n",
      " 0.98252114 0.95719047 0.94756342 0.98149702 0.93343006 0.92578307\n",
      " 0.9162926  0.93841434 0.95650766 0.96087738 0.98852953 0.98142868\n",
      " 0.98204325 0.97398653 0.96968515 1.         0.98422806 0.95159172\n",
      " 0.93165489 0.93281558 0.93295217 0.95268418 0.95575662 0.93295217\n",
      " 0.93896056 0.916634   0.89225911 0.88051549 0.86617741 0.86078347\n",
      " 0.84822056 0.84760608 0.84439706 0.92025267 0.95063585 0.94947516\n",
      " 0.95787318 0.93779977 0.93431768 0.92933351 0.95097726 0.96087738\n",
      " 0.93247418 0.90871386 0.91035254 0.93704872 0.93541014 0.91035254\n",
      " 0.89956479 0.87921831 0.85020064 0.86843055 0.88283697 0.88468037\n",
      " 0.87157123 0.89451226 0.89225911 0.87136641 0.84494329 0.83224379\n",
      " 0.86986431 0.8396177  0.81374072 0.81374072 0.81905115 0.81104892\n",
      " 0.80448061 0.79903132 0.79440874 0.79040569 0.78688884 0.78377247\n",
      " 0.78099447 0.77850544 0.77625889 0.77421153]\n",
      "12 day output [[0.77232367]]\n",
      "13 day input [0.78444998 0.7869762  0.76724419 0.76690278 0.78137755 0.78144579\n",
      " 0.78827347 0.80527445 0.83517965 0.8534779  0.85668692 0.85934972\n",
      " 0.86296838 0.82794232 0.85136133 0.88590941 0.88229075 0.87539472\n",
      " 0.86228557 0.88604599 0.92605614 0.95268418 0.94913376 0.98252114\n",
      " 0.95719047 0.94756342 0.98149702 0.93343006 0.92578307 0.9162926\n",
      " 0.93841434 0.95650766 0.96087738 0.98852953 0.98142868 0.98204325\n",
      " 0.97398653 0.96968515 1.         0.98422806 0.95159172 0.93165489\n",
      " 0.93281558 0.93295217 0.95268418 0.95575662 0.93295217 0.93896056\n",
      " 0.916634   0.89225911 0.88051549 0.86617741 0.86078347 0.84822056\n",
      " 0.84760608 0.84439706 0.92025267 0.95063585 0.94947516 0.95787318\n",
      " 0.93779977 0.93431768 0.92933351 0.95097726 0.96087738 0.93247418\n",
      " 0.90871386 0.91035254 0.93704872 0.93541014 0.91035254 0.89956479\n",
      " 0.87921831 0.85020064 0.86843055 0.88283697 0.88468037 0.87157123\n",
      " 0.89451226 0.89225911 0.87136641 0.84494329 0.83224379 0.86986431\n",
      " 0.8396177  0.81374072 0.81374072 0.81905115 0.81104892 0.80448061\n",
      " 0.79903132 0.79440874 0.79040569 0.78688884 0.78377247 0.78099447\n",
      " 0.77850544 0.77625889 0.77421153 0.77232367]\n",
      "13 day output [[0.77055776]]\n",
      "14 day input [0.7869762  0.76724419 0.76690278 0.78137755 0.78144579 0.78827347\n",
      " 0.80527445 0.83517965 0.8534779  0.85668692 0.85934972 0.86296838\n",
      " 0.82794232 0.85136133 0.88590941 0.88229075 0.87539472 0.86228557\n",
      " 0.88604599 0.92605614 0.95268418 0.94913376 0.98252114 0.95719047\n",
      " 0.94756342 0.98149702 0.93343006 0.92578307 0.9162926  0.93841434\n",
      " 0.95650766 0.96087738 0.98852953 0.98142868 0.98204325 0.97398653\n",
      " 0.96968515 1.         0.98422806 0.95159172 0.93165489 0.93281558\n",
      " 0.93295217 0.95268418 0.95575662 0.93295217 0.93896056 0.916634\n",
      " 0.89225911 0.88051549 0.86617741 0.86078347 0.84822056 0.84760608\n",
      " 0.84439706 0.92025267 0.95063585 0.94947516 0.95787318 0.93779977\n",
      " 0.93431768 0.92933351 0.95097726 0.96087738 0.93247418 0.90871386\n",
      " 0.91035254 0.93704872 0.93541014 0.91035254 0.89956479 0.87921831\n",
      " 0.85020064 0.86843055 0.88283697 0.88468037 0.87157123 0.89451226\n",
      " 0.89225911 0.87136641 0.84494329 0.83224379 0.86986431 0.8396177\n",
      " 0.81374072 0.81374072 0.81905115 0.81104892 0.80448061 0.79903132\n",
      " 0.79440874 0.79040569 0.78688884 0.78377247 0.78099447 0.77850544\n",
      " 0.77625889 0.77421153 0.77232367 0.77055776]\n",
      "14 day output [[0.7688817]]\n",
      "15 day input [0.76724419 0.76690278 0.78137755 0.78144579 0.78827347 0.80527445\n",
      " 0.83517965 0.8534779  0.85668692 0.85934972 0.86296838 0.82794232\n",
      " 0.85136133 0.88590941 0.88229075 0.87539472 0.86228557 0.88604599\n",
      " 0.92605614 0.95268418 0.94913376 0.98252114 0.95719047 0.94756342\n",
      " 0.98149702 0.93343006 0.92578307 0.9162926  0.93841434 0.95650766\n",
      " 0.96087738 0.98852953 0.98142868 0.98204325 0.97398653 0.96968515\n",
      " 1.         0.98422806 0.95159172 0.93165489 0.93281558 0.93295217\n",
      " 0.95268418 0.95575662 0.93295217 0.93896056 0.916634   0.89225911\n",
      " 0.88051549 0.86617741 0.86078347 0.84822056 0.84760608 0.84439706\n",
      " 0.92025267 0.95063585 0.94947516 0.95787318 0.93779977 0.93431768\n",
      " 0.92933351 0.95097726 0.96087738 0.93247418 0.90871386 0.91035254\n",
      " 0.93704872 0.93541014 0.91035254 0.89956479 0.87921831 0.85020064\n",
      " 0.86843055 0.88283697 0.88468037 0.87157123 0.89451226 0.89225911\n",
      " 0.87136641 0.84494329 0.83224379 0.86986431 0.8396177  0.81374072\n",
      " 0.81374072 0.81905115 0.81104892 0.80448061 0.79903132 0.79440874\n",
      " 0.79040569 0.78688884 0.78377247 0.78099447 0.77850544 0.77625889\n",
      " 0.77421153 0.77232367 0.77055776 0.76888168]\n",
      "15 day output [[0.76726824]]\n",
      "16 day input [0.76690278 0.78137755 0.78144579 0.78827347 0.80527445 0.83517965\n",
      " 0.8534779  0.85668692 0.85934972 0.86296838 0.82794232 0.85136133\n",
      " 0.88590941 0.88229075 0.87539472 0.86228557 0.88604599 0.92605614\n",
      " 0.95268418 0.94913376 0.98252114 0.95719047 0.94756342 0.98149702\n",
      " 0.93343006 0.92578307 0.9162926  0.93841434 0.95650766 0.96087738\n",
      " 0.98852953 0.98142868 0.98204325 0.97398653 0.96968515 1.\n",
      " 0.98422806 0.95159172 0.93165489 0.93281558 0.93295217 0.95268418\n",
      " 0.95575662 0.93295217 0.93896056 0.916634   0.89225911 0.88051549\n",
      " 0.86617741 0.86078347 0.84822056 0.84760608 0.84439706 0.92025267\n",
      " 0.95063585 0.94947516 0.95787318 0.93779977 0.93431768 0.92933351\n",
      " 0.95097726 0.96087738 0.93247418 0.90871386 0.91035254 0.93704872\n",
      " 0.93541014 0.91035254 0.89956479 0.87921831 0.85020064 0.86843055\n",
      " 0.88283697 0.88468037 0.87157123 0.89451226 0.89225911 0.87136641\n",
      " 0.84494329 0.83224379 0.86986431 0.8396177  0.81374072 0.81374072\n",
      " 0.81905115 0.81104892 0.80448061 0.79903132 0.79440874 0.79040569\n",
      " 0.78688884 0.78377247 0.78099447 0.77850544 0.77625889 0.77421153\n",
      " 0.77232367 0.77055776 0.76888168 0.76726824]\n",
      "16 day output [[0.76569486]]\n",
      "17 day input [0.78137755 0.78144579 0.78827347 0.80527445 0.83517965 0.8534779\n",
      " 0.85668692 0.85934972 0.86296838 0.82794232 0.85136133 0.88590941\n",
      " 0.88229075 0.87539472 0.86228557 0.88604599 0.92605614 0.95268418\n",
      " 0.94913376 0.98252114 0.95719047 0.94756342 0.98149702 0.93343006\n",
      " 0.92578307 0.9162926  0.93841434 0.95650766 0.96087738 0.98852953\n",
      " 0.98142868 0.98204325 0.97398653 0.96968515 1.         0.98422806\n",
      " 0.95159172 0.93165489 0.93281558 0.93295217 0.95268418 0.95575662\n",
      " 0.93295217 0.93896056 0.916634   0.89225911 0.88051549 0.86617741\n",
      " 0.86078347 0.84822056 0.84760608 0.84439706 0.92025267 0.95063585\n",
      " 0.94947516 0.95787318 0.93779977 0.93431768 0.92933351 0.95097726\n",
      " 0.96087738 0.93247418 0.90871386 0.91035254 0.93704872 0.93541014\n",
      " 0.91035254 0.89956479 0.87921831 0.85020064 0.86843055 0.88283697\n",
      " 0.88468037 0.87157123 0.89451226 0.89225911 0.87136641 0.84494329\n",
      " 0.83224379 0.86986431 0.8396177  0.81374072 0.81374072 0.81905115\n",
      " 0.81104892 0.80448061 0.79903132 0.79440874 0.79040569 0.78688884\n",
      " 0.78377247 0.78099447 0.77850544 0.77625889 0.77421153 0.77232367\n",
      " 0.77055776 0.76888168 0.76726824 0.76569486]\n",
      "17 day output [[0.76414454]]\n",
      "18 day input [0.78144579 0.78827347 0.80527445 0.83517965 0.8534779  0.85668692\n",
      " 0.85934972 0.86296838 0.82794232 0.85136133 0.88590941 0.88229075\n",
      " 0.87539472 0.86228557 0.88604599 0.92605614 0.95268418 0.94913376\n",
      " 0.98252114 0.95719047 0.94756342 0.98149702 0.93343006 0.92578307\n",
      " 0.9162926  0.93841434 0.95650766 0.96087738 0.98852953 0.98142868\n",
      " 0.98204325 0.97398653 0.96968515 1.         0.98422806 0.95159172\n",
      " 0.93165489 0.93281558 0.93295217 0.95268418 0.95575662 0.93295217\n",
      " 0.93896056 0.916634   0.89225911 0.88051549 0.86617741 0.86078347\n",
      " 0.84822056 0.84760608 0.84439706 0.92025267 0.95063585 0.94947516\n",
      " 0.95787318 0.93779977 0.93431768 0.92933351 0.95097726 0.96087738\n",
      " 0.93247418 0.90871386 0.91035254 0.93704872 0.93541014 0.91035254\n",
      " 0.89956479 0.87921831 0.85020064 0.86843055 0.88283697 0.88468037\n",
      " 0.87157123 0.89451226 0.89225911 0.87136641 0.84494329 0.83224379\n",
      " 0.86986431 0.8396177  0.81374072 0.81374072 0.81905115 0.81104892\n",
      " 0.80448061 0.79903132 0.79440874 0.79040569 0.78688884 0.78377247\n",
      " 0.78099447 0.77850544 0.77625889 0.77421153 0.77232367 0.77055776\n",
      " 0.76888168 0.76726824 0.76569486 0.76414454]\n",
      "18 day output [[0.76260495]]\n",
      "19 day input [0.78827347 0.80527445 0.83517965 0.8534779  0.85668692 0.85934972\n",
      " 0.86296838 0.82794232 0.85136133 0.88590941 0.88229075 0.87539472\n",
      " 0.86228557 0.88604599 0.92605614 0.95268418 0.94913376 0.98252114\n",
      " 0.95719047 0.94756342 0.98149702 0.93343006 0.92578307 0.9162926\n",
      " 0.93841434 0.95650766 0.96087738 0.98852953 0.98142868 0.98204325\n",
      " 0.97398653 0.96968515 1.         0.98422806 0.95159172 0.93165489\n",
      " 0.93281558 0.93295217 0.95268418 0.95575662 0.93295217 0.93896056\n",
      " 0.916634   0.89225911 0.88051549 0.86617741 0.86078347 0.84822056\n",
      " 0.84760608 0.84439706 0.92025267 0.95063585 0.94947516 0.95787318\n",
      " 0.93779977 0.93431768 0.92933351 0.95097726 0.96087738 0.93247418\n",
      " 0.90871386 0.91035254 0.93704872 0.93541014 0.91035254 0.89956479\n",
      " 0.87921831 0.85020064 0.86843055 0.88283697 0.88468037 0.87157123\n",
      " 0.89451226 0.89225911 0.87136641 0.84494329 0.83224379 0.86986431\n",
      " 0.8396177  0.81374072 0.81374072 0.81905115 0.81104892 0.80448061\n",
      " 0.79903132 0.79440874 0.79040569 0.78688884 0.78377247 0.78099447\n",
      " 0.77850544 0.77625889 0.77421153 0.77232367 0.77055776 0.76888168\n",
      " 0.76726824 0.76569486 0.76414454 0.76260495]\n",
      "19 day output [[0.7610687]]\n",
      "20 day input [0.80527445 0.83517965 0.8534779  0.85668692 0.85934972 0.86296838\n",
      " 0.82794232 0.85136133 0.88590941 0.88229075 0.87539472 0.86228557\n",
      " 0.88604599 0.92605614 0.95268418 0.94913376 0.98252114 0.95719047\n",
      " 0.94756342 0.98149702 0.93343006 0.92578307 0.9162926  0.93841434\n",
      " 0.95650766 0.96087738 0.98852953 0.98142868 0.98204325 0.97398653\n",
      " 0.96968515 1.         0.98422806 0.95159172 0.93165489 0.93281558\n",
      " 0.93295217 0.95268418 0.95575662 0.93295217 0.93896056 0.916634\n",
      " 0.89225911 0.88051549 0.86617741 0.86078347 0.84822056 0.84760608\n",
      " 0.84439706 0.92025267 0.95063585 0.94947516 0.95787318 0.93779977\n",
      " 0.93431768 0.92933351 0.95097726 0.96087738 0.93247418 0.90871386\n",
      " 0.91035254 0.93704872 0.93541014 0.91035254 0.89956479 0.87921831\n",
      " 0.85020064 0.86843055 0.88283697 0.88468037 0.87157123 0.89451226\n",
      " 0.89225911 0.87136641 0.84494329 0.83224379 0.86986431 0.8396177\n",
      " 0.81374072 0.81374072 0.81905115 0.81104892 0.80448061 0.79903132\n",
      " 0.79440874 0.79040569 0.78688884 0.78377247 0.78099447 0.77850544\n",
      " 0.77625889 0.77421153 0.77232367 0.77055776 0.76888168 0.76726824\n",
      " 0.76569486 0.76414454 0.76260495 0.7610687 ]\n",
      "20 day output [[0.7595315]]\n",
      "21 day input [0.83517965 0.8534779  0.85668692 0.85934972 0.86296838 0.82794232\n",
      " 0.85136133 0.88590941 0.88229075 0.87539472 0.86228557 0.88604599\n",
      " 0.92605614 0.95268418 0.94913376 0.98252114 0.95719047 0.94756342\n",
      " 0.98149702 0.93343006 0.92578307 0.9162926  0.93841434 0.95650766\n",
      " 0.96087738 0.98852953 0.98142868 0.98204325 0.97398653 0.96968515\n",
      " 1.         0.98422806 0.95159172 0.93165489 0.93281558 0.93295217\n",
      " 0.95268418 0.95575662 0.93295217 0.93896056 0.916634   0.89225911\n",
      " 0.88051549 0.86617741 0.86078347 0.84822056 0.84760608 0.84439706\n",
      " 0.92025267 0.95063585 0.94947516 0.95787318 0.93779977 0.93431768\n",
      " 0.92933351 0.95097726 0.96087738 0.93247418 0.90871386 0.91035254\n",
      " 0.93704872 0.93541014 0.91035254 0.89956479 0.87921831 0.85020064\n",
      " 0.86843055 0.88283697 0.88468037 0.87157123 0.89451226 0.89225911\n",
      " 0.87136641 0.84494329 0.83224379 0.86986431 0.8396177  0.81374072\n",
      " 0.81374072 0.81905115 0.81104892 0.80448061 0.79903132 0.79440874\n",
      " 0.79040569 0.78688884 0.78377247 0.78099447 0.77850544 0.77625889\n",
      " 0.77421153 0.77232367 0.77055776 0.76888168 0.76726824 0.76569486\n",
      " 0.76414454 0.76260495 0.7610687  0.7595315 ]\n",
      "21 day output [[0.75799286]]\n",
      "22 day input [0.8534779  0.85668692 0.85934972 0.86296838 0.82794232 0.85136133\n",
      " 0.88590941 0.88229075 0.87539472 0.86228557 0.88604599 0.92605614\n",
      " 0.95268418 0.94913376 0.98252114 0.95719047 0.94756342 0.98149702\n",
      " 0.93343006 0.92578307 0.9162926  0.93841434 0.95650766 0.96087738\n",
      " 0.98852953 0.98142868 0.98204325 0.97398653 0.96968515 1.\n",
      " 0.98422806 0.95159172 0.93165489 0.93281558 0.93295217 0.95268418\n",
      " 0.95575662 0.93295217 0.93896056 0.916634   0.89225911 0.88051549\n",
      " 0.86617741 0.86078347 0.84822056 0.84760608 0.84439706 0.92025267\n",
      " 0.95063585 0.94947516 0.95787318 0.93779977 0.93431768 0.92933351\n",
      " 0.95097726 0.96087738 0.93247418 0.90871386 0.91035254 0.93704872\n",
      " 0.93541014 0.91035254 0.89956479 0.87921831 0.85020064 0.86843055\n",
      " 0.88283697 0.88468037 0.87157123 0.89451226 0.89225911 0.87136641\n",
      " 0.84494329 0.83224379 0.86986431 0.8396177  0.81374072 0.81374072\n",
      " 0.81905115 0.81104892 0.80448061 0.79903132 0.79440874 0.79040569\n",
      " 0.78688884 0.78377247 0.78099447 0.77850544 0.77625889 0.77421153\n",
      " 0.77232367 0.77055776 0.76888168 0.76726824 0.76569486 0.76414454\n",
      " 0.76260495 0.7610687  0.7595315  0.75799286]\n",
      "22 day output [[0.75645417]]\n",
      "23 day input [0.85668692 0.85934972 0.86296838 0.82794232 0.85136133 0.88590941\n",
      " 0.88229075 0.87539472 0.86228557 0.88604599 0.92605614 0.95268418\n",
      " 0.94913376 0.98252114 0.95719047 0.94756342 0.98149702 0.93343006\n",
      " 0.92578307 0.9162926  0.93841434 0.95650766 0.96087738 0.98852953\n",
      " 0.98142868 0.98204325 0.97398653 0.96968515 1.         0.98422806\n",
      " 0.95159172 0.93165489 0.93281558 0.93295217 0.95268418 0.95575662\n",
      " 0.93295217 0.93896056 0.916634   0.89225911 0.88051549 0.86617741\n",
      " 0.86078347 0.84822056 0.84760608 0.84439706 0.92025267 0.95063585\n",
      " 0.94947516 0.95787318 0.93779977 0.93431768 0.92933351 0.95097726\n",
      " 0.96087738 0.93247418 0.90871386 0.91035254 0.93704872 0.93541014\n",
      " 0.91035254 0.89956479 0.87921831 0.85020064 0.86843055 0.88283697\n",
      " 0.88468037 0.87157123 0.89451226 0.89225911 0.87136641 0.84494329\n",
      " 0.83224379 0.86986431 0.8396177  0.81374072 0.81374072 0.81905115\n",
      " 0.81104892 0.80448061 0.79903132 0.79440874 0.79040569 0.78688884\n",
      " 0.78377247 0.78099447 0.77850544 0.77625889 0.77421153 0.77232367\n",
      " 0.77055776 0.76888168 0.76726824 0.76569486 0.76414454 0.76260495\n",
      " 0.7610687  0.7595315  0.75799286 0.75645417]\n",
      "23 day output [[0.75491995]]\n",
      "24 day input [0.85934972 0.86296838 0.82794232 0.85136133 0.88590941 0.88229075\n",
      " 0.87539472 0.86228557 0.88604599 0.92605614 0.95268418 0.94913376\n",
      " 0.98252114 0.95719047 0.94756342 0.98149702 0.93343006 0.92578307\n",
      " 0.9162926  0.93841434 0.95650766 0.96087738 0.98852953 0.98142868\n",
      " 0.98204325 0.97398653 0.96968515 1.         0.98422806 0.95159172\n",
      " 0.93165489 0.93281558 0.93295217 0.95268418 0.95575662 0.93295217\n",
      " 0.93896056 0.916634   0.89225911 0.88051549 0.86617741 0.86078347\n",
      " 0.84822056 0.84760608 0.84439706 0.92025267 0.95063585 0.94947516\n",
      " 0.95787318 0.93779977 0.93431768 0.92933351 0.95097726 0.96087738\n",
      " 0.93247418 0.90871386 0.91035254 0.93704872 0.93541014 0.91035254\n",
      " 0.89956479 0.87921831 0.85020064 0.86843055 0.88283697 0.88468037\n",
      " 0.87157123 0.89451226 0.89225911 0.87136641 0.84494329 0.83224379\n",
      " 0.86986431 0.8396177  0.81374072 0.81374072 0.81905115 0.81104892\n",
      " 0.80448061 0.79903132 0.79440874 0.79040569 0.78688884 0.78377247\n",
      " 0.78099447 0.77850544 0.77625889 0.77421153 0.77232367 0.77055776\n",
      " 0.76888168 0.76726824 0.76569486 0.76414454 0.76260495 0.7610687\n",
      " 0.7595315  0.75799286 0.75645417 0.75491995]\n",
      "24 day output [[0.75339514]]\n",
      "25 day input [0.86296838 0.82794232 0.85136133 0.88590941 0.88229075 0.87539472\n",
      " 0.86228557 0.88604599 0.92605614 0.95268418 0.94913376 0.98252114\n",
      " 0.95719047 0.94756342 0.98149702 0.93343006 0.92578307 0.9162926\n",
      " 0.93841434 0.95650766 0.96087738 0.98852953 0.98142868 0.98204325\n",
      " 0.97398653 0.96968515 1.         0.98422806 0.95159172 0.93165489\n",
      " 0.93281558 0.93295217 0.95268418 0.95575662 0.93295217 0.93896056\n",
      " 0.916634   0.89225911 0.88051549 0.86617741 0.86078347 0.84822056\n",
      " 0.84760608 0.84439706 0.92025267 0.95063585 0.94947516 0.95787318\n",
      " 0.93779977 0.93431768 0.92933351 0.95097726 0.96087738 0.93247418\n",
      " 0.90871386 0.91035254 0.93704872 0.93541014 0.91035254 0.89956479\n",
      " 0.87921831 0.85020064 0.86843055 0.88283697 0.88468037 0.87157123\n",
      " 0.89451226 0.89225911 0.87136641 0.84494329 0.83224379 0.86986431\n",
      " 0.8396177  0.81374072 0.81374072 0.81905115 0.81104892 0.80448061\n",
      " 0.79903132 0.79440874 0.79040569 0.78688884 0.78377247 0.78099447\n",
      " 0.77850544 0.77625889 0.77421153 0.77232367 0.77055776 0.76888168\n",
      " 0.76726824 0.76569486 0.76414454 0.76260495 0.7610687  0.7595315\n",
      " 0.75799286 0.75645417 0.75491995 0.75339514]\n",
      "25 day output [[0.7518853]]\n",
      "26 day input [0.82794232 0.85136133 0.88590941 0.88229075 0.87539472 0.86228557\n",
      " 0.88604599 0.92605614 0.95268418 0.94913376 0.98252114 0.95719047\n",
      " 0.94756342 0.98149702 0.93343006 0.92578307 0.9162926  0.93841434\n",
      " 0.95650766 0.96087738 0.98852953 0.98142868 0.98204325 0.97398653\n",
      " 0.96968515 1.         0.98422806 0.95159172 0.93165489 0.93281558\n",
      " 0.93295217 0.95268418 0.95575662 0.93295217 0.93896056 0.916634\n",
      " 0.89225911 0.88051549 0.86617741 0.86078347 0.84822056 0.84760608\n",
      " 0.84439706 0.92025267 0.95063585 0.94947516 0.95787318 0.93779977\n",
      " 0.93431768 0.92933351 0.95097726 0.96087738 0.93247418 0.90871386\n",
      " 0.91035254 0.93704872 0.93541014 0.91035254 0.89956479 0.87921831\n",
      " 0.85020064 0.86843055 0.88283697 0.88468037 0.87157123 0.89451226\n",
      " 0.89225911 0.87136641 0.84494329 0.83224379 0.86986431 0.8396177\n",
      " 0.81374072 0.81374072 0.81905115 0.81104892 0.80448061 0.79903132\n",
      " 0.79440874 0.79040569 0.78688884 0.78377247 0.78099447 0.77850544\n",
      " 0.77625889 0.77421153 0.77232367 0.77055776 0.76888168 0.76726824\n",
      " 0.76569486 0.76414454 0.76260495 0.7610687  0.7595315  0.75799286\n",
      " 0.75645417 0.75491995 0.75339514 0.75188529]\n",
      "26 day output [[0.75039715]]\n",
      "27 day input [0.85136133 0.88590941 0.88229075 0.87539472 0.86228557 0.88604599\n",
      " 0.92605614 0.95268418 0.94913376 0.98252114 0.95719047 0.94756342\n",
      " 0.98149702 0.93343006 0.92578307 0.9162926  0.93841434 0.95650766\n",
      " 0.96087738 0.98852953 0.98142868 0.98204325 0.97398653 0.96968515\n",
      " 1.         0.98422806 0.95159172 0.93165489 0.93281558 0.93295217\n",
      " 0.95268418 0.95575662 0.93295217 0.93896056 0.916634   0.89225911\n",
      " 0.88051549 0.86617741 0.86078347 0.84822056 0.84760608 0.84439706\n",
      " 0.92025267 0.95063585 0.94947516 0.95787318 0.93779977 0.93431768\n",
      " 0.92933351 0.95097726 0.96087738 0.93247418 0.90871386 0.91035254\n",
      " 0.93704872 0.93541014 0.91035254 0.89956479 0.87921831 0.85020064\n",
      " 0.86843055 0.88283697 0.88468037 0.87157123 0.89451226 0.89225911\n",
      " 0.87136641 0.84494329 0.83224379 0.86986431 0.8396177  0.81374072\n",
      " 0.81374072 0.81905115 0.81104892 0.80448061 0.79903132 0.79440874\n",
      " 0.79040569 0.78688884 0.78377247 0.78099447 0.77850544 0.77625889\n",
      " 0.77421153 0.77232367 0.77055776 0.76888168 0.76726824 0.76569486\n",
      " 0.76414454 0.76260495 0.7610687  0.7595315  0.75799286 0.75645417\n",
      " 0.75491995 0.75339514 0.75188529 0.75039715]\n",
      "27 day output [[0.7489369]]\n",
      "28 day input [0.88590941 0.88229075 0.87539472 0.86228557 0.88604599 0.92605614\n",
      " 0.95268418 0.94913376 0.98252114 0.95719047 0.94756342 0.98149702\n",
      " 0.93343006 0.92578307 0.9162926  0.93841434 0.95650766 0.96087738\n",
      " 0.98852953 0.98142868 0.98204325 0.97398653 0.96968515 1.\n",
      " 0.98422806 0.95159172 0.93165489 0.93281558 0.93295217 0.95268418\n",
      " 0.95575662 0.93295217 0.93896056 0.916634   0.89225911 0.88051549\n",
      " 0.86617741 0.86078347 0.84822056 0.84760608 0.84439706 0.92025267\n",
      " 0.95063585 0.94947516 0.95787318 0.93779977 0.93431768 0.92933351\n",
      " 0.95097726 0.96087738 0.93247418 0.90871386 0.91035254 0.93704872\n",
      " 0.93541014 0.91035254 0.89956479 0.87921831 0.85020064 0.86843055\n",
      " 0.88283697 0.88468037 0.87157123 0.89451226 0.89225911 0.87136641\n",
      " 0.84494329 0.83224379 0.86986431 0.8396177  0.81374072 0.81374072\n",
      " 0.81905115 0.81104892 0.80448061 0.79903132 0.79440874 0.79040569\n",
      " 0.78688884 0.78377247 0.78099447 0.77850544 0.77625889 0.77421153\n",
      " 0.77232367 0.77055776 0.76888168 0.76726824 0.76569486 0.76414454\n",
      " 0.76260495 0.7610687  0.7595315  0.75799286 0.75645417 0.75491995\n",
      " 0.75339514 0.75188529 0.75039715 0.74893689]\n",
      "28 day output [[0.74750984]]\n",
      "29 day input [0.88229075 0.87539472 0.86228557 0.88604599 0.92605614 0.95268418\n",
      " 0.94913376 0.98252114 0.95719047 0.94756342 0.98149702 0.93343006\n",
      " 0.92578307 0.9162926  0.93841434 0.95650766 0.96087738 0.98852953\n",
      " 0.98142868 0.98204325 0.97398653 0.96968515 1.         0.98422806\n",
      " 0.95159172 0.93165489 0.93281558 0.93295217 0.95268418 0.95575662\n",
      " 0.93295217 0.93896056 0.916634   0.89225911 0.88051549 0.86617741\n",
      " 0.86078347 0.84822056 0.84760608 0.84439706 0.92025267 0.95063585\n",
      " 0.94947516 0.95787318 0.93779977 0.93431768 0.92933351 0.95097726\n",
      " 0.96087738 0.93247418 0.90871386 0.91035254 0.93704872 0.93541014\n",
      " 0.91035254 0.89956479 0.87921831 0.85020064 0.86843055 0.88283697\n",
      " 0.88468037 0.87157123 0.89451226 0.89225911 0.87136641 0.84494329\n",
      " 0.83224379 0.86986431 0.8396177  0.81374072 0.81374072 0.81905115\n",
      " 0.81104892 0.80448061 0.79903132 0.79440874 0.79040569 0.78688884\n",
      " 0.78377247 0.78099447 0.77850544 0.77625889 0.77421153 0.77232367\n",
      " 0.77055776 0.76888168 0.76726824 0.76569486 0.76414454 0.76260495\n",
      " 0.7610687  0.7595315  0.75799286 0.75645417 0.75491995 0.75339514\n",
      " 0.75188529 0.75039715 0.74893689 0.74750984]\n",
      "29 day output [[0.7461214]]\n",
      "[[0.8190511465072632], [0.8110489249229431], [0.8044806122779846], [0.7990313172340393], [0.7944087386131287], [0.7904056906700134], [0.786888837814331], [0.7837724685668945], [0.7809944748878479], [0.7785054445266724], [0.7762588858604431], [0.7742115259170532], [0.7723236680030823], [0.7705577611923218], [0.7688816785812378], [0.7672682404518127], [0.7656948566436768], [0.7641445398330688], [0.7626049518585205], [0.7610687017440796], [0.7595314979553223], [0.7579928636550903], [0.7564541697502136], [0.7549199461936951], [0.753395140171051], [0.7518852949142456], [0.7503971457481384], [0.7489368915557861], [0.7475098371505737], [0.7461214065551758]]\n"
     ]
    }
   ],
   "source": [
    "# demonstrate prediction for next 10 days\n",
    "from numpy import array\n",
    "\n",
    "lst_output=[]\n",
    "n_steps=100\n",
    "i=0\n",
    "while(i<30):\n",
    "    \n",
    "    if(len(temp_input)>100):\n",
    "        #print(temp_input)\n",
    "        x_input=np.array(temp_input[1:])\n",
    "        print(\"{} day input {}\".format(i,x_input))\n",
    "        x_input=x_input.reshape(1,-1)\n",
    "        x_input = x_input.reshape((1, n_steps, 1))\n",
    "        #print(x_input)\n",
    "        yhat = model.predict(x_input, verbose=0)\n",
    "        print(\"{} day output {}\".format(i,yhat))\n",
    "        temp_input.extend(yhat[0].tolist())\n",
    "        temp_input=temp_input[1:]\n",
    "        #print(temp_input)\n",
    "        lst_output.extend(yhat.tolist())\n",
    "        i=i+1\n",
    "    else:\n",
    "        x_input = x_input.reshape((1, n_steps,1))\n",
    "        yhat = model.predict(x_input, verbose=0)\n",
    "        print(yhat[0])\n",
    "        temp_input.extend(yhat[0].tolist())\n",
    "        print(len(temp_input))\n",
    "        lst_output.extend(yhat.tolist())\n",
    "        i=i+1\n",
    "    \n",
    "\n",
    "print(lst_output)"
   ]
  },
  {
   "cell_type": "code",
   "execution_count": 74,
   "metadata": {},
   "outputs": [],
   "source": [
    "day_new=np.arange(1,101)\n",
    "day_pred=np.arange(101,131)"
   ]
  },
  {
   "cell_type": "code",
   "execution_count": 75,
   "metadata": {},
   "outputs": [],
   "source": [
    "import matplotlib.pyplot as plt"
   ]
  },
  {
   "cell_type": "code",
   "execution_count": 76,
   "metadata": {},
   "outputs": [
    {
     "data": {
      "text/plain": [
       "806"
      ]
     },
     "execution_count": 76,
     "metadata": {},
     "output_type": "execute_result"
    }
   ],
   "source": [
    "len(df1)"
   ]
  },
  {
   "cell_type": "code",
   "execution_count": 77,
   "metadata": {},
   "outputs": [
    {
     "data": {
      "text/plain": [
       "[<matplotlib.lines.Line2D at 0x2978c3d90a0>]"
      ]
     },
     "execution_count": 77,
     "metadata": {},
     "output_type": "execute_result"
    },
    {
     "data": {
      "image/png": "[encoded data removed]",
      "text/plain": [
       "<Figure size 432x288 with 1 Axes>"
      ]
     },
     "metadata": {
      "needs_background": "light"
     },
     "output_type": "display_data"
    }
   ],
   "source": [
    "# 100 less than len df1\n",
    "plt.plot(day_new,scaler.inverse_transform(df1[706:]))\n",
    "plt.plot(day_pred,scaler.inverse_transform(lst_output))"
   ]
  },
  {
   "cell_type": "code",
   "execution_count": 78,
   "metadata": {},
   "outputs": [
    {
     "data": {
      "text/plain": [
       "[<matplotlib.lines.Line2D at 0x2978c3eec40>]"
      ]
     },
     "execution_count": 78,
     "metadata": {},
     "output_type": "execute_result"
    },
    {
     "data": {
      "image/png": "[encoded data removed]",
      "text/plain": [
       "<Figure size 432x288 with 1 Axes>"
      ]
     },
     "metadata": {
      "needs_background": "light"
     },
     "output_type": "display_data"
    }
   ],
   "source": [
    "#last 50-80 of len df1\n",
    "df3=df1.tolist()\n",
    "df3.extend(lst_output)\n",
    "plt.plot(df3[750:])"
   ]
  },
  {
   "cell_type": "code",
   "execution_count": 79,
   "metadata": {},
   "outputs": [],
   "source": [
    "df3=scaler.inverse_transform(df3).tolist()"
   ]
  },
  {
   "cell_type": "code",
   "execution_count": 80,
   "metadata": {},
   "outputs": [
    {
     "data": {
      "text/plain": [
       "[<matplotlib.lines.Line2D at 0x2978c4e7b80>]"
      ]
     },
     "execution_count": 80,
     "metadata": {},
     "output_type": "execute_result"
    },
    {
     "data": {
      "image/png": "[encoded data removed]",
      "text/plain": [
       "<Figure size 432x288 with 1 Axes>"
      ]
     },
     "metadata": {
      "needs_background": "light"
     },
     "output_type": "display_data"
    }
   ],
   "source": [
    "plt.plot(df3)"
   ]
  },
  {
   "cell_type": "code",
   "execution_count": 81,
   "metadata": {},
   "outputs": [
    {
     "data": {
      "text/plain": [
       "[<matplotlib.lines.Line2D at 0x2978c546c70>]"
      ]
     },
     "execution_count": 81,
     "metadata": {},
     "output_type": "execute_result"
    },
    {
     "data": {
      "image/png": "[encoded data removed]",
      "text/plain": [
       "<Figure size 432x288 with 1 Axes>"
      ]
     },
     "metadata": {
      "needs_background": "light"
     },
     "output_type": "display_data"
    }
   ],
   "source": [
    "# same as above\n",
    "df3=df1.tolist()\n",
    "df3.extend(lst_output)\n",
    "plt.plot(df3[790:])"
   ]
  },
  {
   "cell_type": "code",
   "execution_count": null,
   "metadata": {},
   "outputs": [],
   "source": []
  }
 ],
 "metadata": {
  "kernelspec": {
   "display_name": "Python 3 (ipykernel)",
   "language": "python",
   "name": "python3"
  },
  "language_info": {
   "codemirror_mode": {
    "name": "ipython",
    "version": 3
   },
   "file_extension": ".py",
   "mimetype": "text/x-python",
   "name": "python",
   "nbconvert_exporter": "python",
   "pygments_lexer": "ipython3",
   "version": "3.9.7"
  }
 },
 "nbformat": 4,
 "nbformat_minor": 2
}
