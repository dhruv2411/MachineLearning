{
 "cells": [
  {
   "cell_type": "markdown",
   "metadata": {},
   "source": [
    "### Stock Market Prediction And Forecasting Using Stacked LSTM"
   ]
  },
  {
   "cell_type": "code",
   "execution_count": null,
   "metadata": {},
   "outputs": [],
   "source": [
    "### Keras and Tensorflow >2.0"
   ]
  },
  {
   "cell_type": "code",
   "execution_count": 7,
   "metadata": {},
   "outputs": [],
   "source": [
    "import pandas as pd"
   ]
  },
  {
   "cell_type": "code",
   "execution_count": 8,
   "metadata": {},
   "outputs": [],
   "source": [
    "df=pd.read_csv('AAPL.csv')"
   ]
  },
  {
   "cell_type": "code",
   "execution_count": 9,
   "metadata": {},
   "outputs": [
    {
     "data": {
      "text/html": [
       "<div>\n",
       "<style scoped>\n",
       "    .dataframe tbody tr th:only-of-type {\n",
       "        vertical-align: middle;\n",
       "    }\n",
       "\n",
       "    .dataframe tbody tr th {\n",
       "        vertical-align: top;\n",
       "    }\n",
       "\n",
       "    .dataframe thead th {\n",
       "        text-align: right;\n",
       "    }\n",
       "</style>\n",
       "<table border=\"1\" class=\"dataframe\">\n",
       "  <thead>\n",
       "    <tr style=\"text-align: right;\">\n",
       "      <th></th>\n",
       "      <th>Date</th>\n",
       "      <th>Open</th>\n",
       "      <th>High</th>\n",
       "      <th>Low</th>\n",
       "      <th>Close</th>\n",
       "      <th>Adj Close</th>\n",
       "      <th>Volume</th>\n",
       "    </tr>\n",
       "  </thead>\n",
       "  <tbody>\n",
       "    <tr>\n",
       "      <th>0</th>\n",
       "      <td>2021-03-15</td>\n",
       "      <td>121.410004</td>\n",
       "      <td>124.000000</td>\n",
       "      <td>120.419998</td>\n",
       "      <td>123.989998</td>\n",
       "      <td>123.257416</td>\n",
       "      <td>92403800</td>\n",
       "    </tr>\n",
       "    <tr>\n",
       "      <th>1</th>\n",
       "      <td>2021-03-16</td>\n",
       "      <td>125.699997</td>\n",
       "      <td>127.220001</td>\n",
       "      <td>124.720001</td>\n",
       "      <td>125.570000</td>\n",
       "      <td>124.828079</td>\n",
       "      <td>115227900</td>\n",
       "    </tr>\n",
       "    <tr>\n",
       "      <th>2</th>\n",
       "      <td>2021-03-17</td>\n",
       "      <td>124.050003</td>\n",
       "      <td>125.860001</td>\n",
       "      <td>122.339996</td>\n",
       "      <td>124.760002</td>\n",
       "      <td>124.022865</td>\n",
       "      <td>111932600</td>\n",
       "    </tr>\n",
       "    <tr>\n",
       "      <th>3</th>\n",
       "      <td>2021-03-18</td>\n",
       "      <td>122.879997</td>\n",
       "      <td>123.180000</td>\n",
       "      <td>120.320000</td>\n",
       "      <td>120.529999</td>\n",
       "      <td>119.817863</td>\n",
       "      <td>121229700</td>\n",
       "    </tr>\n",
       "    <tr>\n",
       "      <th>4</th>\n",
       "      <td>2021-03-19</td>\n",
       "      <td>119.900002</td>\n",
       "      <td>121.430000</td>\n",
       "      <td>119.680000</td>\n",
       "      <td>119.989998</td>\n",
       "      <td>119.281052</td>\n",
       "      <td>185549500</td>\n",
       "    </tr>\n",
       "  </tbody>\n",
       "</table>\n",
       "</div>"
      ],
      "text/plain": [
       "         Date        Open        High         Low       Close   Adj Close  \\\n",
       "0  2021-03-15  121.410004  124.000000  120.419998  123.989998  123.257416   \n",
       "1  2021-03-16  125.699997  127.220001  124.720001  125.570000  124.828079   \n",
       "2  2021-03-17  124.050003  125.860001  122.339996  124.760002  124.022865   \n",
       "3  2021-03-18  122.879997  123.180000  120.320000  120.529999  119.817863   \n",
       "4  2021-03-19  119.900002  121.430000  119.680000  119.989998  119.281052   \n",
       "\n",
       "      Volume  \n",
       "0   92403800  \n",
       "1  115227900  \n",
       "2  111932600  \n",
       "3  121229700  \n",
       "4  185549500  "
      ]
     },
     "execution_count": 9,
     "metadata": {},
     "output_type": "execute_result"
    }
   ],
   "source": [
    "df.head()"
   ]
  },
  {
   "cell_type": "code",
   "execution_count": 10,
   "metadata": {},
   "outputs": [
    {
     "data": {
      "text/html": [
       "<div>\n",
       "<style scoped>\n",
       "    .dataframe tbody tr th:only-of-type {\n",
       "        vertical-align: middle;\n",
       "    }\n",
       "\n",
       "    .dataframe tbody tr th {\n",
       "        vertical-align: top;\n",
       "    }\n",
       "\n",
       "    .dataframe thead th {\n",
       "        text-align: right;\n",
       "    }\n",
       "</style>\n",
       "<table border=\"1\" class=\"dataframe\">\n",
       "  <thead>\n",
       "    <tr style=\"text-align: right;\">\n",
       "      <th></th>\n",
       "      <th>Date</th>\n",
       "      <th>Open</th>\n",
       "      <th>High</th>\n",
       "      <th>Low</th>\n",
       "      <th>Close</th>\n",
       "      <th>Adj Close</th>\n",
       "      <th>Volume</th>\n",
       "    </tr>\n",
       "  </thead>\n",
       "  <tbody>\n",
       "    <tr>\n",
       "      <th>248</th>\n",
       "      <td>2022-03-08</td>\n",
       "      <td>158.820007</td>\n",
       "      <td>162.880005</td>\n",
       "      <td>155.800003</td>\n",
       "      <td>157.440002</td>\n",
       "      <td>157.440002</td>\n",
       "      <td>131148300</td>\n",
       "    </tr>\n",
       "    <tr>\n",
       "      <th>249</th>\n",
       "      <td>2022-03-09</td>\n",
       "      <td>161.479996</td>\n",
       "      <td>163.410004</td>\n",
       "      <td>159.410004</td>\n",
       "      <td>162.949997</td>\n",
       "      <td>162.949997</td>\n",
       "      <td>91454900</td>\n",
       "    </tr>\n",
       "    <tr>\n",
       "      <th>250</th>\n",
       "      <td>2022-03-10</td>\n",
       "      <td>160.199997</td>\n",
       "      <td>160.389999</td>\n",
       "      <td>155.979996</td>\n",
       "      <td>158.520004</td>\n",
       "      <td>158.520004</td>\n",
       "      <td>105342000</td>\n",
       "    </tr>\n",
       "    <tr>\n",
       "      <th>251</th>\n",
       "      <td>2022-03-11</td>\n",
       "      <td>158.929993</td>\n",
       "      <td>159.279999</td>\n",
       "      <td>154.500000</td>\n",
       "      <td>154.729996</td>\n",
       "      <td>154.729996</td>\n",
       "      <td>96836300</td>\n",
       "    </tr>\n",
       "    <tr>\n",
       "      <th>252</th>\n",
       "      <td>2022-03-11</td>\n",
       "      <td>158.929993</td>\n",
       "      <td>159.279907</td>\n",
       "      <td>154.500000</td>\n",
       "      <td>154.729996</td>\n",
       "      <td>154.729996</td>\n",
       "      <td>96970102</td>\n",
       "    </tr>\n",
       "  </tbody>\n",
       "</table>\n",
       "</div>"
      ],
      "text/plain": [
       "           Date        Open        High         Low       Close   Adj Close  \\\n",
       "248  2022-03-08  158.820007  162.880005  155.800003  157.440002  157.440002   \n",
       "249  2022-03-09  161.479996  163.410004  159.410004  162.949997  162.949997   \n",
       "250  2022-03-10  160.199997  160.389999  155.979996  158.520004  158.520004   \n",
       "251  2022-03-11  158.929993  159.279999  154.500000  154.729996  154.729996   \n",
       "252  2022-03-11  158.929993  159.279907  154.500000  154.729996  154.729996   \n",
       "\n",
       "        Volume  \n",
       "248  131148300  \n",
       "249   91454900  \n",
       "250  105342000  \n",
       "251   96836300  \n",
       "252   96970102  "
      ]
     },
     "execution_count": 10,
     "metadata": {},
     "output_type": "execute_result"
    }
   ],
   "source": [
    "df.tail()"
   ]
  },
  {
   "cell_type": "code",
   "execution_count": 11,
   "metadata": {},
   "outputs": [],
   "source": [
    "df1=df.reset_index()['Close']"
   ]
  },
  {
   "cell_type": "code",
   "execution_count": 12,
   "metadata": {},
   "outputs": [
    {
     "data": {
      "text/plain": [
       "0      123.989998\n",
       "1      125.570000\n",
       "2      124.760002\n",
       "3      120.529999\n",
       "4      119.989998\n",
       "          ...    \n",
       "248    157.440002\n",
       "249    162.949997\n",
       "250    158.520004\n",
       "251    154.729996\n",
       "252    154.729996\n",
       "Name: Close, Length: 253, dtype: float64"
      ]
     },
     "execution_count": 12,
     "metadata": {},
     "output_type": "execute_result"
    }
   ],
   "source": [
    "df1"
   ]
  },
  {
   "cell_type": "code",
   "execution_count": 13,
   "metadata": {},
   "outputs": [
    {
     "data": {
      "text/plain": [
       "[<matplotlib.lines.Line2D at 0x26cc0ac5eb0>]"
      ]
     },
     "execution_count": 13,
     "metadata": {},
     "output_type": "execute_result"
    },
    {
     "data": {
      "image/png": "[encoded data removed]",
      "text/plain": [
       "<Figure size 432x288 with 1 Axes>"
      ]
     },
     "metadata": {
      "needs_background": "light"
     },
     "output_type": "display_data"
    }
   ],
   "source": [
    "import matplotlib.pyplot as plt\n",
    "plt.plot(df1)"
   ]
  },
  {
   "cell_type": "code",
   "execution_count": 77,
   "metadata": {},
   "outputs": [
    {
     "data": {
      "text/html": [
       "<div>\n",
       "<style scoped>\n",
       "    .dataframe tbody tr th:only-of-type {\n",
       "        vertical-align: middle;\n",
       "    }\n",
       "\n",
       "    .dataframe tbody tr th {\n",
       "        vertical-align: top;\n",
       "    }\n",
       "\n",
       "    .dataframe thead th {\n",
       "        text-align: right;\n",
       "    }\n",
       "</style>\n",
       "<table border=\"1\" class=\"dataframe\">\n",
       "  <thead>\n",
       "    <tr style=\"text-align: right;\">\n",
       "      <th></th>\n",
       "      <th>Date</th>\n",
       "      <th>Close</th>\n",
       "    </tr>\n",
       "  </thead>\n",
       "  <tbody>\n",
       "    <tr>\n",
       "      <th>0</th>\n",
       "      <td>2021-03-15</td>\n",
       "      <td>123.989998</td>\n",
       "    </tr>\n",
       "    <tr>\n",
       "      <th>2</th>\n",
       "      <td>2021-03-17</td>\n",
       "      <td>124.760002</td>\n",
       "    </tr>\n",
       "    <tr>\n",
       "      <th>3</th>\n",
       "      <td>2021-03-18</td>\n",
       "      <td>120.529999</td>\n",
       "    </tr>\n",
       "    <tr>\n",
       "      <th>4</th>\n",
       "      <td>2021-03-19</td>\n",
       "      <td>119.989998</td>\n",
       "    </tr>\n",
       "    <tr>\n",
       "      <th>5</th>\n",
       "      <td>2021-03-22</td>\n",
       "      <td>123.389999</td>\n",
       "    </tr>\n",
       "    <tr>\n",
       "      <th>...</th>\n",
       "      <td>...</td>\n",
       "      <td>...</td>\n",
       "    </tr>\n",
       "    <tr>\n",
       "      <th>248</th>\n",
       "      <td>2022-03-08</td>\n",
       "      <td>157.440002</td>\n",
       "    </tr>\n",
       "    <tr>\n",
       "      <th>249</th>\n",
       "      <td>2022-03-09</td>\n",
       "      <td>162.949997</td>\n",
       "    </tr>\n",
       "    <tr>\n",
       "      <th>250</th>\n",
       "      <td>2022-03-10</td>\n",
       "      <td>158.520004</td>\n",
       "    </tr>\n",
       "    <tr>\n",
       "      <th>251</th>\n",
       "      <td>2022-03-11</td>\n",
       "      <td>154.729996</td>\n",
       "    </tr>\n",
       "    <tr>\n",
       "      <th>252</th>\n",
       "      <td>2022-03-11</td>\n",
       "      <td>154.729996</td>\n",
       "    </tr>\n",
       "  </tbody>\n",
       "</table>\n",
       "<p>252 rows × 2 columns</p>\n",
       "</div>"
      ],
      "text/plain": [
       "           Date       Close\n",
       "0    2021-03-15  123.989998\n",
       "2    2021-03-17  124.760002\n",
       "3    2021-03-18  120.529999\n",
       "4    2021-03-19  119.989998\n",
       "5    2021-03-22  123.389999\n",
       "..          ...         ...\n",
       "248  2022-03-08  157.440002\n",
       "249  2022-03-09  162.949997\n",
       "250  2022-03-10  158.520004\n",
       "251  2022-03-11  154.729996\n",
       "252  2022-03-11  154.729996\n",
       "\n",
       "[252 rows x 2 columns]"
      ]
     },
     "execution_count": 77,
     "metadata": {},
     "output_type": "execute_result"
    }
   ],
   "source": [
    "df2=df\n",
    "df2=df2.drop([\"Open\",\"High\",\"Low\",\"Adj Close\",\"Volume\"],axis=1)\n"
   ]
  },
  {
   "cell_type": "code",
   "execution_count": 79,
   "metadata": {},
   "outputs": [
    {
     "data": {
      "text/html": [
       "<div>\n",
       "<style scoped>\n",
       "    .dataframe tbody tr th:only-of-type {\n",
       "        vertical-align: middle;\n",
       "    }\n",
       "\n",
       "    .dataframe tbody tr th {\n",
       "        vertical-align: top;\n",
       "    }\n",
       "\n",
       "    .dataframe thead th {\n",
       "        text-align: right;\n",
       "    }\n",
       "</style>\n",
       "<table border=\"1\" class=\"dataframe\">\n",
       "  <thead>\n",
       "    <tr style=\"text-align: right;\">\n",
       "      <th></th>\n",
       "      <th>Date</th>\n",
       "      <th>Close</th>\n",
       "    </tr>\n",
       "  </thead>\n",
       "  <tbody>\n",
       "    <tr>\n",
       "      <th>0</th>\n",
       "      <td>2021-03-15</td>\n",
       "      <td>123.989998</td>\n",
       "    </tr>\n",
       "    <tr>\n",
       "      <th>2</th>\n",
       "      <td>2021-03-17</td>\n",
       "      <td>124.760002</td>\n",
       "    </tr>\n",
       "    <tr>\n",
       "      <th>3</th>\n",
       "      <td>2021-03-18</td>\n",
       "      <td>120.529999</td>\n",
       "    </tr>\n",
       "    <tr>\n",
       "      <th>4</th>\n",
       "      <td>2021-03-19</td>\n",
       "      <td>119.989998</td>\n",
       "    </tr>\n",
       "    <tr>\n",
       "      <th>5</th>\n",
       "      <td>2021-03-22</td>\n",
       "      <td>123.389999</td>\n",
       "    </tr>\n",
       "    <tr>\n",
       "      <th>...</th>\n",
       "      <td>...</td>\n",
       "      <td>...</td>\n",
       "    </tr>\n",
       "    <tr>\n",
       "      <th>248</th>\n",
       "      <td>2022-03-08</td>\n",
       "      <td>157.440002</td>\n",
       "    </tr>\n",
       "    <tr>\n",
       "      <th>249</th>\n",
       "      <td>2022-03-09</td>\n",
       "      <td>162.949997</td>\n",
       "    </tr>\n",
       "    <tr>\n",
       "      <th>250</th>\n",
       "      <td>2022-03-10</td>\n",
       "      <td>158.520004</td>\n",
       "    </tr>\n",
       "    <tr>\n",
       "      <th>251</th>\n",
       "      <td>2022-03-11</td>\n",
       "      <td>154.729996</td>\n",
       "    </tr>\n",
       "    <tr>\n",
       "      <th>252</th>\n",
       "      <td>2022-03-11</td>\n",
       "      <td>154.729996</td>\n",
       "    </tr>\n",
       "  </tbody>\n",
       "</table>\n",
       "<p>252 rows × 2 columns</p>\n",
       "</div>"
      ],
      "text/plain": [
       "           Date       Close\n",
       "0    2021-03-15  123.989998\n",
       "2    2021-03-17  124.760002\n",
       "3    2021-03-18  120.529999\n",
       "4    2021-03-19  119.989998\n",
       "5    2021-03-22  123.389999\n",
       "..          ...         ...\n",
       "248  2022-03-08  157.440002\n",
       "249  2022-03-09  162.949997\n",
       "250  2022-03-10  158.520004\n",
       "251  2022-03-11  154.729996\n",
       "252  2022-03-11  154.729996\n",
       "\n",
       "[252 rows x 2 columns]"
      ]
     },
     "execution_count": 79,
     "metadata": {},
     "output_type": "execute_result"
    }
   ],
   "source": [
    "df2['Date']=pd.to_datetime(df2['Date'],format='%Y%m%d',errors='ignore')\n",
    "df2"
   ]
  },
  {
   "cell_type": "code",
   "execution_count": 83,
   "metadata": {},
   "outputs": [],
   "source": [
    "df2.set_index('Date',inplace=True)"
   ]
  },
  {
   "cell_type": "code",
   "execution_count": 88,
   "metadata": {},
   "outputs": [
    {
     "data": {
      "text/plain": [
       "<AxesSubplot:xlabel='Date'>"
      ]
     },
     "execution_count": 88,
     "metadata": {},
     "output_type": "execute_result"
    },
    {
     "data": {
      "image/png": "[encoded data removed]",
      "text/plain": [
       "<Figure size 864x576 with 1 Axes>"
      ]
     },
     "metadata": {
      "needs_background": "light"
     },
     "output_type": "display_data"
    }
   ],
   "source": [
    "df2.plot(figsize=(12,8))"
   ]
  },
  {
   "cell_type": "code",
   "execution_count": 90,
   "metadata": {},
   "outputs": [
    {
     "data": {
      "text/plain": [
       "array([[0.06585085],\n",
       "       [0.09128963],\n",
       "       [0.07824828],\n",
       "       [0.01014325],\n",
       "       [0.00144898],\n",
       "       [0.05619059],\n",
       "       [0.04250522],\n",
       "       [0.00305899],\n",
       "       [0.01110923],\n",
       "       [0.02109157],\n",
       "       [0.02398965],\n",
       "       [0.        ],\n",
       "       [0.03622605],\n",
       "       [0.04991142],\n",
       "       [0.09660281],\n",
       "       [0.10159391],\n",
       "       [0.12880375],\n",
       "       [0.16841089],\n",
       "       [0.21091611],\n",
       "       [0.18257936],\n",
       "       [0.23393967],\n",
       "       [0.19529864],\n",
       "       [0.23506681],\n",
       "       [0.22959272],\n",
       "       [0.24054091],\n",
       "       [0.21268718],\n",
       "       [0.21896634],\n",
       "       [0.19384964],\n",
       "       [0.23216884],\n",
       "       [0.23860893],\n",
       "       [0.23329574],\n",
       "       [0.22025441],\n",
       "       [0.21864427],\n",
       "       [0.1861215 ],\n",
       "       [0.20350978],\n",
       "       [0.12799866],\n",
       "       [0.13202391],\n",
       "       [0.15842866],\n",
       "       [0.16599591],\n",
       "       [0.11189819],\n",
       "       [0.09676385],\n",
       "       [0.04620826],\n",
       "       [0.08162936],\n",
       "       [0.12155846],\n",
       "       [0.10255991],\n",
       "       [0.07969726],\n",
       "       [0.07712125],\n",
       "       [0.11930441],\n",
       "       [0.08903556],\n",
       "       [0.11592331],\n",
       "       [0.11270328],\n",
       "       [0.11189819],\n",
       "       [0.08662047],\n",
       "       [0.07583319],\n",
       "       [0.07052   ],\n",
       "       [0.08307835],\n",
       "       [0.05860569],\n",
       "       [0.09644176],\n",
       "       [0.09660281],\n",
       "       [0.11012714],\n",
       "       [0.11640631],\n",
       "       [0.09998389],\n",
       "       [0.11994843],\n",
       "       [0.17034286],\n",
       "       [0.15681852],\n",
       "       [0.16502968],\n",
       "       [0.19143443],\n",
       "       [0.17002103],\n",
       "       [0.19964583],\n",
       "       [0.2266945 ],\n",
       "       [0.22218639],\n",
       "       [0.21751736],\n",
       "       [0.21268718],\n",
       "       [0.23957493],\n",
       "       [0.2645307 ],\n",
       "       [0.27467408],\n",
       "       [0.27966517],\n",
       "       [0.32297548],\n",
       "       [0.3561424 ],\n",
       "       [0.39719864],\n",
       "       [0.37578499],\n",
       "       [0.4058928 ],\n",
       "       [0.3960715 ],\n",
       "       [0.41442602],\n",
       "       [0.47093858],\n",
       "       [0.4601513 ],\n",
       "       [0.42650137],\n",
       "       [0.36306549],\n",
       "       [0.42263718],\n",
       "       [0.41056182],\n",
       "       [0.43310262],\n",
       "       [0.46143937],\n",
       "       [0.46836268],\n",
       "       [0.43261963],\n",
       "       [0.40379966],\n",
       "       [0.41442602],\n",
       "       [0.41796815],\n",
       "       [0.41249404],\n",
       "       [0.44211886],\n",
       "       [0.4355176 ],\n",
       "       [0.43728867],\n",
       "       [0.42247625],\n",
       "       [0.42167118],\n",
       "       [0.41378211],\n",
       "       [0.41796815],\n",
       "       [0.46675254],\n",
       "       [0.47013375],\n",
       "       [0.50265652],\n",
       "       [0.4876832 ],\n",
       "       [0.42601839],\n",
       "       [0.43149248],\n",
       "       [0.45548226],\n",
       "       [0.47995505],\n",
       "       [0.47850582],\n",
       "       [0.45821932],\n",
       "       [0.44501681],\n",
       "       [0.46208352],\n",
       "       [0.53485746],\n",
       "       [0.51408797],\n",
       "       [0.52503617],\n",
       "       [0.54339069],\n",
       "       [0.55385614],\n",
       "       [0.59233624],\n",
       "       [0.56689749],\n",
       "       [0.5501531 ],\n",
       "       [0.46804061],\n",
       "       [0.47737891],\n",
       "       [0.45435511],\n",
       "       [0.46900661],\n",
       "       [0.4651424 ],\n",
       "       [0.4211882 ],\n",
       "       [0.3709548 ],\n",
       "       [0.37884388],\n",
       "       [0.41780723],\n",
       "       [0.43358562],\n",
       "       [0.4350346 ],\n",
       "       [0.41007883],\n",
       "       [0.35437135],\n",
       "       [0.36918375],\n",
       "       [0.34777009],\n",
       "       [0.36628553],\n",
       "       [0.30977297],\n",
       "       [0.34149093],\n",
       "       [0.35582033],\n",
       "       [0.37658982],\n",
       "       [0.37031065],\n",
       "       [0.36886167],\n",
       "       [0.34793102],\n",
       "       [0.33827088],\n",
       "       [0.38415707],\n",
       "       [0.40154559],\n",
       "       [0.42907751],\n",
       "       [0.46465941],\n",
       "       [0.47270965],\n",
       "       [0.47625177],\n",
       "       [0.46353249],\n",
       "       [0.46272742],\n",
       "       [0.47367587],\n",
       "       [0.46610863],\n",
       "       [0.52600239],\n",
       "       [0.48140403],\n",
       "       [0.4678797 ],\n",
       "       [0.48494615],\n",
       "       [0.50861386],\n",
       "       [0.50008064],\n",
       "       [0.50523266],\n",
       "       [0.49170831],\n",
       "       [0.49766542],\n",
       "       [0.45113507],\n",
       "       [0.45033   ],\n",
       "       [0.48446315],\n",
       "       [0.48462408],\n",
       "       [0.50072455],\n",
       "       [0.54081479],\n",
       "       [0.61133468],\n",
       "       [0.65448407],\n",
       "       [0.66205131],\n",
       "       [0.66833049],\n",
       "       [0.67686371],\n",
       "       [0.59426824],\n",
       "       [0.64949296],\n",
       "       [0.7309613 ],\n",
       "       [0.72242806],\n",
       "       [0.70616645],\n",
       "       [0.67525356],\n",
       "       [0.73128337],\n",
       "       [0.82563189],\n",
       "       [0.88842386],\n",
       "       [0.88005156],\n",
       "       [0.95878283],\n",
       "       [0.89905022],\n",
       "       [0.87634851],\n",
       "       [0.95636786],\n",
       "       [0.84302043],\n",
       "       [0.82498797],\n",
       "       [0.80260833],\n",
       "       [0.85477393],\n",
       "       [0.89744008],\n",
       "       [0.90774438],\n",
       "       [0.97295133],\n",
       "       [0.95620669],\n",
       "       [0.95765593],\n",
       "       [0.93865725],\n",
       "       [0.92851411],\n",
       "       [1.        ],\n",
       "       [0.96280795],\n",
       "       [0.88584773],\n",
       "       [0.83883439],\n",
       "       [0.84157144],\n",
       "       [0.84189351],\n",
       "       [0.88842386],\n",
       "       [0.89566903],\n",
       "       [0.84189351],\n",
       "       [0.856062  ],\n",
       "       [0.80341341],\n",
       "       [0.74593462],\n",
       "       [0.7182418 ],\n",
       "       [0.68443096],\n",
       "       [0.67171144],\n",
       "       [0.64208664],\n",
       "       [0.64063765],\n",
       "       [0.63307041],\n",
       "       [0.81194664],\n",
       "       [0.88359368],\n",
       "       [0.88085663],\n",
       "       [0.90066012],\n",
       "       [0.85332471],\n",
       "       [0.84511356],\n",
       "       [0.83336029],\n",
       "       [0.88439875],\n",
       "       [0.90774438],\n",
       "       [0.84076636],\n",
       "       [0.7847368 ],\n",
       "       [0.78860101],\n",
       "       [0.85155365],\n",
       "       [0.84768969],\n",
       "       [0.78860101],\n",
       "       [0.76316223],\n",
       "       [0.7151829 ],\n",
       "       [0.64675591],\n",
       "       [0.68974413],\n",
       "       [0.72371613],\n",
       "       [0.72806308],\n",
       "       [0.69715022],\n",
       "       [0.75124781],\n",
       "       [0.74593462],\n",
       "       [0.69666722],\n",
       "       [0.63435848],\n",
       "       [0.6044116 ],\n",
       "       [0.6931251 ],\n",
       "       [0.62180013],\n",
       "       [0.56077923],\n",
       "       [0.56077923]])"
      ]
     },
     "execution_count": 90,
     "metadata": {},
     "output_type": "execute_result"
    }
   ],
   "source": [
    "df1"
   ]
  },
  {
   "cell_type": "code",
   "execution_count": 14,
   "metadata": {},
   "outputs": [],
   "source": [
    "### LSTM are sensitive to the scale of the data. so we apply MinMax scaler "
   ]
  },
  {
   "cell_type": "code",
   "execution_count": 15,
   "metadata": {},
   "outputs": [],
   "source": [
    "import numpy as np"
   ]
  },
  {
   "cell_type": "code",
   "execution_count": 16,
   "metadata": {},
   "outputs": [
    {
     "data": {
      "text/plain": [
       "0      123.989998\n",
       "1      125.570000\n",
       "2      124.760002\n",
       "3      120.529999\n",
       "4      119.989998\n",
       "          ...    \n",
       "248    157.440002\n",
       "249    162.949997\n",
       "250    158.520004\n",
       "251    154.729996\n",
       "252    154.729996\n",
       "Name: Close, Length: 253, dtype: float64"
      ]
     },
     "execution_count": 16,
     "metadata": {},
     "output_type": "execute_result"
    }
   ],
   "source": [
    "df1"
   ]
  },
  {
   "cell_type": "code",
   "execution_count": 17,
   "metadata": {},
   "outputs": [],
   "source": [
    "from sklearn.preprocessing import MinMaxScaler\n",
    "scaler=MinMaxScaler(feature_range=(0,1))\n",
    "df1=scaler.fit_transform(np.array(df1).reshape(-1,1))"
   ]
  },
  {
   "cell_type": "code",
   "execution_count": 18,
   "metadata": {},
   "outputs": [
    {
     "name": "stdout",
     "output_type": "stream",
     "text": [
      "[[0.06585085]\n",
      " [0.09128963]\n",
      " [0.07824828]\n",
      " [0.01014325]\n",
      " [0.00144898]\n",
      " [0.05619059]\n",
      " [0.04250522]\n",
      " [0.00305899]\n",
      " [0.01110923]\n",
      " [0.02109157]\n",
      " [0.02398965]\n",
      " [0.        ]\n",
      " [0.03622605]\n",
      " [0.04991142]\n",
      " [0.09660281]\n",
      " [0.10159391]\n",
      " [0.12880375]\n",
      " [0.16841089]\n",
      " [0.21091611]\n",
      " [0.18257936]\n",
      " [0.23393967]\n",
      " [0.19529864]\n",
      " [0.23506681]\n",
      " [0.22959272]\n",
      " [0.24054091]\n",
      " [0.21268718]\n",
      " [0.21896634]\n",
      " [0.19384964]\n",
      " [0.23216884]\n",
      " [0.23860893]\n",
      " [0.23329574]\n",
      " [0.22025441]\n",
      " [0.21864427]\n",
      " [0.1861215 ]\n",
      " [0.20350978]\n",
      " [0.12799866]\n",
      " [0.13202391]\n",
      " [0.15842866]\n",
      " [0.16599591]\n",
      " [0.11189819]\n",
      " [0.09676385]\n",
      " [0.04620826]\n",
      " [0.08162936]\n",
      " [0.12155846]\n",
      " [0.10255991]\n",
      " [0.07969726]\n",
      " [0.07712125]\n",
      " [0.11930441]\n",
      " [0.08903556]\n",
      " [0.11592331]\n",
      " [0.11270328]\n",
      " [0.11189819]\n",
      " [0.08662047]\n",
      " [0.07583319]\n",
      " [0.07052   ]\n",
      " [0.08307835]\n",
      " [0.05860569]\n",
      " [0.09644176]\n",
      " [0.09660281]\n",
      " [0.11012714]\n",
      " [0.11640631]\n",
      " [0.09998389]\n",
      " [0.11994843]\n",
      " [0.17034286]\n",
      " [0.15681852]\n",
      " [0.16502968]\n",
      " [0.19143443]\n",
      " [0.17002103]\n",
      " [0.19964583]\n",
      " [0.2266945 ]\n",
      " [0.22218639]\n",
      " [0.21751736]\n",
      " [0.21268718]\n",
      " [0.23957493]\n",
      " [0.2645307 ]\n",
      " [0.27467408]\n",
      " [0.27966517]\n",
      " [0.32297548]\n",
      " [0.3561424 ]\n",
      " [0.39719864]\n",
      " [0.37578499]\n",
      " [0.4058928 ]\n",
      " [0.3960715 ]\n",
      " [0.41442602]\n",
      " [0.47093858]\n",
      " [0.4601513 ]\n",
      " [0.42650137]\n",
      " [0.36306549]\n",
      " [0.42263718]\n",
      " [0.41056182]\n",
      " [0.43310262]\n",
      " [0.46143937]\n",
      " [0.46836268]\n",
      " [0.43261963]\n",
      " [0.40379966]\n",
      " [0.41442602]\n",
      " [0.41796815]\n",
      " [0.41249404]\n",
      " [0.44211886]\n",
      " [0.4355176 ]\n",
      " [0.43728867]\n",
      " [0.42247625]\n",
      " [0.42167118]\n",
      " [0.41378211]\n",
      " [0.41796815]\n",
      " [0.46675254]\n",
      " [0.47013375]\n",
      " [0.50265652]\n",
      " [0.4876832 ]\n",
      " [0.42601839]\n",
      " [0.43149248]\n",
      " [0.45548226]\n",
      " [0.47995505]\n",
      " [0.47850582]\n",
      " [0.45821932]\n",
      " [0.44501681]\n",
      " [0.46208352]\n",
      " [0.53485746]\n",
      " [0.51408797]\n",
      " [0.52503617]\n",
      " [0.54339069]\n",
      " [0.55385614]\n",
      " [0.59233624]\n",
      " [0.56689749]\n",
      " [0.5501531 ]\n",
      " [0.46804061]\n",
      " [0.47737891]\n",
      " [0.45435511]\n",
      " [0.46900661]\n",
      " [0.4651424 ]\n",
      " [0.4211882 ]\n",
      " [0.3709548 ]\n",
      " [0.37884388]\n",
      " [0.41780723]\n",
      " [0.43358562]\n",
      " [0.4350346 ]\n",
      " [0.41007883]\n",
      " [0.35437135]\n",
      " [0.36918375]\n",
      " [0.34777009]\n",
      " [0.36628553]\n",
      " [0.30977297]\n",
      " [0.34149093]\n",
      " [0.35582033]\n",
      " [0.37658982]\n",
      " [0.37031065]\n",
      " [0.36886167]\n",
      " [0.34793102]\n",
      " [0.33827088]\n",
      " [0.38415707]\n",
      " [0.40154559]\n",
      " [0.42907751]\n",
      " [0.46465941]\n",
      " [0.47270965]\n",
      " [0.47625177]\n",
      " [0.46353249]\n",
      " [0.46272742]\n",
      " [0.47367587]\n",
      " [0.46610863]\n",
      " [0.52600239]\n",
      " [0.48140403]\n",
      " [0.4678797 ]\n",
      " [0.48494615]\n",
      " [0.50861386]\n",
      " [0.50008064]\n",
      " [0.50523266]\n",
      " [0.49170831]\n",
      " [0.49766542]\n",
      " [0.45113507]\n",
      " [0.45033   ]\n",
      " [0.48446315]\n",
      " [0.48462408]\n",
      " [0.50072455]\n",
      " [0.54081479]\n",
      " [0.61133468]\n",
      " [0.65448407]\n",
      " [0.66205131]\n",
      " [0.66833049]\n",
      " [0.67686371]\n",
      " [0.59426824]\n",
      " [0.64949296]\n",
      " [0.7309613 ]\n",
      " [0.72242806]\n",
      " [0.70616645]\n",
      " [0.67525356]\n",
      " [0.73128337]\n",
      " [0.82563189]\n",
      " [0.88842386]\n",
      " [0.88005156]\n",
      " [0.95878283]\n",
      " [0.89905022]\n",
      " [0.87634851]\n",
      " [0.95636786]\n",
      " [0.84302043]\n",
      " [0.82498797]\n",
      " [0.80260833]\n",
      " [0.85477393]\n",
      " [0.89744008]\n",
      " [0.90774438]\n",
      " [0.97295133]\n",
      " [0.95620669]\n",
      " [0.95765593]\n",
      " [0.93865725]\n",
      " [0.92851411]\n",
      " [1.        ]\n",
      " [0.96280795]\n",
      " [0.88584773]\n",
      " [0.83883439]\n",
      " [0.84157144]\n",
      " [0.84189351]\n",
      " [0.88842386]\n",
      " [0.89566903]\n",
      " [0.84189351]\n",
      " [0.856062  ]\n",
      " [0.80341341]\n",
      " [0.74593462]\n",
      " [0.7182418 ]\n",
      " [0.68443096]\n",
      " [0.67171144]\n",
      " [0.64208664]\n",
      " [0.64063765]\n",
      " [0.63307041]\n",
      " [0.81194664]\n",
      " [0.88359368]\n",
      " [0.88085663]\n",
      " [0.90066012]\n",
      " [0.85332471]\n",
      " [0.84511356]\n",
      " [0.83336029]\n",
      " [0.88439875]\n",
      " [0.90774438]\n",
      " [0.84076636]\n",
      " [0.7847368 ]\n",
      " [0.78860101]\n",
      " [0.85155365]\n",
      " [0.84768969]\n",
      " [0.78860101]\n",
      " [0.76316223]\n",
      " [0.7151829 ]\n",
      " [0.64675591]\n",
      " [0.68974413]\n",
      " [0.72371613]\n",
      " [0.72806308]\n",
      " [0.69715022]\n",
      " [0.75124781]\n",
      " [0.74593462]\n",
      " [0.69666722]\n",
      " [0.63435848]\n",
      " [0.6044116 ]\n",
      " [0.6931251 ]\n",
      " [0.62180013]\n",
      " [0.56077923]\n",
      " [0.56077923]]\n"
     ]
    }
   ],
   "source": [
    "print(df1)"
   ]
  },
  {
   "cell_type": "code",
   "execution_count": 20,
   "metadata": {},
   "outputs": [],
   "source": [
    "##splitting dataset into train and test split\n",
    "training_size=int(len(df1)*0.70)\n",
    "test_size=len(df1)-training_size\n",
    "train_data,test_data=df1[0:training_size,:],df1[training_size:len(df1),:1]"
   ]
  },
  {
   "cell_type": "code",
   "execution_count": 21,
   "metadata": {},
   "outputs": [
    {
     "data": {
      "text/plain": [
       "(177, 76)"
      ]
     },
     "execution_count": 21,
     "metadata": {},
     "output_type": "execute_result"
    }
   ],
   "source": [
    "training_size,test_size"
   ]
  },
  {
   "cell_type": "code",
   "execution_count": 22,
   "metadata": {},
   "outputs": [
    {
     "data": {
      "text/plain": [
       "array([[0.06585085],\n",
       "       [0.09128963],\n",
       "       [0.07824828],\n",
       "       [0.01014325],\n",
       "       [0.00144898],\n",
       "       [0.05619059],\n",
       "       [0.04250522],\n",
       "       [0.00305899],\n",
       "       [0.01110923],\n",
       "       [0.02109157],\n",
       "       [0.02398965],\n",
       "       [0.        ],\n",
       "       [0.03622605],\n",
       "       [0.04991142],\n",
       "       [0.09660281],\n",
       "       [0.10159391],\n",
       "       [0.12880375],\n",
       "       [0.16841089],\n",
       "       [0.21091611],\n",
       "       [0.18257936],\n",
       "       [0.23393967],\n",
       "       [0.19529864],\n",
       "       [0.23506681],\n",
       "       [0.22959272],\n",
       "       [0.24054091],\n",
       "       [0.21268718],\n",
       "       [0.21896634],\n",
       "       [0.19384964],\n",
       "       [0.23216884],\n",
       "       [0.23860893],\n",
       "       [0.23329574],\n",
       "       [0.22025441],\n",
       "       [0.21864427],\n",
       "       [0.1861215 ],\n",
       "       [0.20350978],\n",
       "       [0.12799866],\n",
       "       [0.13202391],\n",
       "       [0.15842866],\n",
       "       [0.16599591],\n",
       "       [0.11189819],\n",
       "       [0.09676385],\n",
       "       [0.04620826],\n",
       "       [0.08162936],\n",
       "       [0.12155846],\n",
       "       [0.10255991],\n",
       "       [0.07969726],\n",
       "       [0.07712125],\n",
       "       [0.11930441],\n",
       "       [0.08903556],\n",
       "       [0.11592331],\n",
       "       [0.11270328],\n",
       "       [0.11189819],\n",
       "       [0.08662047],\n",
       "       [0.07583319],\n",
       "       [0.07052   ],\n",
       "       [0.08307835],\n",
       "       [0.05860569],\n",
       "       [0.09644176],\n",
       "       [0.09660281],\n",
       "       [0.11012714],\n",
       "       [0.11640631],\n",
       "       [0.09998389],\n",
       "       [0.11994843],\n",
       "       [0.17034286],\n",
       "       [0.15681852],\n",
       "       [0.16502968],\n",
       "       [0.19143443],\n",
       "       [0.17002103],\n",
       "       [0.19964583],\n",
       "       [0.2266945 ],\n",
       "       [0.22218639],\n",
       "       [0.21751736],\n",
       "       [0.21268718],\n",
       "       [0.23957493],\n",
       "       [0.2645307 ],\n",
       "       [0.27467408],\n",
       "       [0.27966517],\n",
       "       [0.32297548],\n",
       "       [0.3561424 ],\n",
       "       [0.39719864],\n",
       "       [0.37578499],\n",
       "       [0.4058928 ],\n",
       "       [0.3960715 ],\n",
       "       [0.41442602],\n",
       "       [0.47093858],\n",
       "       [0.4601513 ],\n",
       "       [0.42650137],\n",
       "       [0.36306549],\n",
       "       [0.42263718],\n",
       "       [0.41056182],\n",
       "       [0.43310262],\n",
       "       [0.46143937],\n",
       "       [0.46836268],\n",
       "       [0.43261963],\n",
       "       [0.40379966],\n",
       "       [0.41442602],\n",
       "       [0.41796815],\n",
       "       [0.41249404],\n",
       "       [0.44211886],\n",
       "       [0.4355176 ],\n",
       "       [0.43728867],\n",
       "       [0.42247625],\n",
       "       [0.42167118],\n",
       "       [0.41378211],\n",
       "       [0.41796815],\n",
       "       [0.46675254],\n",
       "       [0.47013375],\n",
       "       [0.50265652],\n",
       "       [0.4876832 ],\n",
       "       [0.42601839],\n",
       "       [0.43149248],\n",
       "       [0.45548226],\n",
       "       [0.47995505],\n",
       "       [0.47850582],\n",
       "       [0.45821932],\n",
       "       [0.44501681],\n",
       "       [0.46208352],\n",
       "       [0.53485746],\n",
       "       [0.51408797],\n",
       "       [0.52503617],\n",
       "       [0.54339069],\n",
       "       [0.55385614],\n",
       "       [0.59233624],\n",
       "       [0.56689749],\n",
       "       [0.5501531 ],\n",
       "       [0.46804061],\n",
       "       [0.47737891],\n",
       "       [0.45435511],\n",
       "       [0.46900661],\n",
       "       [0.4651424 ],\n",
       "       [0.4211882 ],\n",
       "       [0.3709548 ],\n",
       "       [0.37884388],\n",
       "       [0.41780723],\n",
       "       [0.43358562],\n",
       "       [0.4350346 ],\n",
       "       [0.41007883],\n",
       "       [0.35437135],\n",
       "       [0.36918375],\n",
       "       [0.34777009],\n",
       "       [0.36628553],\n",
       "       [0.30977297],\n",
       "       [0.34149093],\n",
       "       [0.35582033],\n",
       "       [0.37658982],\n",
       "       [0.37031065],\n",
       "       [0.36886167],\n",
       "       [0.34793102],\n",
       "       [0.33827088],\n",
       "       [0.38415707],\n",
       "       [0.40154559],\n",
       "       [0.42907751],\n",
       "       [0.46465941],\n",
       "       [0.47270965],\n",
       "       [0.47625177],\n",
       "       [0.46353249],\n",
       "       [0.46272742],\n",
       "       [0.47367587],\n",
       "       [0.46610863],\n",
       "       [0.52600239],\n",
       "       [0.48140403],\n",
       "       [0.4678797 ],\n",
       "       [0.48494615],\n",
       "       [0.50861386],\n",
       "       [0.50008064],\n",
       "       [0.50523266],\n",
       "       [0.49170831],\n",
       "       [0.49766542],\n",
       "       [0.45113507],\n",
       "       [0.45033   ],\n",
       "       [0.48446315],\n",
       "       [0.48462408],\n",
       "       [0.50072455],\n",
       "       [0.54081479],\n",
       "       [0.61133468],\n",
       "       [0.65448407],\n",
       "       [0.66205131]])"
      ]
     },
     "execution_count": 22,
     "metadata": {},
     "output_type": "execute_result"
    }
   ],
   "source": [
    "train_data"
   ]
  },
  {
   "cell_type": "code",
   "execution_count": 23,
   "metadata": {},
   "outputs": [],
   "source": [
    "import numpy\n",
    "# convert an array of values into a dataset matrix\n",
    "def create_dataset(dataset, time_step=1):\n",
    "\tdataX, dataY = [], []\n",
    "\tfor i in range(len(dataset)-time_step-1):\n",
    "\t\ta = dataset[i:(i+time_step), 0]   ###i=0, 0,1,2,3-----99   100 \n",
    "\t\tdataX.append(a)\n",
    "\t\tdataY.append(dataset[i + time_step, 0])\n",
    "\treturn numpy.array(dataX), numpy.array(dataY)"
   ]
  },
  {
   "cell_type": "code",
   "execution_count": 24,
   "metadata": {},
   "outputs": [],
   "source": [
    "# reshape into X=t,t+1,t+2,t+3 and Y=t+4\n",
    "time_step = 25\n",
    "X_train, y_train = create_dataset(train_data, time_step)\n",
    "X_test, ytest = create_dataset(test_data, time_step)"
   ]
  },
  {
   "cell_type": "code",
   "execution_count": 25,
   "metadata": {},
   "outputs": [
    {
     "name": "stdout",
     "output_type": "stream",
     "text": [
      "(151, 25)\n",
      "(151,)\n"
     ]
    },
    {
     "data": {
      "text/plain": [
       "(None, None)"
      ]
     },
     "execution_count": 25,
     "metadata": {},
     "output_type": "execute_result"
    }
   ],
   "source": [
    "print(X_train.shape), print(y_train.shape)"
   ]
  },
  {
   "cell_type": "code",
   "execution_count": 26,
   "metadata": {},
   "outputs": [
    {
     "name": "stdout",
     "output_type": "stream",
     "text": [
      "(50, 25)\n",
      "(50,)\n"
     ]
    },
    {
     "data": {
      "text/plain": [
       "(None, None)"
      ]
     },
     "execution_count": 26,
     "metadata": {},
     "output_type": "execute_result"
    }
   ],
   "source": [
    "print(X_test.shape), print(ytest.shape)"
   ]
  },
  {
   "cell_type": "code",
   "execution_count": 27,
   "metadata": {},
   "outputs": [],
   "source": [
    "# reshape input to be [samples, time steps, features] which is required for LSTM\n",
    "X_train =X_train.reshape(X_train.shape[0],X_train.shape[1] , 1)\n",
    "X_test = X_test.reshape(X_test.shape[0],X_test.shape[1] , 1)"
   ]
  },
  {
   "cell_type": "code",
   "execution_count": 28,
   "metadata": {},
   "outputs": [],
   "source": [
    "### Create the Stacked LSTM model\n",
    "from tensorflow.keras.models import Sequential\n",
    "from tensorflow.keras.layers import Dense\n",
    "from tensorflow.keras.layers import LSTM"
   ]
  },
  {
   "cell_type": "code",
   "execution_count": 33,
   "metadata": {},
   "outputs": [],
   "source": [
    "model=Sequential()\n",
    "model.add(LSTM(50,return_sequences=True,input_shape=(25,1)))\n",
    "model.add(LSTM(50,return_sequences=True))\n",
    "model.add(LSTM(50))\n",
    "model.add(Dense(1))\n",
    "model.compile(loss='mean_squared_error',optimizer='adam')\n"
   ]
  },
  {
   "cell_type": "code",
   "execution_count": 34,
   "metadata": {},
   "outputs": [
    {
     "name": "stdout",
     "output_type": "stream",
     "text": [
      "Model: \"sequential_1\"\n",
      "_________________________________________________________________\n",
      " Layer (type)                Output Shape              Param #   \n",
      "=================================================================\n",
      " lstm_3 (LSTM)               (None, 25, 50)            10400     \n",
      "                                                                 \n",
      " lstm_4 (LSTM)               (None, 25, 50)            20200     \n",
      "                                                                 \n",
      " lstm_5 (LSTM)               (None, 50)                20200     \n",
      "                                                                 \n",
      " dense_1 (Dense)             (None, 1)                 51        \n",
      "                                                                 \n",
      "=================================================================\n",
      "Total params: 50,851\n",
      "Trainable params: 50,851\n",
      "Non-trainable params: 0\n",
      "_________________________________________________________________\n"
     ]
    }
   ],
   "source": [
    "model.summary()"
   ]
  },
  {
   "cell_type": "code",
   "execution_count": 35,
   "metadata": {},
   "outputs": [
    {
     "name": "stdout",
     "output_type": "stream",
     "text": [
      "Epoch 1/100\n",
      "3/3 [==============================] - 4s 449ms/step - loss: 0.1305 - val_loss: 0.2990\n",
      "Epoch 2/100\n",
      "3/3 [==============================] - 0s 44ms/step - loss: 0.0466 - val_loss: 0.0203\n",
      "Epoch 3/100\n",
      "3/3 [==============================] - 0s 44ms/step - loss: 0.0155 - val_loss: 0.0318\n",
      "Epoch 4/100\n",
      "3/3 [==============================] - 0s 42ms/step - loss: 0.0196 - val_loss: 0.0205\n",
      "Epoch 5/100\n",
      "3/3 [==============================] - 0s 42ms/step - loss: 0.0081 - val_loss: 0.0705\n",
      "Epoch 6/100\n",
      "3/3 [==============================] - 0s 42ms/step - loss: 0.0139 - val_loss: 0.0797\n",
      "Epoch 7/100\n",
      "3/3 [==============================] - 0s 43ms/step - loss: 0.0128 - val_loss: 0.0454\n",
      "Epoch 8/100\n",
      "3/3 [==============================] - 0s 64ms/step - loss: 0.0080 - val_loss: 0.0162\n",
      "Epoch 9/100\n",
      "3/3 [==============================] - 0s 79ms/step - loss: 0.0087 - val_loss: 0.0104\n",
      "Epoch 10/100\n",
      "3/3 [==============================] - 0s 75ms/step - loss: 0.0098 - val_loss: 0.0144\n",
      "Epoch 11/100\n",
      "3/3 [==============================] - 0s 41ms/step - loss: 0.0074 - val_loss: 0.0303\n",
      "Epoch 12/100\n",
      "3/3 [==============================] - 0s 41ms/step - loss: 0.0076 - val_loss: 0.0389\n",
      "Epoch 13/100\n",
      "3/3 [==============================] - 0s 50ms/step - loss: 0.0082 - val_loss: 0.0311\n",
      "Epoch 14/100\n",
      "3/3 [==============================] - 0s 40ms/step - loss: 0.0071 - val_loss: 0.0171\n",
      "Epoch 15/100\n",
      "3/3 [==============================] - 0s 41ms/step - loss: 0.0066 - val_loss: 0.0113\n",
      "Epoch 16/100\n",
      "3/3 [==============================] - 0s 40ms/step - loss: 0.0067 - val_loss: 0.0117\n",
      "Epoch 17/100\n",
      "3/3 [==============================] - 0s 39ms/step - loss: 0.0063 - val_loss: 0.0148\n",
      "Epoch 18/100\n",
      "3/3 [==============================] - 0s 40ms/step - loss: 0.0060 - val_loss: 0.0157\n",
      "Epoch 19/100\n",
      "3/3 [==============================] - 0s 42ms/step - loss: 0.0060 - val_loss: 0.0138\n",
      "Epoch 20/100\n",
      "3/3 [==============================] - 0s 57ms/step - loss: 0.0059 - val_loss: 0.0108\n",
      "Epoch 21/100\n",
      "3/3 [==============================] - 0s 41ms/step - loss: 0.0058 - val_loss: 0.0100\n",
      "Epoch 22/100\n",
      "3/3 [==============================] - 0s 71ms/step - loss: 0.0057 - val_loss: 0.0107\n",
      "Epoch 23/100\n",
      "3/3 [==============================] - 0s 48ms/step - loss: 0.0056 - val_loss: 0.0111\n",
      "Epoch 24/100\n",
      "3/3 [==============================] - 0s 43ms/step - loss: 0.0056 - val_loss: 0.0109\n",
      "Epoch 25/100\n",
      "3/3 [==============================] - 0s 42ms/step - loss: 0.0055 - val_loss: 0.0096\n",
      "Epoch 26/100\n",
      "3/3 [==============================] - 0s 67ms/step - loss: 0.0054 - val_loss: 0.0095\n",
      "Epoch 27/100\n",
      "3/3 [==============================] - 0s 40ms/step - loss: 0.0054 - val_loss: 0.0095\n",
      "Epoch 28/100\n",
      "3/3 [==============================] - 0s 70ms/step - loss: 0.0052 - val_loss: 0.0103\n",
      "Epoch 29/100\n",
      "3/3 [==============================] - 0s 73ms/step - loss: 0.0052 - val_loss: 0.0110\n",
      "Epoch 30/100\n",
      "3/3 [==============================] - 0s 74ms/step - loss: 0.0052 - val_loss: 0.0104\n",
      "Epoch 31/100\n",
      "3/3 [==============================] - 0s 43ms/step - loss: 0.0051 - val_loss: 0.0095\n",
      "Epoch 32/100\n",
      "3/3 [==============================] - 0s 42ms/step - loss: 0.0050 - val_loss: 0.0097\n",
      "Epoch 33/100\n",
      "3/3 [==============================] - 0s 51ms/step - loss: 0.0049 - val_loss: 0.0112\n",
      "Epoch 34/100\n",
      "3/3 [==============================] - 0s 43ms/step - loss: 0.0049 - val_loss: 0.0099\n",
      "Epoch 35/100\n",
      "3/3 [==============================] - 0s 42ms/step - loss: 0.0047 - val_loss: 0.0092\n",
      "Epoch 36/100\n",
      "3/3 [==============================] - 0s 42ms/step - loss: 0.0048 - val_loss: 0.0094\n",
      "Epoch 37/100\n",
      "3/3 [==============================] - 0s 42ms/step - loss: 0.0047 - val_loss: 0.0102\n",
      "Epoch 38/100\n",
      "3/3 [==============================] - 0s 42ms/step - loss: 0.0044 - val_loss: 0.0091\n",
      "Epoch 39/100\n",
      "3/3 [==============================] - 0s 42ms/step - loss: 0.0045 - val_loss: 0.0093\n",
      "Epoch 40/100\n",
      "3/3 [==============================] - 0s 41ms/step - loss: 0.0044 - val_loss: 0.0120\n",
      "Epoch 41/100\n",
      "3/3 [==============================] - 0s 41ms/step - loss: 0.0043 - val_loss: 0.0098\n",
      "Epoch 42/100\n",
      "3/3 [==============================] - 0s 47ms/step - loss: 0.0042 - val_loss: 0.0094\n",
      "Epoch 43/100\n",
      "3/3 [==============================] - 0s 70ms/step - loss: 0.0041 - val_loss: 0.0106\n",
      "Epoch 44/100\n",
      "3/3 [==============================] - 0s 45ms/step - loss: 0.0040 - val_loss: 0.0106\n",
      "Epoch 45/100\n",
      "3/3 [==============================] - 0s 60ms/step - loss: 0.0039 - val_loss: 0.0098\n",
      "Epoch 46/100\n",
      "3/3 [==============================] - 0s 40ms/step - loss: 0.0039 - val_loss: 0.0099\n",
      "Epoch 47/100\n",
      "3/3 [==============================] - 0s 42ms/step - loss: 0.0038 - val_loss: 0.0125\n",
      "Epoch 48/100\n",
      "3/3 [==============================] - 0s 63ms/step - loss: 0.0037 - val_loss: 0.0100\n",
      "Epoch 49/100\n",
      "3/3 [==============================] - 0s 42ms/step - loss: 0.0036 - val_loss: 0.0103\n",
      "Epoch 50/100\n",
      "3/3 [==============================] - 0s 46ms/step - loss: 0.0036 - val_loss: 0.0121\n",
      "Epoch 51/100\n",
      "3/3 [==============================] - 0s 39ms/step - loss: 0.0038 - val_loss: 0.0129\n",
      "Epoch 52/100\n",
      "3/3 [==============================] - 0s 41ms/step - loss: 0.0035 - val_loss: 0.0102\n",
      "Epoch 53/100\n",
      "3/3 [==============================] - 0s 47ms/step - loss: 0.0036 - val_loss: 0.0146\n",
      "Epoch 54/100\n",
      "3/3 [==============================] - 0s 41ms/step - loss: 0.0036 - val_loss: 0.0142\n",
      "Epoch 55/100\n",
      "3/3 [==============================] - 0s 48ms/step - loss: 0.0035 - val_loss: 0.0105\n",
      "Epoch 56/100\n",
      "3/3 [==============================] - 0s 41ms/step - loss: 0.0036 - val_loss: 0.0157\n",
      "Epoch 57/100\n",
      "3/3 [==============================] - 0s 42ms/step - loss: 0.0033 - val_loss: 0.0095\n",
      "Epoch 58/100\n",
      "3/3 [==============================] - 0s 41ms/step - loss: 0.0040 - val_loss: 0.0143\n",
      "Epoch 59/100\n",
      "3/3 [==============================] - 0s 53ms/step - loss: 0.0037 - val_loss: 0.0189\n",
      "Epoch 60/100\n",
      "3/3 [==============================] - 0s 42ms/step - loss: 0.0035 - val_loss: 0.0092\n",
      "Epoch 61/100\n",
      "3/3 [==============================] - 0s 41ms/step - loss: 0.0037 - val_loss: 0.0158\n",
      "Epoch 62/100\n",
      "3/3 [==============================] - 0s 41ms/step - loss: 0.0036 - val_loss: 0.0155\n",
      "Epoch 63/100\n",
      "3/3 [==============================] - 0s 42ms/step - loss: 0.0035 - val_loss: 0.0092\n",
      "Epoch 64/100\n",
      "3/3 [==============================] - 0s 42ms/step - loss: 0.0035 - val_loss: 0.0144\n",
      "Epoch 65/100\n",
      "3/3 [==============================] - 0s 42ms/step - loss: 0.0033 - val_loss: 0.0101\n",
      "Epoch 66/100\n",
      "3/3 [==============================] - 0s 40ms/step - loss: 0.0034 - val_loss: 0.0097\n",
      "Epoch 67/100\n",
      "3/3 [==============================] - 0s 40ms/step - loss: 0.0036 - val_loss: 0.0145\n",
      "Epoch 68/100\n",
      "3/3 [==============================] - 0s 37ms/step - loss: 0.0033 - val_loss: 0.0087\n",
      "Epoch 69/100\n",
      "3/3 [==============================] - 0s 40ms/step - loss: 0.0035 - val_loss: 0.0115\n",
      "Epoch 70/100\n",
      "3/3 [==============================] - 0s 44ms/step - loss: 0.0032 - val_loss: 0.0175\n",
      "Epoch 71/100\n",
      "3/3 [==============================] - 0s 43ms/step - loss: 0.0034 - val_loss: 0.0097\n",
      "Epoch 72/100\n",
      "3/3 [==============================] - 0s 41ms/step - loss: 0.0032 - val_loss: 0.0095\n",
      "Epoch 73/100\n",
      "3/3 [==============================] - 0s 43ms/step - loss: 0.0031 - val_loss: 0.0136\n",
      "Epoch 74/100\n",
      "3/3 [==============================] - 0s 42ms/step - loss: 0.0031 - val_loss: 0.0124\n",
      "Epoch 75/100\n",
      "3/3 [==============================] - 0s 39ms/step - loss: 0.0030 - val_loss: 0.0130\n",
      "Epoch 76/100\n",
      "3/3 [==============================] - 0s 42ms/step - loss: 0.0030 - val_loss: 0.0149\n",
      "Epoch 77/100\n",
      "3/3 [==============================] - 0s 42ms/step - loss: 0.0030 - val_loss: 0.0121\n",
      "Epoch 78/100\n",
      "3/3 [==============================] - 0s 42ms/step - loss: 0.0030 - val_loss: 0.0114\n",
      "Epoch 79/100\n",
      "3/3 [==============================] - 0s 41ms/step - loss: 0.0030 - val_loss: 0.0121\n",
      "Epoch 80/100\n",
      "3/3 [==============================] - 0s 45ms/step - loss: 0.0029 - val_loss: 0.0105\n",
      "Epoch 81/100\n",
      "3/3 [==============================] - 0s 43ms/step - loss: 0.0029 - val_loss: 0.0143\n",
      "Epoch 82/100\n",
      "3/3 [==============================] - 0s 43ms/step - loss: 0.0030 - val_loss: 0.0124\n",
      "Epoch 83/100\n",
      "3/3 [==============================] - 0s 55ms/step - loss: 0.0029 - val_loss: 0.0090\n",
      "Epoch 84/100\n",
      "3/3 [==============================] - 0s 40ms/step - loss: 0.0029 - val_loss: 0.0158\n",
      "Epoch 85/100\n",
      "3/3 [==============================] - 0s 44ms/step - loss: 0.0032 - val_loss: 0.0143\n",
      "Epoch 86/100\n",
      "3/3 [==============================] - 0s 39ms/step - loss: 0.0030 - val_loss: 0.0084\n",
      "Epoch 87/100\n",
      "3/3 [==============================] - 0s 39ms/step - loss: 0.0031 - val_loss: 0.0176\n",
      "Epoch 88/100\n",
      "3/3 [==============================] - 0s 41ms/step - loss: 0.0030 - val_loss: 0.0141\n",
      "Epoch 89/100\n",
      "3/3 [==============================] - 0s 38ms/step - loss: 0.0028 - val_loss: 0.0092\n",
      "Epoch 90/100\n",
      "3/3 [==============================] - 0s 43ms/step - loss: 0.0029 - val_loss: 0.0142\n",
      "Epoch 91/100\n",
      "3/3 [==============================] - 0s 42ms/step - loss: 0.0028 - val_loss: 0.0162\n",
      "Epoch 92/100\n",
      "3/3 [==============================] - 0s 76ms/step - loss: 0.0028 - val_loss: 0.0099\n",
      "Epoch 93/100\n",
      "3/3 [==============================] - 0s 47ms/step - loss: 0.0027 - val_loss: 0.0093\n",
      "Epoch 94/100\n",
      "3/3 [==============================] - 0s 48ms/step - loss: 0.0027 - val_loss: 0.0104\n",
      "Epoch 95/100\n",
      "3/3 [==============================] - 0s 48ms/step - loss: 0.0026 - val_loss: 0.0126\n",
      "Epoch 96/100\n",
      "3/3 [==============================] - 0s 47ms/step - loss: 0.0027 - val_loss: 0.0103\n",
      "Epoch 97/100\n",
      "3/3 [==============================] - 0s 49ms/step - loss: 0.0027 - val_loss: 0.0093\n",
      "Epoch 98/100\n",
      "3/3 [==============================] - 0s 60ms/step - loss: 0.0025 - val_loss: 0.0144\n",
      "Epoch 99/100\n",
      "3/3 [==============================] - 0s 51ms/step - loss: 0.0027 - val_loss: 0.0107\n",
      "Epoch 100/100\n",
      "3/3 [==============================] - 0s 48ms/step - loss: 0.0026 - val_loss: 0.0080\n"
     ]
    },
    {
     "data": {
      "text/plain": [
       "<keras.callbacks.History at 0x26ccaf77eb0>"
      ]
     },
     "execution_count": 35,
     "metadata": {},
     "output_type": "execute_result"
    }
   ],
   "source": [
    "model.fit(X_train,y_train,validation_data=(X_test,ytest),epochs=100,batch_size=64,verbose=1)"
   ]
  },
  {
   "cell_type": "code",
   "execution_count": 36,
   "metadata": {},
   "outputs": [],
   "source": [
    "import tensorflow as tf"
   ]
  },
  {
   "cell_type": "code",
   "execution_count": 37,
   "metadata": {},
   "outputs": [
    {
     "data": {
      "text/plain": [
       "'2.8.0'"
      ]
     },
     "execution_count": 37,
     "metadata": {},
     "output_type": "execute_result"
    }
   ],
   "source": [
    "tf.__version__"
   ]
  },
  {
   "cell_type": "code",
   "execution_count": 38,
   "metadata": {},
   "outputs": [],
   "source": [
    "### Lets Do the prediction and check performance metrics\n",
    "train_predict=model.predict(X_train)\n",
    "test_predict=model.predict(X_test)"
   ]
  },
  {
   "cell_type": "code",
   "execution_count": 91,
   "metadata": {},
   "outputs": [
    {
     "data": {
      "text/plain": [
       "(151, 1)"
      ]
     },
     "execution_count": 91,
     "metadata": {},
     "output_type": "execute_result"
    }
   ],
   "source": [
    "train_predict.shape"
   ]
  },
  {
   "cell_type": "code",
   "execution_count": 92,
   "metadata": {},
   "outputs": [],
   "source": [
    "##Transformback to original form\n",
    "train_predict=scaler.inverse_transform(train_predict)\n",
    "test_predict=scaler.inverse_transform(test_predict)"
   ]
  },
  {
   "cell_type": "code",
   "execution_count": 40,
   "metadata": {},
   "outputs": [
    {
     "data": {
      "text/plain": [
       "142.07302538234993"
      ]
     },
     "execution_count": 40,
     "metadata": {},
     "output_type": "execute_result"
    }
   ],
   "source": [
    "### Calculate RMSE performance metrics\n",
    "import math\n",
    "from sklearn.metrics import mean_squared_error\n",
    "math.sqrt(mean_squared_error(y_train,train_predict))"
   ]
  },
  {
   "cell_type": "code",
   "execution_count": 41,
   "metadata": {},
   "outputs": [
    {
     "data": {
      "text/plain": [
       "166.12840354154233"
      ]
     },
     "execution_count": 41,
     "metadata": {},
     "output_type": "execute_result"
    }
   ],
   "source": [
    "### Test Data RMSE\n",
    "math.sqrt(mean_squared_error(ytest,test_predict))"
   ]
  },
  {
   "cell_type": "code",
   "execution_count": 42,
   "metadata": {},
   "outputs": [
    {
     "ename": "ValueError",
     "evalue": "could not broadcast input array from shape (50,1) into shape (0,1)",
     "output_type": "error",
     "traceback": [
      "\u001b[1;31m---------------------------------------------------------------------------\u001b[0m",
      "\u001b[1;31mValueError\u001b[0m                                Traceback (most recent call last)",
      "\u001b[1;32m~\\AppData\\Local\\Temp/ipykernel_4636/1195469339.py\u001b[0m in \u001b[0;36m<module>\u001b[1;34m\u001b[0m\n\u001b[0;32m      8\u001b[0m \u001b[0mtestPredictPlot\u001b[0m \u001b[1;33m=\u001b[0m \u001b[0mnumpy\u001b[0m\u001b[1;33m.\u001b[0m\u001b[0mempty_like\u001b[0m\u001b[1;33m(\u001b[0m\u001b[0mdf1\u001b[0m\u001b[1;33m)\u001b[0m\u001b[1;33m\u001b[0m\u001b[1;33m\u001b[0m\u001b[0m\n\u001b[0;32m      9\u001b[0m \u001b[0mtestPredictPlot\u001b[0m\u001b[1;33m[\u001b[0m\u001b[1;33m:\u001b[0m\u001b[1;33m,\u001b[0m \u001b[1;33m:\u001b[0m\u001b[1;33m]\u001b[0m \u001b[1;33m=\u001b[0m \u001b[0mnumpy\u001b[0m\u001b[1;33m.\u001b[0m\u001b[0mnan\u001b[0m\u001b[1;33m\u001b[0m\u001b[1;33m\u001b[0m\u001b[0m\n\u001b[1;32m---> 10\u001b[1;33m \u001b[0mtestPredictPlot\u001b[0m\u001b[1;33m[\u001b[0m\u001b[0mlen\u001b[0m\u001b[1;33m(\u001b[0m\u001b[0mtrain_predict\u001b[0m\u001b[1;33m)\u001b[0m\u001b[1;33m+\u001b[0m\u001b[1;33m(\u001b[0m\u001b[0mlook_back\u001b[0m\u001b[1;33m*\u001b[0m\u001b[1;36m2\u001b[0m\u001b[1;33m)\u001b[0m\u001b[1;33m+\u001b[0m\u001b[1;36m1\u001b[0m\u001b[1;33m:\u001b[0m\u001b[0mlen\u001b[0m\u001b[1;33m(\u001b[0m\u001b[0mdf1\u001b[0m\u001b[1;33m)\u001b[0m\u001b[1;33m-\u001b[0m\u001b[1;36m1\u001b[0m\u001b[1;33m,\u001b[0m \u001b[1;33m:\u001b[0m\u001b[1;33m]\u001b[0m \u001b[1;33m=\u001b[0m \u001b[0mtest_predict\u001b[0m\u001b[1;33m\u001b[0m\u001b[1;33m\u001b[0m\u001b[0m\n\u001b[0m\u001b[0;32m     11\u001b[0m \u001b[1;31m# plot baseline and predictions\u001b[0m\u001b[1;33m\u001b[0m\u001b[1;33m\u001b[0m\u001b[0m\n\u001b[0;32m     12\u001b[0m \u001b[0mplt\u001b[0m\u001b[1;33m.\u001b[0m\u001b[0mplot\u001b[0m\u001b[1;33m(\u001b[0m\u001b[0mscaler\u001b[0m\u001b[1;33m.\u001b[0m\u001b[0minverse_transform\u001b[0m\u001b[1;33m(\u001b[0m\u001b[0mdf1\u001b[0m\u001b[1;33m)\u001b[0m\u001b[1;33m)\u001b[0m\u001b[1;33m\u001b[0m\u001b[1;33m\u001b[0m\u001b[0m\n",
      "\u001b[1;31mValueError\u001b[0m: could not broadcast input array from shape (50,1) into shape (0,1)"
     ]
    }
   ],
   "source": [
    "### Plotting \n",
    "# shift train predictions for plotting\n",
    "look_back=100\n",
    "trainPredictPlot = numpy.empty_like(df1)\n",
    "trainPredictPlot[:, :] = np.nan\n",
    "trainPredictPlot[look_back:len(train_predict)+look_back, :] = train_predict\n",
    "# shift test predictions for plotting\n",
    "testPredictPlot = numpy.empty_like(df1)\n",
    "testPredictPlot[:, :] = numpy.nan\n",
    "testPredictPlot[len(train_predict)+(look_back*2)+1:len(df1)-1, :] = test_predict\n",
    "# plot baseline and predictions\n",
    "plt.plot(scaler.inverse_transform(df1))\n",
    "plt.plot(trainPredictPlot)\n",
    "plt.plot(testPredictPlot)\n",
    "plt.show()"
   ]
  },
  {
   "cell_type": "code",
   "execution_count": 43,
   "metadata": {},
   "outputs": [
    {
     "data": {
      "text/plain": [
       "76"
      ]
     },
     "execution_count": 43,
     "metadata": {},
     "output_type": "execute_result"
    }
   ],
   "source": [
    "len(test_data)"
   ]
  },
  {
   "cell_type": "code",
   "execution_count": 45,
   "metadata": {},
   "outputs": [
    {
     "data": {
      "text/plain": [
       "(1, 25)"
      ]
     },
     "execution_count": 45,
     "metadata": {},
     "output_type": "execute_result"
    }
   ],
   "source": [
    "x_input=test_data[51:].reshape(1,-1)\n",
    "x_input.shape\n"
   ]
  },
  {
   "cell_type": "code",
   "execution_count": 46,
   "metadata": {},
   "outputs": [],
   "source": [
    "temp_input=list(x_input)\n",
    "temp_input=temp_input[0].tolist()"
   ]
  },
  {
   "cell_type": "code",
   "execution_count": 47,
   "metadata": {},
   "outputs": [
    {
     "data": {
      "text/plain": [
       "[0.8333602935682183,\n",
       " 0.8843987472354085,\n",
       " 0.9077443785897705,\n",
       " 0.8407663642789329,\n",
       " 0.7847367975069643,\n",
       " 0.788601006604525,\n",
       " 0.8515536461258335,\n",
       " 0.847689694635773,\n",
       " 0.788601006604525,\n",
       " 0.7631622338131641,\n",
       " 0.7151829014052538,\n",
       " 0.6467559093107609,\n",
       " 0.6897441286138928,\n",
       " 0.7237161337306863,\n",
       " 0.7280630831821215,\n",
       " 0.6971502154250764,\n",
       " 0.7512478064520149,\n",
       " 0.745934619570799,\n",
       " 0.6966672174637016,\n",
       " 0.6343584839882366,\n",
       " 0.604411596053472,\n",
       " 0.6931250982430475,\n",
       " 0.6218001344807751,\n",
       " 0.5607792291974658,\n",
       " 0.5607792291974658]"
      ]
     },
     "execution_count": 47,
     "metadata": {},
     "output_type": "execute_result"
    }
   ],
   "source": [
    "temp_input"
   ]
  },
  {
   "cell_type": "code",
   "execution_count": 58,
   "metadata": {},
   "outputs": [
    {
     "name": "stdout",
     "output_type": "stream",
     "text": [
      "0 day input [0.56857085 0.56506705 0.56211936 0.55977386 0.5581075  0.5568738\n",
      " 0.55611283 0.55588514 0.55569202 0.55554783 0.55556118 0.55586392\n",
      " 0.55606455 0.55638725 0.55699015 0.55790514 0.55898541 0.55972689\n",
      " 0.56076533 0.56206465 0.56337827 0.56446695 0.56560558 0.56678331\n",
      " 0.56798357]\n",
      "0 day output [[0.56919026]]\n",
      "1 day input [0.56506705 0.56211936 0.55977386 0.5581075  0.5568738  0.55611283\n",
      " 0.55588514 0.55569202 0.55554783 0.55556118 0.55586392 0.55606455\n",
      " 0.55638725 0.55699015 0.55790514 0.55898541 0.55972689 0.56076533\n",
      " 0.56206465 0.56337827 0.56446695 0.56560558 0.56678331 0.56798357\n",
      " 0.56919026]\n",
      "1 day output [[0.5703906]]\n",
      "2 day input [0.56211936 0.55977386 0.5581075  0.5568738  0.55611283 0.55588514\n",
      " 0.55569202 0.55554783 0.55556118 0.55586392 0.55606455 0.55638725\n",
      " 0.55699015 0.55790514 0.55898541 0.55972689 0.56076533 0.56206465\n",
      " 0.56337827 0.56446695 0.56560558 0.56678331 0.56798357 0.56919026\n",
      " 0.57039058]\n",
      "2 day output [[0.5715755]]\n",
      "3 day input [0.55977386 0.5581075  0.5568738  0.55611283 0.55588514 0.55569202\n",
      " 0.55554783 0.55556118 0.55586392 0.55606455 0.55638725 0.55699015\n",
      " 0.55790514 0.55898541 0.55972689 0.56076533 0.56206465 0.56337827\n",
      " 0.56446695 0.56560558 0.56678331 0.56798357 0.56919026 0.57039058\n",
      " 0.57157552]\n",
      "3 day output [[0.5727399]]\n",
      "4 day input [0.5581075  0.5568738  0.55611283 0.55588514 0.55569202 0.55554783\n",
      " 0.55556118 0.55586392 0.55606455 0.55638725 0.55699015 0.55790514\n",
      " 0.55898541 0.55972689 0.56076533 0.56206465 0.56337827 0.56446695\n",
      " 0.56560558 0.56678331 0.56798357 0.56919026 0.57039058 0.57157552\n",
      " 0.5727399 ]\n",
      "4 day output [[0.57387954]]\n",
      "[[0.569190263748169], [0.5703905820846558], [0.5715755224227905], [0.5727398991584778], [0.5738795399665833]]\n"
     ]
    }
   ],
   "source": [
    "# demonstrate prediction for next 10 days\n",
    "from numpy import array\n",
    "\n",
    "lst_output=[]\n",
    "n_steps=25\n",
    "i=0\n",
    "while(i<5):\n",
    "    \n",
    "    if(len(temp_input)>25):\n",
    "        #print(temp_input)\n",
    "        x_input=np.array(temp_input[1:])\n",
    "        print(\"{} day input {}\".format(i,x_input))\n",
    "        x_input=x_input.reshape(1,-1)\n",
    "        x_input = x_input.reshape((1, n_steps, 1))\n",
    "        #print(x_input)\n",
    "        yhat = model.predict(x_input, verbose=0)\n",
    "        print(\"{} day output {}\".format(i,yhat))\n",
    "        temp_input.extend(yhat[0].tolist())\n",
    "        temp_input=temp_input[1:]\n",
    "        #print(temp_input)\n",
    "        lst_output.extend(yhat.tolist())\n",
    "        i=i+1\n",
    "    else:\n",
    "        x_input = x_input.reshape((1, n_steps,1))\n",
    "        yhat = model.predict(x_input, verbose=0)\n",
    "        print(yhat[0])\n",
    "        temp_input.extend(yhat[0].tolist())\n",
    "        print(len(temp_input))\n",
    "        lst_output.extend(yhat.tolist())\n",
    "        i=i+1\n",
    "    \n",
    "\n",
    "print(lst_output)"
   ]
  },
  {
   "cell_type": "code",
   "execution_count": 59,
   "metadata": {},
   "outputs": [],
   "source": [
    "day_new=np.arange(1,26)\n",
    "day_pred=np.arange(26,31)"
   ]
  },
  {
   "cell_type": "code",
   "execution_count": 60,
   "metadata": {},
   "outputs": [],
   "source": [
    "import matplotlib.pyplot as plt"
   ]
  },
  {
   "cell_type": "code",
   "execution_count": 61,
   "metadata": {},
   "outputs": [
    {
     "data": {
      "text/plain": [
       "253"
      ]
     },
     "execution_count": 61,
     "metadata": {},
     "output_type": "execute_result"
    }
   ],
   "source": [
    "len(df1)"
   ]
  },
  {
   "cell_type": "code",
   "execution_count": 62,
   "metadata": {},
   "outputs": [
    {
     "data": {
      "text/plain": [
       "[<matplotlib.lines.Line2D at 0x26cd75f8b50>]"
      ]
     },
     "execution_count": 62,
     "metadata": {},
     "output_type": "execute_result"
    },
    {
     "data": {
      "image/png": "[encoded data removed]",
      "text/plain": [
       "<Figure size 432x288 with 1 Axes>"
      ]
     },
     "metadata": {
      "needs_background": "light"
     },
     "output_type": "display_data"
    }
   ],
   "source": [
    "plt.plot(day_new,scaler.inverse_transform(df1[228:]))\n",
    "plt.plot(day_pred,scaler.inverse_transform(lst_output))"
   ]
  },
  {
   "cell_type": "code",
   "execution_count": 66,
   "metadata": {},
   "outputs": [
    {
     "data": {
      "text/plain": [
       "array([[155.2524053 ],\n",
       "       [155.32695706],\n",
       "       [155.4005537 ],\n",
       "       [155.47287313],\n",
       "       [155.54365621]])"
      ]
     },
     "execution_count": 66,
     "metadata": {},
     "output_type": "execute_result"
    }
   ],
   "source": [
    "otp=scaler.inverse_transform(lst_output)\n",
    "otp"
   ]
  },
  {
   "cell_type": "code",
   "execution_count": 63,
   "metadata": {},
   "outputs": [
    {
     "data": {
      "text/plain": [
       "[<matplotlib.lines.Line2D at 0x26cd75cad60>]"
      ]
     },
     "execution_count": 63,
     "metadata": {},
     "output_type": "execute_result"
    },
    {
     "data": {
      "image/png": "[encoded data removed]",
      "text/plain": [
       "<Figure size 432x288 with 1 Axes>"
      ]
     },
     "metadata": {
      "needs_background": "light"
     },
     "output_type": "display_data"
    }
   ],
   "source": [
    "df3=df1.tolist()\n",
    "df3.extend(lst_output)\n",
    "plt.plot(df3[228:])"
   ]
  },
  {
   "cell_type": "code",
   "execution_count": 64,
   "metadata": {},
   "outputs": [],
   "source": [
    "df3=scaler.inverse_transform(df3).tolist()"
   ]
  },
  {
   "cell_type": "code",
   "execution_count": 65,
   "metadata": {},
   "outputs": [
    {
     "data": {
      "text/plain": [
       "[<matplotlib.lines.Line2D at 0x26cd7618ac0>]"
      ]
     },
     "execution_count": 65,
     "metadata": {},
     "output_type": "execute_result"
    },
    {
     "data": {
      "image/png": "[encoded data removed]",
      "text/plain": [
       "<Figure size 432x288 with 1 Axes>"
      ]
     },
     "metadata": {
      "needs_background": "light"
     },
     "output_type": "display_data"
    }
   ],
   "source": [
    "plt.plot(df3)"
   ]
  },
  {
   "cell_type": "code",
   "execution_count": null,
   "metadata": {},
   "outputs": [],
   "source": []
  }
 ],
 "metadata": {
  "kernelspec": {
   "display_name": "Python 3 (ipykernel)",
   "language": "python",
   "name": "python3"
  },
  "language_info": {
   "codemirror_mode": {
    "name": "ipython",
    "version": 3
   },
   "file_extension": ".py",
   "mimetype": "text/x-python",
   "name": "python",
   "nbconvert_exporter": "python",
   "pygments_lexer": "ipython3",
   "version": "3.9.7"
  }
 },
 "nbformat": 4,
 "nbformat_minor": 2
}
